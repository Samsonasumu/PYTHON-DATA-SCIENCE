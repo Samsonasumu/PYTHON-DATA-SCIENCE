{
  "nbformat": 4,
  "nbformat_minor": 0,
  "metadata": {
    "colab": {
      "provenance": []
    },
    "kernelspec": {
      "name": "python3",
      "display_name": "Python 3"
    },
    "language_info": {
      "name": "python"
    }
  },
  "cells": [
    {
      "cell_type": "code",
      "execution_count": 79,
      "metadata": {
        "id": "BYJ-_jimXwHp"
      },
      "outputs": [],
      "source": [
        "\n",
        "import pandas as pd\n",
        "import numpy as np\n",
        "import seaborn as sns\n",
        "import matplotlib.pyplot as plt\n",
        "%matplotlib inline"
      ]
    },
    {
      "cell_type": "code",
      "source": [
        "path = '/content/Franchises Dataset.xlsx'\n",
        "df = pd.read_excel(path)\n",
        "df.head()"
      ],
      "metadata": {
        "colab": {
          "base_uri": "https://localhost:8080/",
          "height": 206
        },
        "id": "WWFYmNNlX8-v",
        "outputId": "e9101500-d4c2-4827-8b13-6b5ad9b98c26"
      },
      "execution_count": 80,
      "outputs": [
        {
          "output_type": "execute_result",
          "data": {
            "text/plain": [
              "   Net Profit  Counter Sales  Drive-through Sales  number of customers  \\\n",
              "0         2.0            8.4                  7.7                  101   \n",
              "1         1.3            3.3                  4.5                   59   \n",
              "2         1.2            5.8                  8.4                  103   \n",
              "3         2.4           10.0                  7.8                  106   \n",
              "4         0.7            4.7                  2.4                   80   \n",
              "\n",
              "  Business Type  Location   \n",
              "0          Café  Vancouver  \n",
              "1          Café  Vancouver  \n",
              "2   Pizza Store   Richmond  \n",
              "3  Burger store   Richmond  \n",
              "4          Café   Richmond  "
            ],
            "text/html": [
              "\n",
              "  <div id=\"df-0633bfef-b0f2-4c90-8cfe-709813a69c93\" class=\"colab-df-container\">\n",
              "    <div>\n",
              "<style scoped>\n",
              "    .dataframe tbody tr th:only-of-type {\n",
              "        vertical-align: middle;\n",
              "    }\n",
              "\n",
              "    .dataframe tbody tr th {\n",
              "        vertical-align: top;\n",
              "    }\n",
              "\n",
              "    .dataframe thead th {\n",
              "        text-align: right;\n",
              "    }\n",
              "</style>\n",
              "<table border=\"1\" class=\"dataframe\">\n",
              "  <thead>\n",
              "    <tr style=\"text-align: right;\">\n",
              "      <th></th>\n",
              "      <th>Net Profit</th>\n",
              "      <th>Counter Sales</th>\n",
              "      <th>Drive-through Sales</th>\n",
              "      <th>number of customers</th>\n",
              "      <th>Business Type</th>\n",
              "      <th>Location</th>\n",
              "    </tr>\n",
              "  </thead>\n",
              "  <tbody>\n",
              "    <tr>\n",
              "      <th>0</th>\n",
              "      <td>2.0</td>\n",
              "      <td>8.4</td>\n",
              "      <td>7.7</td>\n",
              "      <td>101</td>\n",
              "      <td>Café</td>\n",
              "      <td>Vancouver</td>\n",
              "    </tr>\n",
              "    <tr>\n",
              "      <th>1</th>\n",
              "      <td>1.3</td>\n",
              "      <td>3.3</td>\n",
              "      <td>4.5</td>\n",
              "      <td>59</td>\n",
              "      <td>Café</td>\n",
              "      <td>Vancouver</td>\n",
              "    </tr>\n",
              "    <tr>\n",
              "      <th>2</th>\n",
              "      <td>1.2</td>\n",
              "      <td>5.8</td>\n",
              "      <td>8.4</td>\n",
              "      <td>103</td>\n",
              "      <td>Pizza Store</td>\n",
              "      <td>Richmond</td>\n",
              "    </tr>\n",
              "    <tr>\n",
              "      <th>3</th>\n",
              "      <td>2.4</td>\n",
              "      <td>10.0</td>\n",
              "      <td>7.8</td>\n",
              "      <td>106</td>\n",
              "      <td>Burger store</td>\n",
              "      <td>Richmond</td>\n",
              "    </tr>\n",
              "    <tr>\n",
              "      <th>4</th>\n",
              "      <td>0.7</td>\n",
              "      <td>4.7</td>\n",
              "      <td>2.4</td>\n",
              "      <td>80</td>\n",
              "      <td>Café</td>\n",
              "      <td>Richmond</td>\n",
              "    </tr>\n",
              "  </tbody>\n",
              "</table>\n",
              "</div>\n",
              "    <div class=\"colab-df-buttons\">\n",
              "\n",
              "  <div class=\"colab-df-container\">\n",
              "    <button class=\"colab-df-convert\" onclick=\"convertToInteractive('df-0633bfef-b0f2-4c90-8cfe-709813a69c93')\"\n",
              "            title=\"Convert this dataframe to an interactive table.\"\n",
              "            style=\"display:none;\">\n",
              "\n",
              "  <svg xmlns=\"http://www.w3.org/2000/svg\" height=\"24px\" viewBox=\"0 -960 960 960\">\n",
              "    <path d=\"M120-120v-720h720v720H120Zm60-500h600v-160H180v160Zm220 220h160v-160H400v160Zm0 220h160v-160H400v160ZM180-400h160v-160H180v160Zm440 0h160v-160H620v160ZM180-180h160v-160H180v160Zm440 0h160v-160H620v160Z\"/>\n",
              "  </svg>\n",
              "    </button>\n",
              "\n",
              "  <style>\n",
              "    .colab-df-container {\n",
              "      display:flex;\n",
              "      gap: 12px;\n",
              "    }\n",
              "\n",
              "    .colab-df-convert {\n",
              "      background-color: #E8F0FE;\n",
              "      border: none;\n",
              "      border-radius: 50%;\n",
              "      cursor: pointer;\n",
              "      display: none;\n",
              "      fill: #1967D2;\n",
              "      height: 32px;\n",
              "      padding: 0 0 0 0;\n",
              "      width: 32px;\n",
              "    }\n",
              "\n",
              "    .colab-df-convert:hover {\n",
              "      background-color: #E2EBFA;\n",
              "      box-shadow: 0px 1px 2px rgba(60, 64, 67, 0.3), 0px 1px 3px 1px rgba(60, 64, 67, 0.15);\n",
              "      fill: #174EA6;\n",
              "    }\n",
              "\n",
              "    .colab-df-buttons div {\n",
              "      margin-bottom: 4px;\n",
              "    }\n",
              "\n",
              "    [theme=dark] .colab-df-convert {\n",
              "      background-color: #3B4455;\n",
              "      fill: #D2E3FC;\n",
              "    }\n",
              "\n",
              "    [theme=dark] .colab-df-convert:hover {\n",
              "      background-color: #434B5C;\n",
              "      box-shadow: 0px 1px 3px 1px rgba(0, 0, 0, 0.15);\n",
              "      filter: drop-shadow(0px 1px 2px rgba(0, 0, 0, 0.3));\n",
              "      fill: #FFFFFF;\n",
              "    }\n",
              "  </style>\n",
              "\n",
              "    <script>\n",
              "      const buttonEl =\n",
              "        document.querySelector('#df-0633bfef-b0f2-4c90-8cfe-709813a69c93 button.colab-df-convert');\n",
              "      buttonEl.style.display =\n",
              "        google.colab.kernel.accessAllowed ? 'block' : 'none';\n",
              "\n",
              "      async function convertToInteractive(key) {\n",
              "        const element = document.querySelector('#df-0633bfef-b0f2-4c90-8cfe-709813a69c93');\n",
              "        const dataTable =\n",
              "          await google.colab.kernel.invokeFunction('convertToInteractive',\n",
              "                                                    [key], {});\n",
              "        if (!dataTable) return;\n",
              "\n",
              "        const docLinkHtml = 'Like what you see? Visit the ' +\n",
              "          '<a target=\"_blank\" href=https://colab.research.google.com/notebooks/data_table.ipynb>data table notebook</a>'\n",
              "          + ' to learn more about interactive tables.';\n",
              "        element.innerHTML = '';\n",
              "        dataTable['output_type'] = 'display_data';\n",
              "        await google.colab.output.renderOutput(dataTable, element);\n",
              "        const docLink = document.createElement('div');\n",
              "        docLink.innerHTML = docLinkHtml;\n",
              "        element.appendChild(docLink);\n",
              "      }\n",
              "    </script>\n",
              "  </div>\n",
              "\n",
              "\n",
              "<div id=\"df-0c2445d7-dd86-4e50-accc-1f0012df66ce\">\n",
              "  <button class=\"colab-df-quickchart\" onclick=\"quickchart('df-0c2445d7-dd86-4e50-accc-1f0012df66ce')\"\n",
              "            title=\"Suggest charts\"\n",
              "            style=\"display:none;\">\n",
              "\n",
              "<svg xmlns=\"http://www.w3.org/2000/svg\" height=\"24px\"viewBox=\"0 0 24 24\"\n",
              "     width=\"24px\">\n",
              "    <g>\n",
              "        <path d=\"M19 3H5c-1.1 0-2 .9-2 2v14c0 1.1.9 2 2 2h14c1.1 0 2-.9 2-2V5c0-1.1-.9-2-2-2zM9 17H7v-7h2v7zm4 0h-2V7h2v10zm4 0h-2v-4h2v4z\"/>\n",
              "    </g>\n",
              "</svg>\n",
              "  </button>\n",
              "\n",
              "<style>\n",
              "  .colab-df-quickchart {\n",
              "      --bg-color: #E8F0FE;\n",
              "      --fill-color: #1967D2;\n",
              "      --hover-bg-color: #E2EBFA;\n",
              "      --hover-fill-color: #174EA6;\n",
              "      --disabled-fill-color: #AAA;\n",
              "      --disabled-bg-color: #DDD;\n",
              "  }\n",
              "\n",
              "  [theme=dark] .colab-df-quickchart {\n",
              "      --bg-color: #3B4455;\n",
              "      --fill-color: #D2E3FC;\n",
              "      --hover-bg-color: #434B5C;\n",
              "      --hover-fill-color: #FFFFFF;\n",
              "      --disabled-bg-color: #3B4455;\n",
              "      --disabled-fill-color: #666;\n",
              "  }\n",
              "\n",
              "  .colab-df-quickchart {\n",
              "    background-color: var(--bg-color);\n",
              "    border: none;\n",
              "    border-radius: 50%;\n",
              "    cursor: pointer;\n",
              "    display: none;\n",
              "    fill: var(--fill-color);\n",
              "    height: 32px;\n",
              "    padding: 0;\n",
              "    width: 32px;\n",
              "  }\n",
              "\n",
              "  .colab-df-quickchart:hover {\n",
              "    background-color: var(--hover-bg-color);\n",
              "    box-shadow: 0 1px 2px rgba(60, 64, 67, 0.3), 0 1px 3px 1px rgba(60, 64, 67, 0.15);\n",
              "    fill: var(--button-hover-fill-color);\n",
              "  }\n",
              "\n",
              "  .colab-df-quickchart-complete:disabled,\n",
              "  .colab-df-quickchart-complete:disabled:hover {\n",
              "    background-color: var(--disabled-bg-color);\n",
              "    fill: var(--disabled-fill-color);\n",
              "    box-shadow: none;\n",
              "  }\n",
              "\n",
              "  .colab-df-spinner {\n",
              "    border: 2px solid var(--fill-color);\n",
              "    border-color: transparent;\n",
              "    border-bottom-color: var(--fill-color);\n",
              "    animation:\n",
              "      spin 1s steps(1) infinite;\n",
              "  }\n",
              "\n",
              "  @keyframes spin {\n",
              "    0% {\n",
              "      border-color: transparent;\n",
              "      border-bottom-color: var(--fill-color);\n",
              "      border-left-color: var(--fill-color);\n",
              "    }\n",
              "    20% {\n",
              "      border-color: transparent;\n",
              "      border-left-color: var(--fill-color);\n",
              "      border-top-color: var(--fill-color);\n",
              "    }\n",
              "    30% {\n",
              "      border-color: transparent;\n",
              "      border-left-color: var(--fill-color);\n",
              "      border-top-color: var(--fill-color);\n",
              "      border-right-color: var(--fill-color);\n",
              "    }\n",
              "    40% {\n",
              "      border-color: transparent;\n",
              "      border-right-color: var(--fill-color);\n",
              "      border-top-color: var(--fill-color);\n",
              "    }\n",
              "    60% {\n",
              "      border-color: transparent;\n",
              "      border-right-color: var(--fill-color);\n",
              "    }\n",
              "    80% {\n",
              "      border-color: transparent;\n",
              "      border-right-color: var(--fill-color);\n",
              "      border-bottom-color: var(--fill-color);\n",
              "    }\n",
              "    90% {\n",
              "      border-color: transparent;\n",
              "      border-bottom-color: var(--fill-color);\n",
              "    }\n",
              "  }\n",
              "</style>\n",
              "\n",
              "  <script>\n",
              "    async function quickchart(key) {\n",
              "      const quickchartButtonEl =\n",
              "        document.querySelector('#' + key + ' button');\n",
              "      quickchartButtonEl.disabled = true;  // To prevent multiple clicks.\n",
              "      quickchartButtonEl.classList.add('colab-df-spinner');\n",
              "      try {\n",
              "        const charts = await google.colab.kernel.invokeFunction(\n",
              "            'suggestCharts', [key], {});\n",
              "      } catch (error) {\n",
              "        console.error('Error during call to suggestCharts:', error);\n",
              "      }\n",
              "      quickchartButtonEl.classList.remove('colab-df-spinner');\n",
              "      quickchartButtonEl.classList.add('colab-df-quickchart-complete');\n",
              "    }\n",
              "    (() => {\n",
              "      let quickchartButtonEl =\n",
              "        document.querySelector('#df-0c2445d7-dd86-4e50-accc-1f0012df66ce button');\n",
              "      quickchartButtonEl.style.display =\n",
              "        google.colab.kernel.accessAllowed ? 'block' : 'none';\n",
              "    })();\n",
              "  </script>\n",
              "</div>\n",
              "    </div>\n",
              "  </div>\n"
            ]
          },
          "metadata": {},
          "execution_count": 80
        }
      ]
    },
    {
      "cell_type": "code",
      "source": [
        "df.isnull().sum()"
      ],
      "metadata": {
        "colab": {
          "base_uri": "https://localhost:8080/",
          "height": 0
        },
        "id": "G9_GDf3kCgN5",
        "outputId": "045cd92b-5cbf-474b-d979-4d9942f067f9"
      },
      "execution_count": 81,
      "outputs": [
        {
          "output_type": "execute_result",
          "data": {
            "text/plain": [
              "Net Profit             0\n",
              "Counter Sales          0\n",
              "Drive-through Sales    0\n",
              "number of customers    0\n",
              "Business Type          0\n",
              "Location               0\n",
              "dtype: int64"
            ]
          },
          "metadata": {},
          "execution_count": 81
        }
      ]
    },
    {
      "cell_type": "code",
      "source": [
        "df.shape"
      ],
      "metadata": {
        "colab": {
          "base_uri": "https://localhost:8080/",
          "height": 0
        },
        "id": "Pp9516dWCkjI",
        "outputId": "ac4c8289-b753-40ea-8462-1c6d68c021c0"
      },
      "execution_count": 82,
      "outputs": [
        {
          "output_type": "execute_result",
          "data": {
            "text/plain": [
              "(100, 6)"
            ]
          },
          "metadata": {},
          "execution_count": 82
        }
      ]
    },
    {
      "cell_type": "markdown",
      "source": [
        "## getting the unique values and performing label encoding"
      ],
      "metadata": {
        "id": "EXTfbp8nt0L4"
      }
    },
    {
      "cell_type": "code",
      "source": [
        "\n",
        "df['Business Type'].value_counts()"
      ],
      "metadata": {
        "colab": {
          "base_uri": "https://localhost:8080/",
          "height": 0
        },
        "id": "KYv3nN59YpDd",
        "outputId": "c6cfb743-ec4b-4ecf-e93f-f03c1dc66b81"
      },
      "execution_count": 83,
      "outputs": [
        {
          "output_type": "execute_result",
          "data": {
            "text/plain": [
              "Burger store    39\n",
              "Café            33\n",
              "Pizza Store     28\n",
              "Name: Business Type, dtype: int64"
            ]
          },
          "metadata": {},
          "execution_count": 83
        }
      ]
    },
    {
      "cell_type": "code",
      "source": [
        "df['Location '].value_counts()"
      ],
      "metadata": {
        "colab": {
          "base_uri": "https://localhost:8080/",
          "height": 0
        },
        "id": "1c-PONw0aFLg",
        "outputId": "62010a24-eca3-4fe0-81d9-9ed26bcd4291"
      },
      "execution_count": 84,
      "outputs": [
        {
          "output_type": "execute_result",
          "data": {
            "text/plain": [
              "Vancouver    96\n",
              "Richmond      4\n",
              "Name: Location , dtype: int64"
            ]
          },
          "metadata": {},
          "execution_count": 84
        }
      ]
    },
    {
      "cell_type": "code",
      "source": [
        "from sklearn.preprocessing import LabelEncoder\n",
        "\n",
        "# Create an instance of LabelEncoder\n",
        "label = LabelEncoder()\n",
        "\n",
        "# Apply label encoding on the 'Category' column\n",
        "df['Business Type_encoded'] = label.fit_transform(df['Business Type'])\n",
        "df['Location_encoded'] = label.fit_transform(df['Location '])\n",
        "df = df.drop(['Business Type','Location '], axis=1)\n"
      ],
      "metadata": {
        "id": "S07ZUKYPaLZA"
      },
      "execution_count": 85,
      "outputs": []
    },
    {
      "cell_type": "code",
      "source": [
        "df.head()"
      ],
      "metadata": {
        "colab": {
          "base_uri": "https://localhost:8080/",
          "height": 206
        },
        "id": "fKOFZ7Nqa9bM",
        "outputId": "5c1d0ec7-fa31-4082-80e2-f733812eee4a"
      },
      "execution_count": 86,
      "outputs": [
        {
          "output_type": "execute_result",
          "data": {
            "text/plain": [
              "   Net Profit  Counter Sales  Drive-through Sales  number of customers  \\\n",
              "0         2.0            8.4                  7.7                  101   \n",
              "1         1.3            3.3                  4.5                   59   \n",
              "2         1.2            5.8                  8.4                  103   \n",
              "3         2.4           10.0                  7.8                  106   \n",
              "4         0.7            4.7                  2.4                   80   \n",
              "\n",
              "   Business Type_encoded  Location_encoded  \n",
              "0                      1                 1  \n",
              "1                      1                 1  \n",
              "2                      2                 0  \n",
              "3                      0                 0  \n",
              "4                      1                 0  "
            ],
            "text/html": [
              "\n",
              "  <div id=\"df-08ba9fa7-de26-440c-8156-a36cfa4dedd1\" class=\"colab-df-container\">\n",
              "    <div>\n",
              "<style scoped>\n",
              "    .dataframe tbody tr th:only-of-type {\n",
              "        vertical-align: middle;\n",
              "    }\n",
              "\n",
              "    .dataframe tbody tr th {\n",
              "        vertical-align: top;\n",
              "    }\n",
              "\n",
              "    .dataframe thead th {\n",
              "        text-align: right;\n",
              "    }\n",
              "</style>\n",
              "<table border=\"1\" class=\"dataframe\">\n",
              "  <thead>\n",
              "    <tr style=\"text-align: right;\">\n",
              "      <th></th>\n",
              "      <th>Net Profit</th>\n",
              "      <th>Counter Sales</th>\n",
              "      <th>Drive-through Sales</th>\n",
              "      <th>number of customers</th>\n",
              "      <th>Business Type_encoded</th>\n",
              "      <th>Location_encoded</th>\n",
              "    </tr>\n",
              "  </thead>\n",
              "  <tbody>\n",
              "    <tr>\n",
              "      <th>0</th>\n",
              "      <td>2.0</td>\n",
              "      <td>8.4</td>\n",
              "      <td>7.7</td>\n",
              "      <td>101</td>\n",
              "      <td>1</td>\n",
              "      <td>1</td>\n",
              "    </tr>\n",
              "    <tr>\n",
              "      <th>1</th>\n",
              "      <td>1.3</td>\n",
              "      <td>3.3</td>\n",
              "      <td>4.5</td>\n",
              "      <td>59</td>\n",
              "      <td>1</td>\n",
              "      <td>1</td>\n",
              "    </tr>\n",
              "    <tr>\n",
              "      <th>2</th>\n",
              "      <td>1.2</td>\n",
              "      <td>5.8</td>\n",
              "      <td>8.4</td>\n",
              "      <td>103</td>\n",
              "      <td>2</td>\n",
              "      <td>0</td>\n",
              "    </tr>\n",
              "    <tr>\n",
              "      <th>3</th>\n",
              "      <td>2.4</td>\n",
              "      <td>10.0</td>\n",
              "      <td>7.8</td>\n",
              "      <td>106</td>\n",
              "      <td>0</td>\n",
              "      <td>0</td>\n",
              "    </tr>\n",
              "    <tr>\n",
              "      <th>4</th>\n",
              "      <td>0.7</td>\n",
              "      <td>4.7</td>\n",
              "      <td>2.4</td>\n",
              "      <td>80</td>\n",
              "      <td>1</td>\n",
              "      <td>0</td>\n",
              "    </tr>\n",
              "  </tbody>\n",
              "</table>\n",
              "</div>\n",
              "    <div class=\"colab-df-buttons\">\n",
              "\n",
              "  <div class=\"colab-df-container\">\n",
              "    <button class=\"colab-df-convert\" onclick=\"convertToInteractive('df-08ba9fa7-de26-440c-8156-a36cfa4dedd1')\"\n",
              "            title=\"Convert this dataframe to an interactive table.\"\n",
              "            style=\"display:none;\">\n",
              "\n",
              "  <svg xmlns=\"http://www.w3.org/2000/svg\" height=\"24px\" viewBox=\"0 -960 960 960\">\n",
              "    <path d=\"M120-120v-720h720v720H120Zm60-500h600v-160H180v160Zm220 220h160v-160H400v160Zm0 220h160v-160H400v160ZM180-400h160v-160H180v160Zm440 0h160v-160H620v160ZM180-180h160v-160H180v160Zm440 0h160v-160H620v160Z\"/>\n",
              "  </svg>\n",
              "    </button>\n",
              "\n",
              "  <style>\n",
              "    .colab-df-container {\n",
              "      display:flex;\n",
              "      gap: 12px;\n",
              "    }\n",
              "\n",
              "    .colab-df-convert {\n",
              "      background-color: #E8F0FE;\n",
              "      border: none;\n",
              "      border-radius: 50%;\n",
              "      cursor: pointer;\n",
              "      display: none;\n",
              "      fill: #1967D2;\n",
              "      height: 32px;\n",
              "      padding: 0 0 0 0;\n",
              "      width: 32px;\n",
              "    }\n",
              "\n",
              "    .colab-df-convert:hover {\n",
              "      background-color: #E2EBFA;\n",
              "      box-shadow: 0px 1px 2px rgba(60, 64, 67, 0.3), 0px 1px 3px 1px rgba(60, 64, 67, 0.15);\n",
              "      fill: #174EA6;\n",
              "    }\n",
              "\n",
              "    .colab-df-buttons div {\n",
              "      margin-bottom: 4px;\n",
              "    }\n",
              "\n",
              "    [theme=dark] .colab-df-convert {\n",
              "      background-color: #3B4455;\n",
              "      fill: #D2E3FC;\n",
              "    }\n",
              "\n",
              "    [theme=dark] .colab-df-convert:hover {\n",
              "      background-color: #434B5C;\n",
              "      box-shadow: 0px 1px 3px 1px rgba(0, 0, 0, 0.15);\n",
              "      filter: drop-shadow(0px 1px 2px rgba(0, 0, 0, 0.3));\n",
              "      fill: #FFFFFF;\n",
              "    }\n",
              "  </style>\n",
              "\n",
              "    <script>\n",
              "      const buttonEl =\n",
              "        document.querySelector('#df-08ba9fa7-de26-440c-8156-a36cfa4dedd1 button.colab-df-convert');\n",
              "      buttonEl.style.display =\n",
              "        google.colab.kernel.accessAllowed ? 'block' : 'none';\n",
              "\n",
              "      async function convertToInteractive(key) {\n",
              "        const element = document.querySelector('#df-08ba9fa7-de26-440c-8156-a36cfa4dedd1');\n",
              "        const dataTable =\n",
              "          await google.colab.kernel.invokeFunction('convertToInteractive',\n",
              "                                                    [key], {});\n",
              "        if (!dataTable) return;\n",
              "\n",
              "        const docLinkHtml = 'Like what you see? Visit the ' +\n",
              "          '<a target=\"_blank\" href=https://colab.research.google.com/notebooks/data_table.ipynb>data table notebook</a>'\n",
              "          + ' to learn more about interactive tables.';\n",
              "        element.innerHTML = '';\n",
              "        dataTable['output_type'] = 'display_data';\n",
              "        await google.colab.output.renderOutput(dataTable, element);\n",
              "        const docLink = document.createElement('div');\n",
              "        docLink.innerHTML = docLinkHtml;\n",
              "        element.appendChild(docLink);\n",
              "      }\n",
              "    </script>\n",
              "  </div>\n",
              "\n",
              "\n",
              "<div id=\"df-a364bb48-0557-499b-9e01-de643a218251\">\n",
              "  <button class=\"colab-df-quickchart\" onclick=\"quickchart('df-a364bb48-0557-499b-9e01-de643a218251')\"\n",
              "            title=\"Suggest charts\"\n",
              "            style=\"display:none;\">\n",
              "\n",
              "<svg xmlns=\"http://www.w3.org/2000/svg\" height=\"24px\"viewBox=\"0 0 24 24\"\n",
              "     width=\"24px\">\n",
              "    <g>\n",
              "        <path d=\"M19 3H5c-1.1 0-2 .9-2 2v14c0 1.1.9 2 2 2h14c1.1 0 2-.9 2-2V5c0-1.1-.9-2-2-2zM9 17H7v-7h2v7zm4 0h-2V7h2v10zm4 0h-2v-4h2v4z\"/>\n",
              "    </g>\n",
              "</svg>\n",
              "  </button>\n",
              "\n",
              "<style>\n",
              "  .colab-df-quickchart {\n",
              "      --bg-color: #E8F0FE;\n",
              "      --fill-color: #1967D2;\n",
              "      --hover-bg-color: #E2EBFA;\n",
              "      --hover-fill-color: #174EA6;\n",
              "      --disabled-fill-color: #AAA;\n",
              "      --disabled-bg-color: #DDD;\n",
              "  }\n",
              "\n",
              "  [theme=dark] .colab-df-quickchart {\n",
              "      --bg-color: #3B4455;\n",
              "      --fill-color: #D2E3FC;\n",
              "      --hover-bg-color: #434B5C;\n",
              "      --hover-fill-color: #FFFFFF;\n",
              "      --disabled-bg-color: #3B4455;\n",
              "      --disabled-fill-color: #666;\n",
              "  }\n",
              "\n",
              "  .colab-df-quickchart {\n",
              "    background-color: var(--bg-color);\n",
              "    border: none;\n",
              "    border-radius: 50%;\n",
              "    cursor: pointer;\n",
              "    display: none;\n",
              "    fill: var(--fill-color);\n",
              "    height: 32px;\n",
              "    padding: 0;\n",
              "    width: 32px;\n",
              "  }\n",
              "\n",
              "  .colab-df-quickchart:hover {\n",
              "    background-color: var(--hover-bg-color);\n",
              "    box-shadow: 0 1px 2px rgba(60, 64, 67, 0.3), 0 1px 3px 1px rgba(60, 64, 67, 0.15);\n",
              "    fill: var(--button-hover-fill-color);\n",
              "  }\n",
              "\n",
              "  .colab-df-quickchart-complete:disabled,\n",
              "  .colab-df-quickchart-complete:disabled:hover {\n",
              "    background-color: var(--disabled-bg-color);\n",
              "    fill: var(--disabled-fill-color);\n",
              "    box-shadow: none;\n",
              "  }\n",
              "\n",
              "  .colab-df-spinner {\n",
              "    border: 2px solid var(--fill-color);\n",
              "    border-color: transparent;\n",
              "    border-bottom-color: var(--fill-color);\n",
              "    animation:\n",
              "      spin 1s steps(1) infinite;\n",
              "  }\n",
              "\n",
              "  @keyframes spin {\n",
              "    0% {\n",
              "      border-color: transparent;\n",
              "      border-bottom-color: var(--fill-color);\n",
              "      border-left-color: var(--fill-color);\n",
              "    }\n",
              "    20% {\n",
              "      border-color: transparent;\n",
              "      border-left-color: var(--fill-color);\n",
              "      border-top-color: var(--fill-color);\n",
              "    }\n",
              "    30% {\n",
              "      border-color: transparent;\n",
              "      border-left-color: var(--fill-color);\n",
              "      border-top-color: var(--fill-color);\n",
              "      border-right-color: var(--fill-color);\n",
              "    }\n",
              "    40% {\n",
              "      border-color: transparent;\n",
              "      border-right-color: var(--fill-color);\n",
              "      border-top-color: var(--fill-color);\n",
              "    }\n",
              "    60% {\n",
              "      border-color: transparent;\n",
              "      border-right-color: var(--fill-color);\n",
              "    }\n",
              "    80% {\n",
              "      border-color: transparent;\n",
              "      border-right-color: var(--fill-color);\n",
              "      border-bottom-color: var(--fill-color);\n",
              "    }\n",
              "    90% {\n",
              "      border-color: transparent;\n",
              "      border-bottom-color: var(--fill-color);\n",
              "    }\n",
              "  }\n",
              "</style>\n",
              "\n",
              "  <script>\n",
              "    async function quickchart(key) {\n",
              "      const quickchartButtonEl =\n",
              "        document.querySelector('#' + key + ' button');\n",
              "      quickchartButtonEl.disabled = true;  // To prevent multiple clicks.\n",
              "      quickchartButtonEl.classList.add('colab-df-spinner');\n",
              "      try {\n",
              "        const charts = await google.colab.kernel.invokeFunction(\n",
              "            'suggestCharts', [key], {});\n",
              "      } catch (error) {\n",
              "        console.error('Error during call to suggestCharts:', error);\n",
              "      }\n",
              "      quickchartButtonEl.classList.remove('colab-df-spinner');\n",
              "      quickchartButtonEl.classList.add('colab-df-quickchart-complete');\n",
              "    }\n",
              "    (() => {\n",
              "      let quickchartButtonEl =\n",
              "        document.querySelector('#df-a364bb48-0557-499b-9e01-de643a218251 button');\n",
              "      quickchartButtonEl.style.display =\n",
              "        google.colab.kernel.accessAllowed ? 'block' : 'none';\n",
              "    })();\n",
              "  </script>\n",
              "</div>\n",
              "    </div>\n",
              "  </div>\n"
            ]
          },
          "metadata": {},
          "execution_count": 86
        }
      ]
    },
    {
      "cell_type": "markdown",
      "source": [
        "## decision tree model and calculate its accuracy:"
      ],
      "metadata": {
        "id": "GMyZT27Mccwg"
      }
    },
    {
      "cell_type": "code",
      "source": [
        "df.columns"
      ],
      "metadata": {
        "colab": {
          "base_uri": "https://localhost:8080/",
          "height": 0
        },
        "id": "9DHbkvEdc9JZ",
        "outputId": "6924b46f-b11a-497d-d6c4-93500203fec8"
      },
      "execution_count": 87,
      "outputs": [
        {
          "output_type": "execute_result",
          "data": {
            "text/plain": [
              "Index(['Net Profit', 'Counter Sales', 'Drive-through Sales',\n",
              "       'number of customers', 'Business Type_encoded', 'Location_encoded'],\n",
              "      dtype='object')"
            ]
          },
          "metadata": {},
          "execution_count": 87
        }
      ]
    },
    {
      "cell_type": "code",
      "source": [
        "from sklearn.model_selection import train_test_split\n",
        "from sklearn.tree import DecisionTreeClassifier\n",
        "from sklearn.metrics import accuracy_score"
      ],
      "metadata": {
        "id": "wzmFdyeTdGuh"
      },
      "execution_count": 88,
      "outputs": []
    },
    {
      "cell_type": "code",
      "source": [
        "# define x and y\n",
        "X = df.drop(['Net Profit'], axis=1)\n",
        "y = df['Net Profit']\n",
        "\n",
        "X.head()"
      ],
      "metadata": {
        "id": "FY3vdJABgSWW",
        "colab": {
          "base_uri": "https://localhost:8080/",
          "height": 206
        },
        "outputId": "30f72506-7d85-4038-faf4-8d1a8a81ba76"
      },
      "execution_count": 89,
      "outputs": [
        {
          "output_type": "execute_result",
          "data": {
            "text/plain": [
              "   Counter Sales  Drive-through Sales  number of customers  \\\n",
              "0            8.4                  7.7                  101   \n",
              "1            3.3                  4.5                   59   \n",
              "2            5.8                  8.4                  103   \n",
              "3           10.0                  7.8                  106   \n",
              "4            4.7                  2.4                   80   \n",
              "\n",
              "   Business Type_encoded  Location_encoded  \n",
              "0                      1                 1  \n",
              "1                      1                 1  \n",
              "2                      2                 0  \n",
              "3                      0                 0  \n",
              "4                      1                 0  "
            ],
            "text/html": [
              "\n",
              "  <div id=\"df-509c1fae-d151-4104-9c0a-54b5163294b4\" class=\"colab-df-container\">\n",
              "    <div>\n",
              "<style scoped>\n",
              "    .dataframe tbody tr th:only-of-type {\n",
              "        vertical-align: middle;\n",
              "    }\n",
              "\n",
              "    .dataframe tbody tr th {\n",
              "        vertical-align: top;\n",
              "    }\n",
              "\n",
              "    .dataframe thead th {\n",
              "        text-align: right;\n",
              "    }\n",
              "</style>\n",
              "<table border=\"1\" class=\"dataframe\">\n",
              "  <thead>\n",
              "    <tr style=\"text-align: right;\">\n",
              "      <th></th>\n",
              "      <th>Counter Sales</th>\n",
              "      <th>Drive-through Sales</th>\n",
              "      <th>number of customers</th>\n",
              "      <th>Business Type_encoded</th>\n",
              "      <th>Location_encoded</th>\n",
              "    </tr>\n",
              "  </thead>\n",
              "  <tbody>\n",
              "    <tr>\n",
              "      <th>0</th>\n",
              "      <td>8.4</td>\n",
              "      <td>7.7</td>\n",
              "      <td>101</td>\n",
              "      <td>1</td>\n",
              "      <td>1</td>\n",
              "    </tr>\n",
              "    <tr>\n",
              "      <th>1</th>\n",
              "      <td>3.3</td>\n",
              "      <td>4.5</td>\n",
              "      <td>59</td>\n",
              "      <td>1</td>\n",
              "      <td>1</td>\n",
              "    </tr>\n",
              "    <tr>\n",
              "      <th>2</th>\n",
              "      <td>5.8</td>\n",
              "      <td>8.4</td>\n",
              "      <td>103</td>\n",
              "      <td>2</td>\n",
              "      <td>0</td>\n",
              "    </tr>\n",
              "    <tr>\n",
              "      <th>3</th>\n",
              "      <td>10.0</td>\n",
              "      <td>7.8</td>\n",
              "      <td>106</td>\n",
              "      <td>0</td>\n",
              "      <td>0</td>\n",
              "    </tr>\n",
              "    <tr>\n",
              "      <th>4</th>\n",
              "      <td>4.7</td>\n",
              "      <td>2.4</td>\n",
              "      <td>80</td>\n",
              "      <td>1</td>\n",
              "      <td>0</td>\n",
              "    </tr>\n",
              "  </tbody>\n",
              "</table>\n",
              "</div>\n",
              "    <div class=\"colab-df-buttons\">\n",
              "\n",
              "  <div class=\"colab-df-container\">\n",
              "    <button class=\"colab-df-convert\" onclick=\"convertToInteractive('df-509c1fae-d151-4104-9c0a-54b5163294b4')\"\n",
              "            title=\"Convert this dataframe to an interactive table.\"\n",
              "            style=\"display:none;\">\n",
              "\n",
              "  <svg xmlns=\"http://www.w3.org/2000/svg\" height=\"24px\" viewBox=\"0 -960 960 960\">\n",
              "    <path d=\"M120-120v-720h720v720H120Zm60-500h600v-160H180v160Zm220 220h160v-160H400v160Zm0 220h160v-160H400v160ZM180-400h160v-160H180v160Zm440 0h160v-160H620v160ZM180-180h160v-160H180v160Zm440 0h160v-160H620v160Z\"/>\n",
              "  </svg>\n",
              "    </button>\n",
              "\n",
              "  <style>\n",
              "    .colab-df-container {\n",
              "      display:flex;\n",
              "      gap: 12px;\n",
              "    }\n",
              "\n",
              "    .colab-df-convert {\n",
              "      background-color: #E8F0FE;\n",
              "      border: none;\n",
              "      border-radius: 50%;\n",
              "      cursor: pointer;\n",
              "      display: none;\n",
              "      fill: #1967D2;\n",
              "      height: 32px;\n",
              "      padding: 0 0 0 0;\n",
              "      width: 32px;\n",
              "    }\n",
              "\n",
              "    .colab-df-convert:hover {\n",
              "      background-color: #E2EBFA;\n",
              "      box-shadow: 0px 1px 2px rgba(60, 64, 67, 0.3), 0px 1px 3px 1px rgba(60, 64, 67, 0.15);\n",
              "      fill: #174EA6;\n",
              "    }\n",
              "\n",
              "    .colab-df-buttons div {\n",
              "      margin-bottom: 4px;\n",
              "    }\n",
              "\n",
              "    [theme=dark] .colab-df-convert {\n",
              "      background-color: #3B4455;\n",
              "      fill: #D2E3FC;\n",
              "    }\n",
              "\n",
              "    [theme=dark] .colab-df-convert:hover {\n",
              "      background-color: #434B5C;\n",
              "      box-shadow: 0px 1px 3px 1px rgba(0, 0, 0, 0.15);\n",
              "      filter: drop-shadow(0px 1px 2px rgba(0, 0, 0, 0.3));\n",
              "      fill: #FFFFFF;\n",
              "    }\n",
              "  </style>\n",
              "\n",
              "    <script>\n",
              "      const buttonEl =\n",
              "        document.querySelector('#df-509c1fae-d151-4104-9c0a-54b5163294b4 button.colab-df-convert');\n",
              "      buttonEl.style.display =\n",
              "        google.colab.kernel.accessAllowed ? 'block' : 'none';\n",
              "\n",
              "      async function convertToInteractive(key) {\n",
              "        const element = document.querySelector('#df-509c1fae-d151-4104-9c0a-54b5163294b4');\n",
              "        const dataTable =\n",
              "          await google.colab.kernel.invokeFunction('convertToInteractive',\n",
              "                                                    [key], {});\n",
              "        if (!dataTable) return;\n",
              "\n",
              "        const docLinkHtml = 'Like what you see? Visit the ' +\n",
              "          '<a target=\"_blank\" href=https://colab.research.google.com/notebooks/data_table.ipynb>data table notebook</a>'\n",
              "          + ' to learn more about interactive tables.';\n",
              "        element.innerHTML = '';\n",
              "        dataTable['output_type'] = 'display_data';\n",
              "        await google.colab.output.renderOutput(dataTable, element);\n",
              "        const docLink = document.createElement('div');\n",
              "        docLink.innerHTML = docLinkHtml;\n",
              "        element.appendChild(docLink);\n",
              "      }\n",
              "    </script>\n",
              "  </div>\n",
              "\n",
              "\n",
              "<div id=\"df-19833073-09ca-47f4-9e6c-69ffb73eb80a\">\n",
              "  <button class=\"colab-df-quickchart\" onclick=\"quickchart('df-19833073-09ca-47f4-9e6c-69ffb73eb80a')\"\n",
              "            title=\"Suggest charts\"\n",
              "            style=\"display:none;\">\n",
              "\n",
              "<svg xmlns=\"http://www.w3.org/2000/svg\" height=\"24px\"viewBox=\"0 0 24 24\"\n",
              "     width=\"24px\">\n",
              "    <g>\n",
              "        <path d=\"M19 3H5c-1.1 0-2 .9-2 2v14c0 1.1.9 2 2 2h14c1.1 0 2-.9 2-2V5c0-1.1-.9-2-2-2zM9 17H7v-7h2v7zm4 0h-2V7h2v10zm4 0h-2v-4h2v4z\"/>\n",
              "    </g>\n",
              "</svg>\n",
              "  </button>\n",
              "\n",
              "<style>\n",
              "  .colab-df-quickchart {\n",
              "      --bg-color: #E8F0FE;\n",
              "      --fill-color: #1967D2;\n",
              "      --hover-bg-color: #E2EBFA;\n",
              "      --hover-fill-color: #174EA6;\n",
              "      --disabled-fill-color: #AAA;\n",
              "      --disabled-bg-color: #DDD;\n",
              "  }\n",
              "\n",
              "  [theme=dark] .colab-df-quickchart {\n",
              "      --bg-color: #3B4455;\n",
              "      --fill-color: #D2E3FC;\n",
              "      --hover-bg-color: #434B5C;\n",
              "      --hover-fill-color: #FFFFFF;\n",
              "      --disabled-bg-color: #3B4455;\n",
              "      --disabled-fill-color: #666;\n",
              "  }\n",
              "\n",
              "  .colab-df-quickchart {\n",
              "    background-color: var(--bg-color);\n",
              "    border: none;\n",
              "    border-radius: 50%;\n",
              "    cursor: pointer;\n",
              "    display: none;\n",
              "    fill: var(--fill-color);\n",
              "    height: 32px;\n",
              "    padding: 0;\n",
              "    width: 32px;\n",
              "  }\n",
              "\n",
              "  .colab-df-quickchart:hover {\n",
              "    background-color: var(--hover-bg-color);\n",
              "    box-shadow: 0 1px 2px rgba(60, 64, 67, 0.3), 0 1px 3px 1px rgba(60, 64, 67, 0.15);\n",
              "    fill: var(--button-hover-fill-color);\n",
              "  }\n",
              "\n",
              "  .colab-df-quickchart-complete:disabled,\n",
              "  .colab-df-quickchart-complete:disabled:hover {\n",
              "    background-color: var(--disabled-bg-color);\n",
              "    fill: var(--disabled-fill-color);\n",
              "    box-shadow: none;\n",
              "  }\n",
              "\n",
              "  .colab-df-spinner {\n",
              "    border: 2px solid var(--fill-color);\n",
              "    border-color: transparent;\n",
              "    border-bottom-color: var(--fill-color);\n",
              "    animation:\n",
              "      spin 1s steps(1) infinite;\n",
              "  }\n",
              "\n",
              "  @keyframes spin {\n",
              "    0% {\n",
              "      border-color: transparent;\n",
              "      border-bottom-color: var(--fill-color);\n",
              "      border-left-color: var(--fill-color);\n",
              "    }\n",
              "    20% {\n",
              "      border-color: transparent;\n",
              "      border-left-color: var(--fill-color);\n",
              "      border-top-color: var(--fill-color);\n",
              "    }\n",
              "    30% {\n",
              "      border-color: transparent;\n",
              "      border-left-color: var(--fill-color);\n",
              "      border-top-color: var(--fill-color);\n",
              "      border-right-color: var(--fill-color);\n",
              "    }\n",
              "    40% {\n",
              "      border-color: transparent;\n",
              "      border-right-color: var(--fill-color);\n",
              "      border-top-color: var(--fill-color);\n",
              "    }\n",
              "    60% {\n",
              "      border-color: transparent;\n",
              "      border-right-color: var(--fill-color);\n",
              "    }\n",
              "    80% {\n",
              "      border-color: transparent;\n",
              "      border-right-color: var(--fill-color);\n",
              "      border-bottom-color: var(--fill-color);\n",
              "    }\n",
              "    90% {\n",
              "      border-color: transparent;\n",
              "      border-bottom-color: var(--fill-color);\n",
              "    }\n",
              "  }\n",
              "</style>\n",
              "\n",
              "  <script>\n",
              "    async function quickchart(key) {\n",
              "      const quickchartButtonEl =\n",
              "        document.querySelector('#' + key + ' button');\n",
              "      quickchartButtonEl.disabled = true;  // To prevent multiple clicks.\n",
              "      quickchartButtonEl.classList.add('colab-df-spinner');\n",
              "      try {\n",
              "        const charts = await google.colab.kernel.invokeFunction(\n",
              "            'suggestCharts', [key], {});\n",
              "      } catch (error) {\n",
              "        console.error('Error during call to suggestCharts:', error);\n",
              "      }\n",
              "      quickchartButtonEl.classList.remove('colab-df-spinner');\n",
              "      quickchartButtonEl.classList.add('colab-df-quickchart-complete');\n",
              "    }\n",
              "    (() => {\n",
              "      let quickchartButtonEl =\n",
              "        document.querySelector('#df-19833073-09ca-47f4-9e6c-69ffb73eb80a button');\n",
              "      quickchartButtonEl.style.display =\n",
              "        google.colab.kernel.accessAllowed ? 'block' : 'none';\n",
              "    })();\n",
              "  </script>\n",
              "</div>\n",
              "    </div>\n",
              "  </div>\n"
            ]
          },
          "metadata": {},
          "execution_count": 89
        }
      ]
    },
    {
      "cell_type": "markdown",
      "source": [
        "## BUILDING THE MODEL"
      ],
      "metadata": {
        "id": "Qg0NOqdCCuYp"
      }
    },
    {
      "cell_type": "code",
      "source": [
        "from sklearn.tree import DecisionTreeRegressor\n",
        "# Split the dataset into training and testing sets\n",
        "X_train, X_test, y_train, y_test = train_test_split(X, y, test_size=0.2, random_state=42)\n",
        "# Create the decision tree model\n",
        "model = DecisionTreeRegressor()"
      ],
      "metadata": {
        "id": "F8NHJI-RdTSy"
      },
      "execution_count": 90,
      "outputs": []
    },
    {
      "cell_type": "code",
      "source": [
        "model.fit(X_train, y_train)\n",
        "# Predict the labels for the test set\n",
        "y_pred = model.predict(X_test)"
      ],
      "metadata": {
        "id": "dvqi2FbYa_Aq"
      },
      "execution_count": 91,
      "outputs": []
    },
    {
      "cell_type": "code",
      "source": [
        "model.score(X_test, y_test)\n"
      ],
      "metadata": {
        "colab": {
          "base_uri": "https://localhost:8080/",
          "height": 0
        },
        "id": "UJqEPPLghfZ7",
        "outputId": "32384e95-6b3b-4bbf-95b9-23cf946fea7a"
      },
      "execution_count": 92,
      "outputs": [
        {
          "output_type": "execute_result",
          "data": {
            "text/plain": [
              "0.971395881006865"
            ]
          },
          "metadata": {},
          "execution_count": 92
        }
      ]
    },
    {
      "cell_type": "markdown",
      "source": [
        "To simulate and visualize the decision tree, you can use the graphviz library\n"
      ],
      "metadata": {
        "id": "9fIbKHt3iB3v"
      }
    },
    {
      "cell_type": "code",
      "source": [
        "import graphviz\n",
        "from sklearn.tree import export_graphviz\n",
        "from sklearn import tree\n",
        "\n",
        "dot_data = tree.export_graphviz(model, out_file=None,\n",
        "                                feature_names=X.columns,\n",
        "                                filled=True)\n",
        "graphviz.Source(dot_data, format=\"png\")\n"
      ],
      "metadata": {
        "colab": {
          "base_uri": "https://localhost:8080/",
          "height": 1232
        },
        "id": "rCn7DAe9hP0X",
        "outputId": "f83ea83c-225f-4cd2-82d4-5c06e4ecf377"
      },
      "execution_count": 93,
      "outputs": [
        {
          "output_type": "execute_result",
          "data": {
            "image/svg+xml": "<?xml version=\"1.0\" encoding=\"UTF-8\" standalone=\"no\"?>\n<!DOCTYPE svg PUBLIC \"-//W3C//DTD SVG 1.1//EN\"\n \"http://www.w3.org/Graphics/SVG/1.1/DTD/svg11.dtd\">\n<!-- Generated by graphviz version 2.43.0 (0)\n -->\n<!-- Title: Tree Pages: 1 -->\n<svg width=\"3191pt\" height=\"893pt\"\n viewBox=\"0.00 0.00 3191.00 893.00\" xmlns=\"http://www.w3.org/2000/svg\" xmlns:xlink=\"http://www.w3.org/1999/xlink\">\n<g id=\"graph0\" class=\"graph\" transform=\"scale(1 1) rotate(0) translate(4 889)\">\n<title>Tree</title>\n<polygon fill=\"white\" stroke=\"transparent\" points=\"-4,4 -4,-889 3187,-889 3187,4 -4,4\"/>\n<!-- 0 -->\n<g id=\"node1\" class=\"node\">\n<title>0</title>\n<polygon fill=\"#f2c09d\" stroke=\"black\" points=\"1423,-885 1217,-885 1217,-817 1423,-817 1423,-885\"/>\n<text text-anchor=\"middle\" x=\"1320\" y=\"-869.8\" font-family=\"Helvetica,sans-Serif\" font-size=\"14.00\">Business Type_encoded &lt;= 0.5</text>\n<text text-anchor=\"middle\" x=\"1320\" y=\"-854.8\" font-family=\"Helvetica,sans-Serif\" font-size=\"14.00\">squared_error = 0.327</text>\n<text text-anchor=\"middle\" x=\"1320\" y=\"-839.8\" font-family=\"Helvetica,sans-Serif\" font-size=\"14.00\">samples = 80</text>\n<text text-anchor=\"middle\" x=\"1320\" y=\"-824.8\" font-family=\"Helvetica,sans-Serif\" font-size=\"14.00\">value = 1.394</text>\n</g>\n<!-- 1 -->\n<g id=\"node2\" class=\"node\">\n<title>1</title>\n<polygon fill=\"#eda876\" stroke=\"black\" points=\"780,-781 594,-781 594,-713 780,-713 780,-781\"/>\n<text text-anchor=\"middle\" x=\"687\" y=\"-765.8\" font-family=\"Helvetica,sans-Serif\" font-size=\"14.00\">Drive&#45;through Sales &lt;= 2.95</text>\n<text text-anchor=\"middle\" x=\"687\" y=\"-750.8\" font-family=\"Helvetica,sans-Serif\" font-size=\"14.00\">squared_error = 0.186</text>\n<text text-anchor=\"middle\" x=\"687\" y=\"-735.8\" font-family=\"Helvetica,sans-Serif\" font-size=\"14.00\">samples = 31</text>\n<text text-anchor=\"middle\" x=\"687\" y=\"-720.8\" font-family=\"Helvetica,sans-Serif\" font-size=\"14.00\">value = 1.861</text>\n</g>\n<!-- 0&#45;&gt;1 -->\n<g id=\"edge1\" class=\"edge\">\n<title>0&#45;&gt;1</title>\n<path fill=\"none\" stroke=\"black\" d=\"M1216.89,-833.38C1099.19,-814.42 907.81,-783.58 790.11,-764.62\"/>\n<polygon fill=\"black\" stroke=\"black\" points=\"790.44,-761.12 780.01,-762.99 789.33,-768.03 790.44,-761.12\"/>\n<text text-anchor=\"middle\" x=\"794.65\" y=\"-779.55\" font-family=\"Helvetica,sans-Serif\" font-size=\"14.00\">True</text>\n</g>\n<!-- 32 -->\n<g id=\"node33\" class=\"node\">\n<title>32</title>\n<polygon fill=\"#f5d0b5\" stroke=\"black\" points=\"2033,-781 1881,-781 1881,-713 2033,-713 2033,-781\"/>\n<text text-anchor=\"middle\" x=\"1957\" y=\"-765.8\" font-family=\"Helvetica,sans-Serif\" font-size=\"14.00\">Counter Sales &lt;= 8.05</text>\n<text text-anchor=\"middle\" x=\"1957\" y=\"-750.8\" font-family=\"Helvetica,sans-Serif\" font-size=\"14.00\">squared_error = 0.19</text>\n<text text-anchor=\"middle\" x=\"1957\" y=\"-735.8\" font-family=\"Helvetica,sans-Serif\" font-size=\"14.00\">samples = 49</text>\n<text text-anchor=\"middle\" x=\"1957\" y=\"-720.8\" font-family=\"Helvetica,sans-Serif\" font-size=\"14.00\">value = 1.098</text>\n</g>\n<!-- 0&#45;&gt;32 -->\n<g id=\"edge32\" class=\"edge\">\n<title>0&#45;&gt;32</title>\n<path fill=\"none\" stroke=\"black\" d=\"M1423.05,-833.5C1547.42,-813.58 1754.3,-780.46 1870.67,-761.82\"/>\n<polygon fill=\"black\" stroke=\"black\" points=\"1871.29,-765.27 1880.61,-760.23 1870.18,-758.36 1871.29,-765.27\"/>\n<text text-anchor=\"middle\" x=\"1865.95\" y=\"-776.78\" font-family=\"Helvetica,sans-Serif\" font-size=\"14.00\">False</text>\n</g>\n<!-- 2 -->\n<g id=\"node3\" class=\"node\">\n<title>2</title>\n<polygon fill=\"#f3c4a2\" stroke=\"black\" points=\"305.5,-677 154.5,-677 154.5,-609 305.5,-609 305.5,-677\"/>\n<text text-anchor=\"middle\" x=\"230\" y=\"-661.8\" font-family=\"Helvetica,sans-Serif\" font-size=\"14.00\">Counter Sales &lt;= 4.6</text>\n<text text-anchor=\"middle\" x=\"230\" y=\"-646.8\" font-family=\"Helvetica,sans-Serif\" font-size=\"14.00\">squared_error = 0.029</text>\n<text text-anchor=\"middle\" x=\"230\" y=\"-631.8\" font-family=\"Helvetica,sans-Serif\" font-size=\"14.00\">samples = 8</text>\n<text text-anchor=\"middle\" x=\"230\" y=\"-616.8\" font-family=\"Helvetica,sans-Serif\" font-size=\"14.00\">value = 1.325</text>\n</g>\n<!-- 1&#45;&gt;2 -->\n<g id=\"edge2\" class=\"edge\">\n<title>1&#45;&gt;2</title>\n<path fill=\"none\" stroke=\"black\" d=\"M593.97,-725.24C512.38,-707.03 394.73,-680.77 315.47,-663.08\"/>\n<polygon fill=\"black\" stroke=\"black\" points=\"316.04,-659.62 305.52,-660.86 314.52,-666.45 316.04,-659.62\"/>\n</g>\n<!-- 7 -->\n<g id=\"node8\" class=\"node\">\n<title>7</title>\n<polygon fill=\"#eb9e67\" stroke=\"black\" points=\"780,-677 594,-677 594,-609 780,-609 780,-677\"/>\n<text text-anchor=\"middle\" x=\"687\" y=\"-661.8\" font-family=\"Helvetica,sans-Serif\" font-size=\"14.00\">Drive&#45;through Sales &lt;= 6.25</text>\n<text text-anchor=\"middle\" x=\"687\" y=\"-646.8\" font-family=\"Helvetica,sans-Serif\" font-size=\"14.00\">squared_error = 0.106</text>\n<text text-anchor=\"middle\" x=\"687\" y=\"-631.8\" font-family=\"Helvetica,sans-Serif\" font-size=\"14.00\">samples = 23</text>\n<text text-anchor=\"middle\" x=\"687\" y=\"-616.8\" font-family=\"Helvetica,sans-Serif\" font-size=\"14.00\">value = 2.048</text>\n</g>\n<!-- 1&#45;&gt;7 -->\n<g id=\"edge7\" class=\"edge\">\n<title>1&#45;&gt;7</title>\n<path fill=\"none\" stroke=\"black\" d=\"M687,-712.88C687,-704.78 687,-695.98 687,-687.47\"/>\n<polygon fill=\"black\" stroke=\"black\" points=\"690.5,-687.3 687,-677.3 683.5,-687.3 690.5,-687.3\"/>\n</g>\n<!-- 3 -->\n<g id=\"node4\" class=\"node\">\n<title>3</title>\n<polygon fill=\"#f0b68c\" stroke=\"black\" points=\"136,-565.5 0,-565.5 0,-512.5 136,-512.5 136,-565.5\"/>\n<text text-anchor=\"middle\" x=\"68\" y=\"-550.3\" font-family=\"Helvetica,sans-Serif\" font-size=\"14.00\">squared_error = 0.0</text>\n<text text-anchor=\"middle\" x=\"68\" y=\"-535.3\" font-family=\"Helvetica,sans-Serif\" font-size=\"14.00\">samples = 2</text>\n<text text-anchor=\"middle\" x=\"68\" y=\"-520.3\" font-family=\"Helvetica,sans-Serif\" font-size=\"14.00\">value = 1.6</text>\n</g>\n<!-- 2&#45;&gt;3 -->\n<g id=\"edge3\" class=\"edge\">\n<title>2&#45;&gt;3</title>\n<path fill=\"none\" stroke=\"black\" d=\"M177.4,-608.88C158.01,-596.68 136.14,-582.9 117.07,-570.9\"/>\n<polygon fill=\"black\" stroke=\"black\" points=\"118.86,-567.89 108.53,-565.52 115.13,-573.81 118.86,-567.89\"/>\n</g>\n<!-- 4 -->\n<g id=\"node5\" class=\"node\">\n<title>4</title>\n<polygon fill=\"#f4c9aa\" stroke=\"black\" points=\"305.5,-573 154.5,-573 154.5,-505 305.5,-505 305.5,-573\"/>\n<text text-anchor=\"middle\" x=\"230\" y=\"-557.8\" font-family=\"Helvetica,sans-Serif\" font-size=\"14.00\">Counter Sales &lt;= 5.3</text>\n<text text-anchor=\"middle\" x=\"230\" y=\"-542.8\" font-family=\"Helvetica,sans-Serif\" font-size=\"14.00\">squared_error = 0.006</text>\n<text text-anchor=\"middle\" x=\"230\" y=\"-527.8\" font-family=\"Helvetica,sans-Serif\" font-size=\"14.00\">samples = 6</text>\n<text text-anchor=\"middle\" x=\"230\" y=\"-512.8\" font-family=\"Helvetica,sans-Serif\" font-size=\"14.00\">value = 1.233</text>\n</g>\n<!-- 2&#45;&gt;4 -->\n<g id=\"edge4\" class=\"edge\">\n<title>2&#45;&gt;4</title>\n<path fill=\"none\" stroke=\"black\" d=\"M230,-608.88C230,-600.78 230,-591.98 230,-583.47\"/>\n<polygon fill=\"black\" stroke=\"black\" points=\"233.5,-583.3 230,-573.3 226.5,-583.3 233.5,-583.3\"/>\n</g>\n<!-- 5 -->\n<g id=\"node6\" class=\"node\">\n<title>5</title>\n<polygon fill=\"#f4caac\" stroke=\"black\" points=\"142,-461.5 6,-461.5 6,-408.5 142,-408.5 142,-461.5\"/>\n<text text-anchor=\"middle\" x=\"74\" y=\"-446.3\" font-family=\"Helvetica,sans-Serif\" font-size=\"14.00\">squared_error = 0.0</text>\n<text text-anchor=\"middle\" x=\"74\" y=\"-431.3\" font-family=\"Helvetica,sans-Serif\" font-size=\"14.00\">samples = 5</text>\n<text text-anchor=\"middle\" x=\"74\" y=\"-416.3\" font-family=\"Helvetica,sans-Serif\" font-size=\"14.00\">value = 1.2</text>\n</g>\n<!-- 4&#45;&gt;5 -->\n<g id=\"edge5\" class=\"edge\">\n<title>4&#45;&gt;5</title>\n<path fill=\"none\" stroke=\"black\" d=\"M179.35,-504.88C160.85,-492.79 140,-479.15 121.75,-467.22\"/>\n<polygon fill=\"black\" stroke=\"black\" points=\"123.32,-464.06 113.03,-461.52 119.48,-469.92 123.32,-464.06\"/>\n</g>\n<!-- 6 -->\n<g id=\"node7\" class=\"node\">\n<title>6</title>\n<polygon fill=\"#f2c09c\" stroke=\"black\" points=\"300,-461.5 160,-461.5 160,-408.5 300,-408.5 300,-461.5\"/>\n<text text-anchor=\"middle\" x=\"230\" y=\"-446.3\" font-family=\"Helvetica,sans-Serif\" font-size=\"14.00\">squared_error = &#45;0.0</text>\n<text text-anchor=\"middle\" x=\"230\" y=\"-431.3\" font-family=\"Helvetica,sans-Serif\" font-size=\"14.00\">samples = 1</text>\n<text text-anchor=\"middle\" x=\"230\" y=\"-416.3\" font-family=\"Helvetica,sans-Serif\" font-size=\"14.00\">value = 1.4</text>\n</g>\n<!-- 4&#45;&gt;6 -->\n<g id=\"edge6\" class=\"edge\">\n<title>4&#45;&gt;6</title>\n<path fill=\"none\" stroke=\"black\" d=\"M230,-504.88C230,-494.33 230,-482.6 230,-471.85\"/>\n<polygon fill=\"black\" stroke=\"black\" points=\"233.5,-471.52 230,-461.52 226.5,-471.52 233.5,-471.52\"/>\n</g>\n<!-- 8 -->\n<g id=\"node9\" class=\"node\">\n<title>8</title>\n<polygon fill=\"#eda774\" stroke=\"black\" points=\"665,-573 513,-573 513,-505 665,-505 665,-573\"/>\n<text text-anchor=\"middle\" x=\"589\" y=\"-557.8\" font-family=\"Helvetica,sans-Serif\" font-size=\"14.00\">Counter Sales &lt;= 8.15</text>\n<text text-anchor=\"middle\" x=\"589\" y=\"-542.8\" font-family=\"Helvetica,sans-Serif\" font-size=\"14.00\">squared_error = 0.071</text>\n<text text-anchor=\"middle\" x=\"589\" y=\"-527.8\" font-family=\"Helvetica,sans-Serif\" font-size=\"14.00\">samples = 15</text>\n<text text-anchor=\"middle\" x=\"589\" y=\"-512.8\" font-family=\"Helvetica,sans-Serif\" font-size=\"14.00\">value = 1.88</text>\n</g>\n<!-- 7&#45;&gt;8 -->\n<g id=\"edge8\" class=\"edge\">\n<title>7&#45;&gt;8</title>\n<path fill=\"none\" stroke=\"black\" d=\"M655.18,-608.88C646.54,-599.89 637.08,-590.04 628.08,-580.68\"/>\n<polygon fill=\"black\" stroke=\"black\" points=\"630.45,-578.09 620.99,-573.3 625.4,-582.94 630.45,-578.09\"/>\n</g>\n<!-- 17 -->\n<g id=\"node18\" class=\"node\">\n<title>17</title>\n<polygon fill=\"#e88d4d\" stroke=\"black\" points=\"886.5,-573 683.5,-573 683.5,-505 886.5,-505 886.5,-573\"/>\n<text text-anchor=\"middle\" x=\"785\" y=\"-557.8\" font-family=\"Helvetica,sans-Serif\" font-size=\"14.00\">number of customers &lt;= 140.0</text>\n<text text-anchor=\"middle\" x=\"785\" y=\"-542.8\" font-family=\"Helvetica,sans-Serif\" font-size=\"14.00\">squared_error = 0.02</text>\n<text text-anchor=\"middle\" x=\"785\" y=\"-527.8\" font-family=\"Helvetica,sans-Serif\" font-size=\"14.00\">samples = 8</text>\n<text text-anchor=\"middle\" x=\"785\" y=\"-512.8\" font-family=\"Helvetica,sans-Serif\" font-size=\"14.00\">value = 2.362</text>\n</g>\n<!-- 7&#45;&gt;17 -->\n<g id=\"edge17\" class=\"edge\">\n<title>7&#45;&gt;17</title>\n<path fill=\"none\" stroke=\"black\" d=\"M718.82,-608.88C727.46,-599.89 736.92,-590.04 745.92,-580.68\"/>\n<polygon fill=\"black\" stroke=\"black\" points=\"748.6,-582.94 753.01,-573.3 743.55,-578.09 748.6,-582.94\"/>\n</g>\n<!-- 9 -->\n<g id=\"node10\" class=\"node\">\n<title>9</title>\n<polygon fill=\"#eeaf81\" stroke=\"black\" points=\"504,-469 318,-469 318,-401 504,-401 504,-469\"/>\n<text text-anchor=\"middle\" x=\"411\" y=\"-453.8\" font-family=\"Helvetica,sans-Serif\" font-size=\"14.00\">Drive&#45;through Sales &lt;= 4.15</text>\n<text text-anchor=\"middle\" x=\"411\" y=\"-438.8\" font-family=\"Helvetica,sans-Serif\" font-size=\"14.00\">squared_error = 0.009</text>\n<text text-anchor=\"middle\" x=\"411\" y=\"-423.8\" font-family=\"Helvetica,sans-Serif\" font-size=\"14.00\">samples = 11</text>\n<text text-anchor=\"middle\" x=\"411\" y=\"-408.8\" font-family=\"Helvetica,sans-Serif\" font-size=\"14.00\">value = 1.727</text>\n</g>\n<!-- 8&#45;&gt;9 -->\n<g id=\"edge9\" class=\"edge\">\n<title>8&#45;&gt;9</title>\n<path fill=\"none\" stroke=\"black\" d=\"M531.21,-504.88C514.18,-495.12 495.4,-484.37 477.86,-474.31\"/>\n<polygon fill=\"black\" stroke=\"black\" points=\"479.22,-471.06 468.81,-469.12 475.74,-477.13 479.22,-471.06\"/>\n</g>\n<!-- 16 -->\n<g id=\"node17\" class=\"node\">\n<title>16</title>\n<polygon fill=\"#e89152\" stroke=\"black\" points=\"662,-461.5 522,-461.5 522,-408.5 662,-408.5 662,-461.5\"/>\n<text text-anchor=\"middle\" x=\"592\" y=\"-446.3\" font-family=\"Helvetica,sans-Serif\" font-size=\"14.00\">squared_error = &#45;0.0</text>\n<text text-anchor=\"middle\" x=\"592\" y=\"-431.3\" font-family=\"Helvetica,sans-Serif\" font-size=\"14.00\">samples = 4</text>\n<text text-anchor=\"middle\" x=\"592\" y=\"-416.3\" font-family=\"Helvetica,sans-Serif\" font-size=\"14.00\">value = 2.3</text>\n</g>\n<!-- 8&#45;&gt;16 -->\n<g id=\"edge16\" class=\"edge\">\n<title>8&#45;&gt;16</title>\n<path fill=\"none\" stroke=\"black\" d=\"M589.97,-504.88C590.29,-494.22 590.64,-482.35 590.96,-471.52\"/>\n<polygon fill=\"black\" stroke=\"black\" points=\"594.45,-471.62 591.25,-461.52 587.46,-471.41 594.45,-471.62\"/>\n</g>\n<!-- 10 -->\n<g id=\"node11\" class=\"node\">\n<title>10</title>\n<polygon fill=\"#f0b58b\" stroke=\"black\" points=\"291,-357.5 151,-357.5 151,-304.5 291,-304.5 291,-357.5\"/>\n<text text-anchor=\"middle\" x=\"221\" y=\"-342.3\" font-family=\"Helvetica,sans-Serif\" font-size=\"14.00\">squared_error = &#45;0.0</text>\n<text text-anchor=\"middle\" x=\"221\" y=\"-327.3\" font-family=\"Helvetica,sans-Serif\" font-size=\"14.00\">samples = 3</text>\n<text text-anchor=\"middle\" x=\"221\" y=\"-312.3\" font-family=\"Helvetica,sans-Serif\" font-size=\"14.00\">value = 1.6</text>\n</g>\n<!-- 9&#45;&gt;10 -->\n<g id=\"edge10\" class=\"edge\">\n<title>9&#45;&gt;10</title>\n<path fill=\"none\" stroke=\"black\" d=\"M349.31,-400.88C326.16,-388.46 299.99,-374.41 277.35,-362.25\"/>\n<polygon fill=\"black\" stroke=\"black\" points=\"279,-359.17 268.54,-357.52 275.69,-365.33 279,-359.17\"/>\n</g>\n<!-- 11 -->\n<g id=\"node12\" class=\"node\">\n<title>11</title>\n<polygon fill=\"#eeac7d\" stroke=\"black\" points=\"512.5,-365 309.5,-365 309.5,-297 512.5,-297 512.5,-365\"/>\n<text text-anchor=\"middle\" x=\"411\" y=\"-349.8\" font-family=\"Helvetica,sans-Serif\" font-size=\"14.00\">number of customers &lt;= 112.0</text>\n<text text-anchor=\"middle\" x=\"411\" y=\"-334.8\" font-family=\"Helvetica,sans-Serif\" font-size=\"14.00\">squared_error = 0.004</text>\n<text text-anchor=\"middle\" x=\"411\" y=\"-319.8\" font-family=\"Helvetica,sans-Serif\" font-size=\"14.00\">samples = 8</text>\n<text text-anchor=\"middle\" x=\"411\" y=\"-304.8\" font-family=\"Helvetica,sans-Serif\" font-size=\"14.00\">value = 1.775</text>\n</g>\n<!-- 9&#45;&gt;11 -->\n<g id=\"edge11\" class=\"edge\">\n<title>9&#45;&gt;11</title>\n<path fill=\"none\" stroke=\"black\" d=\"M411,-400.88C411,-392.78 411,-383.98 411,-375.47\"/>\n<polygon fill=\"black\" stroke=\"black\" points=\"414.5,-375.3 411,-365.3 407.5,-375.3 414.5,-375.3\"/>\n</g>\n<!-- 12 -->\n<g id=\"node13\" class=\"node\">\n<title>12</title>\n<polygon fill=\"#eeab7b\" stroke=\"black\" points=\"291,-253.5 151,-253.5 151,-200.5 291,-200.5 291,-253.5\"/>\n<text text-anchor=\"middle\" x=\"221\" y=\"-238.3\" font-family=\"Helvetica,sans-Serif\" font-size=\"14.00\">squared_error = &#45;0.0</text>\n<text text-anchor=\"middle\" x=\"221\" y=\"-223.3\" font-family=\"Helvetica,sans-Serif\" font-size=\"14.00\">samples = 5</text>\n<text text-anchor=\"middle\" x=\"221\" y=\"-208.3\" font-family=\"Helvetica,sans-Serif\" font-size=\"14.00\">value = 1.8</text>\n</g>\n<!-- 11&#45;&gt;12 -->\n<g id=\"edge12\" class=\"edge\">\n<title>11&#45;&gt;12</title>\n<path fill=\"none\" stroke=\"black\" d=\"M349.31,-296.88C326.16,-284.46 299.99,-270.41 277.35,-258.25\"/>\n<polygon fill=\"black\" stroke=\"black\" points=\"279,-255.17 268.54,-253.52 275.69,-261.33 279,-255.17\"/>\n</g>\n<!-- 13 -->\n<g id=\"node14\" class=\"node\">\n<title>13</title>\n<polygon fill=\"#eeae80\" stroke=\"black\" points=\"512.5,-261 309.5,-261 309.5,-193 512.5,-193 512.5,-261\"/>\n<text text-anchor=\"middle\" x=\"411\" y=\"-245.8\" font-family=\"Helvetica,sans-Serif\" font-size=\"14.00\">number of customers &lt;= 123.0</text>\n<text text-anchor=\"middle\" x=\"411\" y=\"-230.8\" font-family=\"Helvetica,sans-Serif\" font-size=\"14.00\">squared_error = 0.009</text>\n<text text-anchor=\"middle\" x=\"411\" y=\"-215.8\" font-family=\"Helvetica,sans-Serif\" font-size=\"14.00\">samples = 3</text>\n<text text-anchor=\"middle\" x=\"411\" y=\"-200.8\" font-family=\"Helvetica,sans-Serif\" font-size=\"14.00\">value = 1.733</text>\n</g>\n<!-- 11&#45;&gt;13 -->\n<g id=\"edge13\" class=\"edge\">\n<title>11&#45;&gt;13</title>\n<path fill=\"none\" stroke=\"black\" d=\"M411,-296.88C411,-288.78 411,-279.98 411,-271.47\"/>\n<polygon fill=\"black\" stroke=\"black\" points=\"414.5,-271.3 411,-261.3 407.5,-271.3 414.5,-271.3\"/>\n</g>\n<!-- 14 -->\n<g id=\"node15\" class=\"node\">\n<title>14</title>\n<polygon fill=\"#f0b68c\" stroke=\"black\" points=\"342,-149.5 206,-149.5 206,-96.5 342,-96.5 342,-149.5\"/>\n<text text-anchor=\"middle\" x=\"274\" y=\"-134.3\" font-family=\"Helvetica,sans-Serif\" font-size=\"14.00\">squared_error = 0.0</text>\n<text text-anchor=\"middle\" x=\"274\" y=\"-119.3\" font-family=\"Helvetica,sans-Serif\" font-size=\"14.00\">samples = 1</text>\n<text text-anchor=\"middle\" x=\"274\" y=\"-104.3\" font-family=\"Helvetica,sans-Serif\" font-size=\"14.00\">value = 1.6</text>\n</g>\n<!-- 13&#45;&gt;14 -->\n<g id=\"edge14\" class=\"edge\">\n<title>13&#45;&gt;14</title>\n<path fill=\"none\" stroke=\"black\" d=\"M366.52,-192.88C350.42,-180.9 332.29,-167.4 316.38,-155.55\"/>\n<polygon fill=\"black\" stroke=\"black\" points=\"318.39,-152.68 308.28,-149.52 314.21,-158.3 318.39,-152.68\"/>\n</g>\n<!-- 15 -->\n<g id=\"node16\" class=\"node\">\n<title>15</title>\n<polygon fill=\"#eeab7b\" stroke=\"black\" points=\"496,-149.5 360,-149.5 360,-96.5 496,-96.5 496,-149.5\"/>\n<text text-anchor=\"middle\" x=\"428\" y=\"-134.3\" font-family=\"Helvetica,sans-Serif\" font-size=\"14.00\">squared_error = 0.0</text>\n<text text-anchor=\"middle\" x=\"428\" y=\"-119.3\" font-family=\"Helvetica,sans-Serif\" font-size=\"14.00\">samples = 2</text>\n<text text-anchor=\"middle\" x=\"428\" y=\"-104.3\" font-family=\"Helvetica,sans-Serif\" font-size=\"14.00\">value = 1.8</text>\n</g>\n<!-- 13&#45;&gt;15 -->\n<g id=\"edge15\" class=\"edge\">\n<title>13&#45;&gt;15</title>\n<path fill=\"none\" stroke=\"black\" d=\"M416.52,-192.88C418.3,-182.22 420.27,-170.35 422.08,-159.52\"/>\n<polygon fill=\"black\" stroke=\"black\" points=\"425.55,-159.96 423.75,-149.52 418.65,-158.81 425.55,-159.96\"/>\n</g>\n<!-- 18 -->\n<g id=\"node19\" class=\"node\">\n<title>18</title>\n<polygon fill=\"#e88f4f\" stroke=\"black\" points=\"869.5,-469 690.5,-469 690.5,-401 869.5,-401 869.5,-469\"/>\n<text text-anchor=\"middle\" x=\"780\" y=\"-453.8\" font-family=\"Helvetica,sans-Serif\" font-size=\"14.00\">Drive&#45;through Sales &lt;= 8.1</text>\n<text text-anchor=\"middle\" x=\"780\" y=\"-438.8\" font-family=\"Helvetica,sans-Serif\" font-size=\"14.00\">squared_error = 0.013</text>\n<text text-anchor=\"middle\" x=\"780\" y=\"-423.8\" font-family=\"Helvetica,sans-Serif\" font-size=\"14.00\">samples = 7</text>\n<text text-anchor=\"middle\" x=\"780\" y=\"-408.8\" font-family=\"Helvetica,sans-Serif\" font-size=\"14.00\">value = 2.329</text>\n</g>\n<!-- 17&#45;&gt;18 -->\n<g id=\"edge18\" class=\"edge\">\n<title>17&#45;&gt;18</title>\n<path fill=\"none\" stroke=\"black\" d=\"M783.38,-504.88C782.98,-496.78 782.55,-487.98 782.13,-479.47\"/>\n<polygon fill=\"black\" stroke=\"black\" points=\"785.62,-479.12 781.63,-469.3 778.63,-479.46 785.62,-479.12\"/>\n</g>\n<!-- 31 -->\n<g id=\"node32\" class=\"node\">\n<title>31</title>\n<polygon fill=\"#e58139\" stroke=\"black\" points=\"1028,-461.5 888,-461.5 888,-408.5 1028,-408.5 1028,-461.5\"/>\n<text text-anchor=\"middle\" x=\"958\" y=\"-446.3\" font-family=\"Helvetica,sans-Serif\" font-size=\"14.00\">squared_error = &#45;0.0</text>\n<text text-anchor=\"middle\" x=\"958\" y=\"-431.3\" font-family=\"Helvetica,sans-Serif\" font-size=\"14.00\">samples = 1</text>\n<text text-anchor=\"middle\" x=\"958\" y=\"-416.3\" font-family=\"Helvetica,sans-Serif\" font-size=\"14.00\">value = 2.6</text>\n</g>\n<!-- 17&#45;&gt;31 -->\n<g id=\"edge31\" class=\"edge\">\n<title>17&#45;&gt;31</title>\n<path fill=\"none\" stroke=\"black\" d=\"M841.17,-504.88C861.97,-492.62 885.44,-478.78 905.87,-466.74\"/>\n<polygon fill=\"black\" stroke=\"black\" points=\"907.88,-469.61 914.72,-461.52 904.32,-463.58 907.88,-469.61\"/>\n</g>\n<!-- 19 -->\n<g id=\"node20\" class=\"node\">\n<title>19</title>\n<polygon fill=\"#e78a47\" stroke=\"black\" points=\"870,-365 684,-365 684,-297 870,-297 870,-365\"/>\n<text text-anchor=\"middle\" x=\"777\" y=\"-349.8\" font-family=\"Helvetica,sans-Serif\" font-size=\"14.00\">Drive&#45;through Sales &lt;= 7.75</text>\n<text text-anchor=\"middle\" x=\"777\" y=\"-334.8\" font-family=\"Helvetica,sans-Serif\" font-size=\"14.00\">squared_error = 0.002</text>\n<text text-anchor=\"middle\" x=\"777\" y=\"-319.8\" font-family=\"Helvetica,sans-Serif\" font-size=\"14.00\">samples = 4</text>\n<text text-anchor=\"middle\" x=\"777\" y=\"-304.8\" font-family=\"Helvetica,sans-Serif\" font-size=\"14.00\">value = 2.425</text>\n</g>\n<!-- 18&#45;&gt;19 -->\n<g id=\"edge19\" class=\"edge\">\n<title>18&#45;&gt;19</title>\n<path fill=\"none\" stroke=\"black\" d=\"M779.03,-400.88C778.79,-392.78 778.53,-383.98 778.28,-375.47\"/>\n<polygon fill=\"black\" stroke=\"black\" points=\"781.77,-375.19 777.98,-365.3 774.77,-375.4 781.77,-375.19\"/>\n</g>\n<!-- 26 -->\n<g id=\"node27\" class=\"node\">\n<title>26</title>\n<polygon fill=\"#e9965a\" stroke=\"black\" points=\"1082.5,-365 887.5,-365 887.5,-297 1082.5,-297 1082.5,-365\"/>\n<text text-anchor=\"middle\" x=\"985\" y=\"-349.8\" font-family=\"Helvetica,sans-Serif\" font-size=\"14.00\">number of customers &lt;= 75.5</text>\n<text text-anchor=\"middle\" x=\"985\" y=\"-334.8\" font-family=\"Helvetica,sans-Serif\" font-size=\"14.00\">squared_error = 0.0</text>\n<text text-anchor=\"middle\" x=\"985\" y=\"-319.8\" font-family=\"Helvetica,sans-Serif\" font-size=\"14.00\">samples = 3</text>\n<text text-anchor=\"middle\" x=\"985\" y=\"-304.8\" font-family=\"Helvetica,sans-Serif\" font-size=\"14.00\">value = 2.2</text>\n</g>\n<!-- 18&#45;&gt;26 -->\n<g id=\"edge26\" class=\"edge\">\n<title>18&#45;&gt;26</title>\n<path fill=\"none\" stroke=\"black\" d=\"M846.56,-400.88C866.62,-390.9 888.79,-379.87 909.39,-369.62\"/>\n<polygon fill=\"black\" stroke=\"black\" points=\"911.03,-372.71 918.43,-365.12 907.91,-366.45 911.03,-372.71\"/>\n</g>\n<!-- 20 -->\n<g id=\"node21\" class=\"node\">\n<title>20</title>\n<polygon fill=\"#e68641\" stroke=\"black\" points=\"667,-253.5 531,-253.5 531,-200.5 667,-200.5 667,-253.5\"/>\n<text text-anchor=\"middle\" x=\"599\" y=\"-238.3\" font-family=\"Helvetica,sans-Serif\" font-size=\"14.00\">squared_error = 0.0</text>\n<text text-anchor=\"middle\" x=\"599\" y=\"-223.3\" font-family=\"Helvetica,sans-Serif\" font-size=\"14.00\">samples = 1</text>\n<text text-anchor=\"middle\" x=\"599\" y=\"-208.3\" font-family=\"Helvetica,sans-Serif\" font-size=\"14.00\">value = 2.5</text>\n</g>\n<!-- 19&#45;&gt;20 -->\n<g id=\"edge20\" class=\"edge\">\n<title>19&#45;&gt;20</title>\n<path fill=\"none\" stroke=\"black\" d=\"M719.21,-296.88C697.71,-284.57 673.44,-270.65 652.36,-258.57\"/>\n<polygon fill=\"black\" stroke=\"black\" points=\"653.95,-255.46 643.53,-253.52 650.47,-261.53 653.95,-255.46\"/>\n</g>\n<!-- 21 -->\n<g id=\"node22\" class=\"node\">\n<title>21</title>\n<polygon fill=\"#e78c4a\" stroke=\"black\" points=\"888.5,-261 685.5,-261 685.5,-193 888.5,-193 888.5,-261\"/>\n<text text-anchor=\"middle\" x=\"787\" y=\"-245.8\" font-family=\"Helvetica,sans-Serif\" font-size=\"14.00\">number of customers &lt;= 122.5</text>\n<text text-anchor=\"middle\" x=\"787\" y=\"-230.8\" font-family=\"Helvetica,sans-Serif\" font-size=\"14.00\">squared_error = 0.0</text>\n<text text-anchor=\"middle\" x=\"787\" y=\"-215.8\" font-family=\"Helvetica,sans-Serif\" font-size=\"14.00\">samples = 3</text>\n<text text-anchor=\"middle\" x=\"787\" y=\"-200.8\" font-family=\"Helvetica,sans-Serif\" font-size=\"14.00\">value = 2.4</text>\n</g>\n<!-- 19&#45;&gt;21 -->\n<g id=\"edge21\" class=\"edge\">\n<title>19&#45;&gt;21</title>\n<path fill=\"none\" stroke=\"black\" d=\"M780.25,-296.88C781.04,-288.78 781.9,-279.98 782.74,-271.47\"/>\n<polygon fill=\"black\" stroke=\"black\" points=\"786.24,-271.59 783.74,-261.3 779.28,-270.91 786.24,-271.59\"/>\n</g>\n<!-- 22 -->\n<g id=\"node23\" class=\"node\">\n<title>22</title>\n<polygon fill=\"#e78c4a\" stroke=\"black\" points=\"735,-157 565,-157 565,-89 735,-89 735,-157\"/>\n<text text-anchor=\"middle\" x=\"650\" y=\"-141.8\" font-family=\"Helvetica,sans-Serif\" font-size=\"14.00\">Location_encoded &lt;= 0.5</text>\n<text text-anchor=\"middle\" x=\"650\" y=\"-126.8\" font-family=\"Helvetica,sans-Serif\" font-size=\"14.00\">squared_error = 0.0</text>\n<text text-anchor=\"middle\" x=\"650\" y=\"-111.8\" font-family=\"Helvetica,sans-Serif\" font-size=\"14.00\">samples = 2</text>\n<text text-anchor=\"middle\" x=\"650\" y=\"-96.8\" font-family=\"Helvetica,sans-Serif\" font-size=\"14.00\">value = 2.4</text>\n</g>\n<!-- 21&#45;&gt;22 -->\n<g id=\"edge22\" class=\"edge\">\n<title>21&#45;&gt;22</title>\n<path fill=\"none\" stroke=\"black\" d=\"M742.52,-192.88C729.84,-183.44 715.9,-173.06 702.77,-163.29\"/>\n<polygon fill=\"black\" stroke=\"black\" points=\"704.84,-160.46 694.73,-157.3 700.66,-166.08 704.84,-160.46\"/>\n</g>\n<!-- 25 -->\n<g id=\"node26\" class=\"node\">\n<title>25</title>\n<polygon fill=\"#e78c4a\" stroke=\"black\" points=\"889,-149.5 753,-149.5 753,-96.5 889,-96.5 889,-149.5\"/>\n<text text-anchor=\"middle\" x=\"821\" y=\"-134.3\" font-family=\"Helvetica,sans-Serif\" font-size=\"14.00\">squared_error = 0.0</text>\n<text text-anchor=\"middle\" x=\"821\" y=\"-119.3\" font-family=\"Helvetica,sans-Serif\" font-size=\"14.00\">samples = 1</text>\n<text text-anchor=\"middle\" x=\"821\" y=\"-104.3\" font-family=\"Helvetica,sans-Serif\" font-size=\"14.00\">value = 2.4</text>\n</g>\n<!-- 21&#45;&gt;25 -->\n<g id=\"edge25\" class=\"edge\">\n<title>21&#45;&gt;25</title>\n<path fill=\"none\" stroke=\"black\" d=\"M798.04,-192.88C801.63,-182.11 805.63,-170.11 809.27,-159.18\"/>\n<polygon fill=\"black\" stroke=\"black\" points=\"812.65,-160.11 812.49,-149.52 806.01,-157.9 812.65,-160.11\"/>\n</g>\n<!-- 23 -->\n<g id=\"node24\" class=\"node\">\n<title>23</title>\n<polygon fill=\"#e78c4a\" stroke=\"black\" points=\"641,-53 505,-53 505,0 641,0 641,-53\"/>\n<text text-anchor=\"middle\" x=\"573\" y=\"-37.8\" font-family=\"Helvetica,sans-Serif\" font-size=\"14.00\">squared_error = 0.0</text>\n<text text-anchor=\"middle\" x=\"573\" y=\"-22.8\" font-family=\"Helvetica,sans-Serif\" font-size=\"14.00\">samples = 1</text>\n<text text-anchor=\"middle\" x=\"573\" y=\"-7.8\" font-family=\"Helvetica,sans-Serif\" font-size=\"14.00\">value = 2.4</text>\n</g>\n<!-- 22&#45;&gt;23 -->\n<g id=\"edge23\" class=\"edge\">\n<title>22&#45;&gt;23</title>\n<path fill=\"none\" stroke=\"black\" d=\"M623.07,-88.95C615.76,-79.98 607.85,-70.27 600.51,-61.26\"/>\n<polygon fill=\"black\" stroke=\"black\" points=\"603,-58.78 593.97,-53.24 597.57,-63.2 603,-58.78\"/>\n</g>\n<!-- 24 -->\n<g id=\"node25\" class=\"node\">\n<title>24</title>\n<polygon fill=\"#e78c4a\" stroke=\"black\" points=\"795,-53 659,-53 659,0 795,0 795,-53\"/>\n<text text-anchor=\"middle\" x=\"727\" y=\"-37.8\" font-family=\"Helvetica,sans-Serif\" font-size=\"14.00\">squared_error = 0.0</text>\n<text text-anchor=\"middle\" x=\"727\" y=\"-22.8\" font-family=\"Helvetica,sans-Serif\" font-size=\"14.00\">samples = 1</text>\n<text text-anchor=\"middle\" x=\"727\" y=\"-7.8\" font-family=\"Helvetica,sans-Serif\" font-size=\"14.00\">value = 2.4</text>\n</g>\n<!-- 22&#45;&gt;24 -->\n<g id=\"edge24\" class=\"edge\">\n<title>22&#45;&gt;24</title>\n<path fill=\"none\" stroke=\"black\" d=\"M676.93,-88.95C684.24,-79.98 692.15,-70.27 699.49,-61.26\"/>\n<polygon fill=\"black\" stroke=\"black\" points=\"702.43,-63.2 706.03,-53.24 697,-58.78 702.43,-63.2\"/>\n</g>\n<!-- 27 -->\n<g id=\"node28\" class=\"node\">\n<title>27</title>\n<polygon fill=\"#e9965a\" stroke=\"black\" points=\"1043,-253.5 907,-253.5 907,-200.5 1043,-200.5 1043,-253.5\"/>\n<text text-anchor=\"middle\" x=\"975\" y=\"-238.3\" font-family=\"Helvetica,sans-Serif\" font-size=\"14.00\">squared_error = 0.0</text>\n<text text-anchor=\"middle\" x=\"975\" y=\"-223.3\" font-family=\"Helvetica,sans-Serif\" font-size=\"14.00\">samples = 1</text>\n<text text-anchor=\"middle\" x=\"975\" y=\"-208.3\" font-family=\"Helvetica,sans-Serif\" font-size=\"14.00\">value = 2.2</text>\n</g>\n<!-- 26&#45;&gt;27 -->\n<g id=\"edge27\" class=\"edge\">\n<title>26&#45;&gt;27</title>\n<path fill=\"none\" stroke=\"black\" d=\"M981.75,-296.88C980.71,-286.22 979.54,-274.35 978.48,-263.52\"/>\n<polygon fill=\"black\" stroke=\"black\" points=\"981.96,-263.13 977.5,-253.52 974.99,-263.81 981.96,-263.13\"/>\n</g>\n<!-- 28 -->\n<g id=\"node29\" class=\"node\">\n<title>28</title>\n<polygon fill=\"#e9965a\" stroke=\"black\" points=\"1264.5,-261 1061.5,-261 1061.5,-193 1264.5,-193 1264.5,-261\"/>\n<text text-anchor=\"middle\" x=\"1163\" y=\"-245.8\" font-family=\"Helvetica,sans-Serif\" font-size=\"14.00\">number of customers &lt;= 111.0</text>\n<text text-anchor=\"middle\" x=\"1163\" y=\"-230.8\" font-family=\"Helvetica,sans-Serif\" font-size=\"14.00\">squared_error = 0.0</text>\n<text text-anchor=\"middle\" x=\"1163\" y=\"-215.8\" font-family=\"Helvetica,sans-Serif\" font-size=\"14.00\">samples = 2</text>\n<text text-anchor=\"middle\" x=\"1163\" y=\"-200.8\" font-family=\"Helvetica,sans-Serif\" font-size=\"14.00\">value = 2.2</text>\n</g>\n<!-- 26&#45;&gt;28 -->\n<g id=\"edge28\" class=\"edge\">\n<title>26&#45;&gt;28</title>\n<path fill=\"none\" stroke=\"black\" d=\"M1042.79,-296.88C1059.82,-287.12 1078.6,-276.37 1096.14,-266.31\"/>\n<polygon fill=\"black\" stroke=\"black\" points=\"1098.26,-269.13 1105.19,-261.12 1094.78,-263.06 1098.26,-269.13\"/>\n</g>\n<!-- 29 -->\n<g id=\"node30\" class=\"node\">\n<title>29</title>\n<polygon fill=\"#e9965a\" stroke=\"black\" points=\"1077,-149.5 941,-149.5 941,-96.5 1077,-96.5 1077,-149.5\"/>\n<text text-anchor=\"middle\" x=\"1009\" y=\"-134.3\" font-family=\"Helvetica,sans-Serif\" font-size=\"14.00\">squared_error = 0.0</text>\n<text text-anchor=\"middle\" x=\"1009\" y=\"-119.3\" font-family=\"Helvetica,sans-Serif\" font-size=\"14.00\">samples = 1</text>\n<text text-anchor=\"middle\" x=\"1009\" y=\"-104.3\" font-family=\"Helvetica,sans-Serif\" font-size=\"14.00\">value = 2.2</text>\n</g>\n<!-- 28&#45;&gt;29 -->\n<g id=\"edge29\" class=\"edge\">\n<title>28&#45;&gt;29</title>\n<path fill=\"none\" stroke=\"black\" d=\"M1113,-192.88C1094.74,-180.79 1074.15,-167.15 1056.14,-155.22\"/>\n<polygon fill=\"black\" stroke=\"black\" points=\"1057.8,-152.12 1047.53,-149.52 1053.93,-157.96 1057.8,-152.12\"/>\n</g>\n<!-- 30 -->\n<g id=\"node31\" class=\"node\">\n<title>30</title>\n<polygon fill=\"#e9965a\" stroke=\"black\" points=\"1231,-149.5 1095,-149.5 1095,-96.5 1231,-96.5 1231,-149.5\"/>\n<text text-anchor=\"middle\" x=\"1163\" y=\"-134.3\" font-family=\"Helvetica,sans-Serif\" font-size=\"14.00\">squared_error = 0.0</text>\n<text text-anchor=\"middle\" x=\"1163\" y=\"-119.3\" font-family=\"Helvetica,sans-Serif\" font-size=\"14.00\">samples = 1</text>\n<text text-anchor=\"middle\" x=\"1163\" y=\"-104.3\" font-family=\"Helvetica,sans-Serif\" font-size=\"14.00\">value = 2.2</text>\n</g>\n<!-- 28&#45;&gt;30 -->\n<g id=\"edge30\" class=\"edge\">\n<title>28&#45;&gt;30</title>\n<path fill=\"none\" stroke=\"black\" d=\"M1163,-192.88C1163,-182.33 1163,-170.6 1163,-159.85\"/>\n<polygon fill=\"black\" stroke=\"black\" points=\"1166.5,-159.52 1163,-149.52 1159.5,-159.52 1166.5,-159.52\"/>\n</g>\n<!-- 33 -->\n<g id=\"node34\" class=\"node\">\n<title>33</title>\n<polygon fill=\"#f7d8c2\" stroke=\"black\" points=\"2060,-677 1854,-677 1854,-609 2060,-609 2060,-677\"/>\n<text text-anchor=\"middle\" x=\"1957\" y=\"-661.8\" font-family=\"Helvetica,sans-Serif\" font-size=\"14.00\">Business Type_encoded &lt;= 1.5</text>\n<text text-anchor=\"middle\" x=\"1957\" y=\"-646.8\" font-family=\"Helvetica,sans-Serif\" font-size=\"14.00\">squared_error = 0.107</text>\n<text text-anchor=\"middle\" x=\"1957\" y=\"-631.8\" font-family=\"Helvetica,sans-Serif\" font-size=\"14.00\">samples = 38</text>\n<text text-anchor=\"middle\" x=\"1957\" y=\"-616.8\" font-family=\"Helvetica,sans-Serif\" font-size=\"14.00\">value = 0.937</text>\n</g>\n<!-- 32&#45;&gt;33 -->\n<g id=\"edge33\" class=\"edge\">\n<title>32&#45;&gt;33</title>\n<path fill=\"none\" stroke=\"black\" d=\"M1957,-712.88C1957,-704.78 1957,-695.98 1957,-687.47\"/>\n<polygon fill=\"black\" stroke=\"black\" points=\"1960.5,-687.3 1957,-677.3 1953.5,-687.3 1960.5,-687.3\"/>\n</g>\n<!-- 60 -->\n<g id=\"node61\" class=\"node\">\n<title>60</title>\n<polygon fill=\"#efb387\" stroke=\"black\" points=\"2644,-677 2438,-677 2438,-609 2644,-609 2644,-677\"/>\n<text text-anchor=\"middle\" x=\"2541\" y=\"-661.8\" font-family=\"Helvetica,sans-Serif\" font-size=\"14.00\">Business Type_encoded &lt;= 1.5</text>\n<text text-anchor=\"middle\" x=\"2541\" y=\"-646.8\" font-family=\"Helvetica,sans-Serif\" font-size=\"14.00\">squared_error = 0.079</text>\n<text text-anchor=\"middle\" x=\"2541\" y=\"-631.8\" font-family=\"Helvetica,sans-Serif\" font-size=\"14.00\">samples = 11</text>\n<text text-anchor=\"middle\" x=\"2541\" y=\"-616.8\" font-family=\"Helvetica,sans-Serif\" font-size=\"14.00\">value = 1.655</text>\n</g>\n<!-- 32&#45;&gt;60 -->\n<g id=\"edge60\" class=\"edge\">\n<title>32&#45;&gt;60</title>\n<path fill=\"none\" stroke=\"black\" d=\"M2033.05,-732.72C2133.6,-715.16 2311.61,-684.06 2427.95,-663.75\"/>\n<polygon fill=\"black\" stroke=\"black\" points=\"2428.71,-667.17 2437.96,-662 2427.5,-660.27 2428.71,-667.17\"/>\n</g>\n<!-- 34 -->\n<g id=\"node35\" class=\"node\">\n<title>34</title>\n<polygon fill=\"#f5cfb3\" stroke=\"black\" points=\"1948.5,-573 1769.5,-573 1769.5,-505 1948.5,-505 1948.5,-573\"/>\n<text text-anchor=\"middle\" x=\"1859\" y=\"-557.8\" font-family=\"Helvetica,sans-Serif\" font-size=\"14.00\">Drive&#45;through Sales &lt;= 4.3</text>\n<text text-anchor=\"middle\" x=\"1859\" y=\"-542.8\" font-family=\"Helvetica,sans-Serif\" font-size=\"14.00\">squared_error = 0.045</text>\n<text text-anchor=\"middle\" x=\"1859\" y=\"-527.8\" font-family=\"Helvetica,sans-Serif\" font-size=\"14.00\">samples = 20</text>\n<text text-anchor=\"middle\" x=\"1859\" y=\"-512.8\" font-family=\"Helvetica,sans-Serif\" font-size=\"14.00\">value = 1.12</text>\n</g>\n<!-- 33&#45;&gt;34 -->\n<g id=\"edge34\" class=\"edge\">\n<title>33&#45;&gt;34</title>\n<path fill=\"none\" stroke=\"black\" d=\"M1925.18,-608.88C1916.54,-599.89 1907.08,-590.04 1898.08,-580.68\"/>\n<polygon fill=\"black\" stroke=\"black\" points=\"1900.45,-578.09 1890.99,-573.3 1895.4,-582.94 1900.45,-578.09\"/>\n</g>\n<!-- 47 -->\n<g id=\"node48\" class=\"node\">\n<title>47</title>\n<polygon fill=\"#f9e3d3\" stroke=\"black\" points=\"2146.5,-573 1967.5,-573 1967.5,-505 2146.5,-505 2146.5,-573\"/>\n<text text-anchor=\"middle\" x=\"2057\" y=\"-557.8\" font-family=\"Helvetica,sans-Serif\" font-size=\"14.00\">Drive&#45;through Sales &lt;= 4.3</text>\n<text text-anchor=\"middle\" x=\"2057\" y=\"-542.8\" font-family=\"Helvetica,sans-Serif\" font-size=\"14.00\">squared_error = 0.098</text>\n<text text-anchor=\"middle\" x=\"2057\" y=\"-527.8\" font-family=\"Helvetica,sans-Serif\" font-size=\"14.00\">samples = 18</text>\n<text text-anchor=\"middle\" x=\"2057\" y=\"-512.8\" font-family=\"Helvetica,sans-Serif\" font-size=\"14.00\">value = 0.733</text>\n</g>\n<!-- 33&#45;&gt;47 -->\n<g id=\"edge47\" class=\"edge\">\n<title>33&#45;&gt;47</title>\n<path fill=\"none\" stroke=\"black\" d=\"M1989.47,-608.88C1998.29,-599.89 2007.94,-590.04 2017.12,-580.68\"/>\n<polygon fill=\"black\" stroke=\"black\" points=\"2019.85,-582.89 2024.35,-573.3 2014.85,-577.99 2019.85,-582.89\"/>\n</g>\n<!-- 35 -->\n<g id=\"node36\" class=\"node\">\n<title>35</title>\n<polygon fill=\"#f6d4bb\" stroke=\"black\" points=\"1766.5,-469 1571.5,-469 1571.5,-401 1766.5,-401 1766.5,-469\"/>\n<text text-anchor=\"middle\" x=\"1669\" y=\"-453.8\" font-family=\"Helvetica,sans-Serif\" font-size=\"14.00\">number of customers &lt;= 68.5</text>\n<text text-anchor=\"middle\" x=\"1669\" y=\"-438.8\" font-family=\"Helvetica,sans-Serif\" font-size=\"14.00\">squared_error = 0.042</text>\n<text text-anchor=\"middle\" x=\"1669\" y=\"-423.8\" font-family=\"Helvetica,sans-Serif\" font-size=\"14.00\">samples = 13</text>\n<text text-anchor=\"middle\" x=\"1669\" y=\"-408.8\" font-family=\"Helvetica,sans-Serif\" font-size=\"14.00\">value = 1.023</text>\n</g>\n<!-- 34&#45;&gt;35 -->\n<g id=\"edge35\" class=\"edge\">\n<title>34&#45;&gt;35</title>\n<path fill=\"none\" stroke=\"black\" d=\"M1797.31,-504.88C1778.88,-494.99 1758.54,-484.07 1739.59,-473.9\"/>\n<polygon fill=\"black\" stroke=\"black\" points=\"1741.17,-470.77 1730.7,-469.12 1737.86,-476.94 1741.17,-470.77\"/>\n</g>\n<!-- 46 -->\n<g id=\"node47\" class=\"node\">\n<title>46</title>\n<polygon fill=\"#f3c5a4\" stroke=\"black\" points=\"1929,-461.5 1789,-461.5 1789,-408.5 1929,-408.5 1929,-461.5\"/>\n<text text-anchor=\"middle\" x=\"1859\" y=\"-446.3\" font-family=\"Helvetica,sans-Serif\" font-size=\"14.00\">squared_error = &#45;0.0</text>\n<text text-anchor=\"middle\" x=\"1859\" y=\"-431.3\" font-family=\"Helvetica,sans-Serif\" font-size=\"14.00\">samples = 7</text>\n<text text-anchor=\"middle\" x=\"1859\" y=\"-416.3\" font-family=\"Helvetica,sans-Serif\" font-size=\"14.00\">value = 1.3</text>\n</g>\n<!-- 34&#45;&gt;46 -->\n<g id=\"edge46\" class=\"edge\">\n<title>34&#45;&gt;46</title>\n<path fill=\"none\" stroke=\"black\" d=\"M1859,-504.88C1859,-494.33 1859,-482.6 1859,-471.85\"/>\n<polygon fill=\"black\" stroke=\"black\" points=\"1862.5,-471.52 1859,-461.52 1855.5,-471.52 1862.5,-471.52\"/>\n</g>\n<!-- 36 -->\n<g id=\"node37\" class=\"node\">\n<title>36</title>\n<polygon fill=\"#f0b68c\" stroke=\"black\" points=\"1558,-357.5 1422,-357.5 1422,-304.5 1558,-304.5 1558,-357.5\"/>\n<text text-anchor=\"middle\" x=\"1490\" y=\"-342.3\" font-family=\"Helvetica,sans-Serif\" font-size=\"14.00\">squared_error = 0.0</text>\n<text text-anchor=\"middle\" x=\"1490\" y=\"-327.3\" font-family=\"Helvetica,sans-Serif\" font-size=\"14.00\">samples = 1</text>\n<text text-anchor=\"middle\" x=\"1490\" y=\"-312.3\" font-family=\"Helvetica,sans-Serif\" font-size=\"14.00\">value = 1.6</text>\n</g>\n<!-- 35&#45;&gt;36 -->\n<g id=\"edge36\" class=\"edge\">\n<title>35&#45;&gt;36</title>\n<path fill=\"none\" stroke=\"black\" d=\"M1610.88,-400.88C1589.27,-388.57 1564.85,-374.65 1543.66,-362.57\"/>\n<polygon fill=\"black\" stroke=\"black\" points=\"1545.21,-359.43 1534.78,-357.52 1541.74,-365.51 1545.21,-359.43\"/>\n</g>\n<!-- 37 -->\n<g id=\"node38\" class=\"node\">\n<title>37</title>\n<polygon fill=\"#f7d6bf\" stroke=\"black\" points=\"1762,-365 1576,-365 1576,-297 1762,-297 1762,-365\"/>\n<text text-anchor=\"middle\" x=\"1669\" y=\"-349.8\" font-family=\"Helvetica,sans-Serif\" font-size=\"14.00\">Drive&#45;through Sales &lt;= 2.45</text>\n<text text-anchor=\"middle\" x=\"1669\" y=\"-334.8\" font-family=\"Helvetica,sans-Serif\" font-size=\"14.00\">squared_error = 0.015</text>\n<text text-anchor=\"middle\" x=\"1669\" y=\"-319.8\" font-family=\"Helvetica,sans-Serif\" font-size=\"14.00\">samples = 12</text>\n<text text-anchor=\"middle\" x=\"1669\" y=\"-304.8\" font-family=\"Helvetica,sans-Serif\" font-size=\"14.00\">value = 0.975</text>\n</g>\n<!-- 35&#45;&gt;37 -->\n<g id=\"edge37\" class=\"edge\">\n<title>35&#45;&gt;37</title>\n<path fill=\"none\" stroke=\"black\" d=\"M1669,-400.88C1669,-392.78 1669,-383.98 1669,-375.47\"/>\n<polygon fill=\"black\" stroke=\"black\" points=\"1672.5,-375.3 1669,-365.3 1665.5,-375.3 1672.5,-375.3\"/>\n</g>\n<!-- 38 -->\n<g id=\"node39\" class=\"node\">\n<title>38</title>\n<polygon fill=\"#f8dbc6\" stroke=\"black\" points=\"1553.5,-261 1402.5,-261 1402.5,-193 1553.5,-193 1553.5,-261\"/>\n<text text-anchor=\"middle\" x=\"1478\" y=\"-245.8\" font-family=\"Helvetica,sans-Serif\" font-size=\"14.00\">Counter Sales &lt;= 5.3</text>\n<text text-anchor=\"middle\" x=\"1478\" y=\"-230.8\" font-family=\"Helvetica,sans-Serif\" font-size=\"14.00\">squared_error = 0.007</text>\n<text text-anchor=\"middle\" x=\"1478\" y=\"-215.8\" font-family=\"Helvetica,sans-Serif\" font-size=\"14.00\">samples = 7</text>\n<text text-anchor=\"middle\" x=\"1478\" y=\"-200.8\" font-family=\"Helvetica,sans-Serif\" font-size=\"14.00\">value = 0.886</text>\n</g>\n<!-- 37&#45;&gt;38 -->\n<g id=\"edge38\" class=\"edge\">\n<title>37&#45;&gt;38</title>\n<path fill=\"none\" stroke=\"black\" d=\"M1606.99,-296.88C1588.46,-286.99 1568.01,-276.07 1548.96,-265.9\"/>\n<polygon fill=\"black\" stroke=\"black\" points=\"1550.5,-262.75 1540.03,-261.12 1547.2,-268.92 1550.5,-262.75\"/>\n</g>\n<!-- 43 -->\n<g id=\"node44\" class=\"node\">\n<title>43</title>\n<polygon fill=\"#f5d0b5\" stroke=\"black\" points=\"1766.5,-261 1571.5,-261 1571.5,-193 1766.5,-193 1766.5,-261\"/>\n<text text-anchor=\"middle\" x=\"1669\" y=\"-245.8\" font-family=\"Helvetica,sans-Serif\" font-size=\"14.00\">number of customers &lt;= 82.0</text>\n<text text-anchor=\"middle\" x=\"1669\" y=\"-230.8\" font-family=\"Helvetica,sans-Serif\" font-size=\"14.00\">squared_error = 0.0</text>\n<text text-anchor=\"middle\" x=\"1669\" y=\"-215.8\" font-family=\"Helvetica,sans-Serif\" font-size=\"14.00\">samples = 5</text>\n<text text-anchor=\"middle\" x=\"1669\" y=\"-200.8\" font-family=\"Helvetica,sans-Serif\" font-size=\"14.00\">value = 1.1</text>\n</g>\n<!-- 37&#45;&gt;43 -->\n<g id=\"edge43\" class=\"edge\">\n<title>37&#45;&gt;43</title>\n<path fill=\"none\" stroke=\"black\" d=\"M1669,-296.88C1669,-288.78 1669,-279.98 1669,-271.47\"/>\n<polygon fill=\"black\" stroke=\"black\" points=\"1672.5,-271.3 1669,-261.3 1665.5,-271.3 1672.5,-271.3\"/>\n</g>\n<!-- 39 -->\n<g id=\"node40\" class=\"node\">\n<title>39</title>\n<polygon fill=\"#fae5d6\" stroke=\"black\" points=\"1385,-149.5 1249,-149.5 1249,-96.5 1385,-96.5 1385,-149.5\"/>\n<text text-anchor=\"middle\" x=\"1317\" y=\"-134.3\" font-family=\"Helvetica,sans-Serif\" font-size=\"14.00\">squared_error = 0.0</text>\n<text text-anchor=\"middle\" x=\"1317\" y=\"-119.3\" font-family=\"Helvetica,sans-Serif\" font-size=\"14.00\">samples = 1</text>\n<text text-anchor=\"middle\" x=\"1317\" y=\"-104.3\" font-family=\"Helvetica,sans-Serif\" font-size=\"14.00\">value = 0.7</text>\n</g>\n<!-- 38&#45;&gt;39 -->\n<g id=\"edge39\" class=\"edge\">\n<title>38&#45;&gt;39</title>\n<path fill=\"none\" stroke=\"black\" d=\"M1425.73,-192.88C1406.46,-180.68 1384.72,-166.9 1365.77,-154.9\"/>\n<polygon fill=\"black\" stroke=\"black\" points=\"1367.6,-151.92 1357.28,-149.52 1363.86,-157.83 1367.6,-151.92\"/>\n</g>\n<!-- 40 -->\n<g id=\"node41\" class=\"node\">\n<title>40</title>\n<polygon fill=\"#f7d9c4\" stroke=\"black\" points=\"1582.5,-157 1403.5,-157 1403.5,-89 1582.5,-89 1582.5,-157\"/>\n<text text-anchor=\"middle\" x=\"1493\" y=\"-141.8\" font-family=\"Helvetica,sans-Serif\" font-size=\"14.00\">Drive&#45;through Sales &lt;= 2.1</text>\n<text text-anchor=\"middle\" x=\"1493\" y=\"-126.8\" font-family=\"Helvetica,sans-Serif\" font-size=\"14.00\">squared_error = 0.001</text>\n<text text-anchor=\"middle\" x=\"1493\" y=\"-111.8\" font-family=\"Helvetica,sans-Serif\" font-size=\"14.00\">samples = 6</text>\n<text text-anchor=\"middle\" x=\"1493\" y=\"-96.8\" font-family=\"Helvetica,sans-Serif\" font-size=\"14.00\">value = 0.917</text>\n</g>\n<!-- 38&#45;&gt;40 -->\n<g id=\"edge40\" class=\"edge\">\n<title>38&#45;&gt;40</title>\n<path fill=\"none\" stroke=\"black\" d=\"M1482.87,-192.88C1484.06,-184.78 1485.36,-175.98 1486.61,-167.47\"/>\n<polygon fill=\"black\" stroke=\"black\" points=\"1490.11,-167.7 1488.1,-157.3 1483.19,-166.68 1490.11,-167.7\"/>\n</g>\n<!-- 41 -->\n<g id=\"node42\" class=\"node\">\n<title>41</title>\n<polygon fill=\"#f7dac5\" stroke=\"black\" points=\"1485,-53 1345,-53 1345,0 1485,0 1485,-53\"/>\n<text text-anchor=\"middle\" x=\"1415\" y=\"-37.8\" font-family=\"Helvetica,sans-Serif\" font-size=\"14.00\">squared_error = &#45;0.0</text>\n<text text-anchor=\"middle\" x=\"1415\" y=\"-22.8\" font-family=\"Helvetica,sans-Serif\" font-size=\"14.00\">samples = 5</text>\n<text text-anchor=\"middle\" x=\"1415\" y=\"-7.8\" font-family=\"Helvetica,sans-Serif\" font-size=\"14.00\">value = 0.9</text>\n</g>\n<!-- 40&#45;&gt;41 -->\n<g id=\"edge41\" class=\"edge\">\n<title>40&#45;&gt;41</title>\n<path fill=\"none\" stroke=\"black\" d=\"M1465.72,-88.95C1458.24,-79.89 1450.14,-70.07 1442.64,-60.99\"/>\n<polygon fill=\"black\" stroke=\"black\" points=\"1445.31,-58.72 1436.24,-53.24 1439.91,-63.18 1445.31,-58.72\"/>\n</g>\n<!-- 42 -->\n<g id=\"node43\" class=\"node\">\n<title>42</title>\n<polygon fill=\"#f6d5bd\" stroke=\"black\" points=\"1639,-53 1503,-53 1503,0 1639,0 1639,-53\"/>\n<text text-anchor=\"middle\" x=\"1571\" y=\"-37.8\" font-family=\"Helvetica,sans-Serif\" font-size=\"14.00\">squared_error = 0.0</text>\n<text text-anchor=\"middle\" x=\"1571\" y=\"-22.8\" font-family=\"Helvetica,sans-Serif\" font-size=\"14.00\">samples = 1</text>\n<text text-anchor=\"middle\" x=\"1571\" y=\"-7.8\" font-family=\"Helvetica,sans-Serif\" font-size=\"14.00\">value = 1.0</text>\n</g>\n<!-- 40&#45;&gt;42 -->\n<g id=\"edge42\" class=\"edge\">\n<title>40&#45;&gt;42</title>\n<path fill=\"none\" stroke=\"black\" d=\"M1520.28,-88.95C1527.76,-79.89 1535.86,-70.07 1543.36,-60.99\"/>\n<polygon fill=\"black\" stroke=\"black\" points=\"1546.09,-63.18 1549.76,-53.24 1540.69,-58.72 1546.09,-63.18\"/>\n</g>\n<!-- 44 -->\n<g id=\"node45\" class=\"node\">\n<title>44</title>\n<polygon fill=\"#f5d0b5\" stroke=\"black\" points=\"1737,-149.5 1601,-149.5 1601,-96.5 1737,-96.5 1737,-149.5\"/>\n<text text-anchor=\"middle\" x=\"1669\" y=\"-134.3\" font-family=\"Helvetica,sans-Serif\" font-size=\"14.00\">squared_error = 0.0</text>\n<text text-anchor=\"middle\" x=\"1669\" y=\"-119.3\" font-family=\"Helvetica,sans-Serif\" font-size=\"14.00\">samples = 1</text>\n<text text-anchor=\"middle\" x=\"1669\" y=\"-104.3\" font-family=\"Helvetica,sans-Serif\" font-size=\"14.00\">value = 1.1</text>\n</g>\n<!-- 43&#45;&gt;44 -->\n<g id=\"edge44\" class=\"edge\">\n<title>43&#45;&gt;44</title>\n<path fill=\"none\" stroke=\"black\" d=\"M1669,-192.88C1669,-182.33 1669,-170.6 1669,-159.85\"/>\n<polygon fill=\"black\" stroke=\"black\" points=\"1672.5,-159.52 1669,-149.52 1665.5,-159.52 1672.5,-159.52\"/>\n</g>\n<!-- 45 -->\n<g id=\"node46\" class=\"node\">\n<title>45</title>\n<polygon fill=\"#f5d0b5\" stroke=\"black\" points=\"1891,-149.5 1755,-149.5 1755,-96.5 1891,-96.5 1891,-149.5\"/>\n<text text-anchor=\"middle\" x=\"1823\" y=\"-134.3\" font-family=\"Helvetica,sans-Serif\" font-size=\"14.00\">squared_error = 0.0</text>\n<text text-anchor=\"middle\" x=\"1823\" y=\"-119.3\" font-family=\"Helvetica,sans-Serif\" font-size=\"14.00\">samples = 4</text>\n<text text-anchor=\"middle\" x=\"1823\" y=\"-104.3\" font-family=\"Helvetica,sans-Serif\" font-size=\"14.00\">value = 1.1</text>\n</g>\n<!-- 43&#45;&gt;45 -->\n<g id=\"edge45\" class=\"edge\">\n<title>43&#45;&gt;45</title>\n<path fill=\"none\" stroke=\"black\" d=\"M1719,-192.88C1737.26,-180.79 1757.85,-167.15 1775.86,-155.22\"/>\n<polygon fill=\"black\" stroke=\"black\" points=\"1778.07,-157.96 1784.47,-149.52 1774.2,-152.12 1778.07,-157.96\"/>\n</g>\n<!-- 48 -->\n<g id=\"node49\" class=\"node\">\n<title>48</title>\n<polygon fill=\"#fcefe6\" stroke=\"black\" points=\"2150,-469 1964,-469 1964,-401 2150,-401 2150,-469\"/>\n<text text-anchor=\"middle\" x=\"2057\" y=\"-453.8\" font-family=\"Helvetica,sans-Serif\" font-size=\"14.00\">Drive&#45;through Sales &lt;= 2.45</text>\n<text text-anchor=\"middle\" x=\"2057\" y=\"-438.8\" font-family=\"Helvetica,sans-Serif\" font-size=\"14.00\">squared_error = 0.026</text>\n<text text-anchor=\"middle\" x=\"2057\" y=\"-423.8\" font-family=\"Helvetica,sans-Serif\" font-size=\"14.00\">samples = 10</text>\n<text text-anchor=\"middle\" x=\"2057\" y=\"-408.8\" font-family=\"Helvetica,sans-Serif\" font-size=\"14.00\">value = 0.5</text>\n</g>\n<!-- 47&#45;&gt;48 -->\n<g id=\"edge48\" class=\"edge\">\n<title>47&#45;&gt;48</title>\n<path fill=\"none\" stroke=\"black\" d=\"M2057,-504.88C2057,-496.78 2057,-487.98 2057,-479.47\"/>\n<polygon fill=\"black\" stroke=\"black\" points=\"2060.5,-479.3 2057,-469.3 2053.5,-479.3 2060.5,-479.3\"/>\n</g>\n<!-- 53 -->\n<g id=\"node54\" class=\"node\">\n<title>53</title>\n<polygon fill=\"#f6d4bb\" stroke=\"black\" points=\"2356,-469 2170,-469 2170,-401 2356,-401 2356,-469\"/>\n<text text-anchor=\"middle\" x=\"2263\" y=\"-453.8\" font-family=\"Helvetica,sans-Serif\" font-size=\"14.00\">Drive&#45;through Sales &lt;= 6.55</text>\n<text text-anchor=\"middle\" x=\"2263\" y=\"-438.8\" font-family=\"Helvetica,sans-Serif\" font-size=\"14.00\">squared_error = 0.034</text>\n<text text-anchor=\"middle\" x=\"2263\" y=\"-423.8\" font-family=\"Helvetica,sans-Serif\" font-size=\"14.00\">samples = 8</text>\n<text text-anchor=\"middle\" x=\"2263\" y=\"-408.8\" font-family=\"Helvetica,sans-Serif\" font-size=\"14.00\">value = 1.025</text>\n</g>\n<!-- 47&#45;&gt;53 -->\n<g id=\"edge53\" class=\"edge\">\n<title>47&#45;&gt;53</title>\n<path fill=\"none\" stroke=\"black\" d=\"M2123.88,-504.88C2144.04,-494.9 2166.32,-483.87 2187.02,-473.62\"/>\n<polygon fill=\"black\" stroke=\"black\" points=\"2188.69,-476.7 2196.1,-469.12 2185.59,-470.43 2188.69,-476.7\"/>\n</g>\n<!-- 49 -->\n<g id=\"node50\" class=\"node\">\n<title>49</title>\n<polygon fill=\"#fefcfa\" stroke=\"black\" points=\"1978.5,-365 1827.5,-365 1827.5,-297 1978.5,-297 1978.5,-365\"/>\n<text text-anchor=\"middle\" x=\"1903\" y=\"-349.8\" font-family=\"Helvetica,sans-Serif\" font-size=\"14.00\">Counter Sales &lt;= 5.3</text>\n<text text-anchor=\"middle\" x=\"1903\" y=\"-334.8\" font-family=\"Helvetica,sans-Serif\" font-size=\"14.00\">squared_error = 0.009</text>\n<text text-anchor=\"middle\" x=\"1903\" y=\"-319.8\" font-family=\"Helvetica,sans-Serif\" font-size=\"14.00\">samples = 3</text>\n<text text-anchor=\"middle\" x=\"1903\" y=\"-304.8\" font-family=\"Helvetica,sans-Serif\" font-size=\"14.00\">value = 0.267</text>\n</g>\n<!-- 48&#45;&gt;49 -->\n<g id=\"edge49\" class=\"edge\">\n<title>48&#45;&gt;49</title>\n<path fill=\"none\" stroke=\"black\" d=\"M2007,-400.88C1992.54,-391.3 1976.62,-380.76 1961.68,-370.86\"/>\n<polygon fill=\"black\" stroke=\"black\" points=\"1963.28,-367.73 1953.01,-365.12 1959.42,-373.56 1963.28,-367.73\"/>\n</g>\n<!-- 52 -->\n<g id=\"node53\" class=\"node\">\n<title>52</title>\n<polygon fill=\"#fbeade\" stroke=\"black\" points=\"2137,-357.5 1997,-357.5 1997,-304.5 2137,-304.5 2137,-357.5\"/>\n<text text-anchor=\"middle\" x=\"2067\" y=\"-342.3\" font-family=\"Helvetica,sans-Serif\" font-size=\"14.00\">squared_error = &#45;0.0</text>\n<text text-anchor=\"middle\" x=\"2067\" y=\"-327.3\" font-family=\"Helvetica,sans-Serif\" font-size=\"14.00\">samples = 7</text>\n<text text-anchor=\"middle\" x=\"2067\" y=\"-312.3\" font-family=\"Helvetica,sans-Serif\" font-size=\"14.00\">value = 0.6</text>\n</g>\n<!-- 48&#45;&gt;52 -->\n<g id=\"edge52\" class=\"edge\">\n<title>48&#45;&gt;52</title>\n<path fill=\"none\" stroke=\"black\" d=\"M2060.25,-400.88C2061.29,-390.22 2062.46,-378.35 2063.52,-367.52\"/>\n<polygon fill=\"black\" stroke=\"black\" points=\"2067.01,-367.81 2064.5,-357.52 2060.04,-367.13 2067.01,-367.81\"/>\n</g>\n<!-- 50 -->\n<g id=\"node51\" class=\"node\">\n<title>50</title>\n<polygon fill=\"#ffffff\" stroke=\"black\" points=\"1921,-253.5 1785,-253.5 1785,-200.5 1921,-200.5 1921,-253.5\"/>\n<text text-anchor=\"middle\" x=\"1853\" y=\"-238.3\" font-family=\"Helvetica,sans-Serif\" font-size=\"14.00\">squared_error = 0.0</text>\n<text text-anchor=\"middle\" x=\"1853\" y=\"-223.3\" font-family=\"Helvetica,sans-Serif\" font-size=\"14.00\">samples = 2</text>\n<text text-anchor=\"middle\" x=\"1853\" y=\"-208.3\" font-family=\"Helvetica,sans-Serif\" font-size=\"14.00\">value = 0.2</text>\n</g>\n<!-- 49&#45;&gt;50 -->\n<g id=\"edge50\" class=\"edge\">\n<title>49&#45;&gt;50</title>\n<path fill=\"none\" stroke=\"black\" d=\"M1886.77,-296.88C1881.38,-285.89 1875.36,-273.62 1869.92,-262.52\"/>\n<polygon fill=\"black\" stroke=\"black\" points=\"1873.05,-260.96 1865.51,-253.52 1866.77,-264.04 1873.05,-260.96\"/>\n</g>\n<!-- 51 -->\n<g id=\"node52\" class=\"node\">\n<title>51</title>\n<polygon fill=\"#fdf4ee\" stroke=\"black\" points=\"2075,-253.5 1939,-253.5 1939,-200.5 2075,-200.5 2075,-253.5\"/>\n<text text-anchor=\"middle\" x=\"2007\" y=\"-238.3\" font-family=\"Helvetica,sans-Serif\" font-size=\"14.00\">squared_error = 0.0</text>\n<text text-anchor=\"middle\" x=\"2007\" y=\"-223.3\" font-family=\"Helvetica,sans-Serif\" font-size=\"14.00\">samples = 1</text>\n<text text-anchor=\"middle\" x=\"2007\" y=\"-208.3\" font-family=\"Helvetica,sans-Serif\" font-size=\"14.00\">value = 0.4</text>\n</g>\n<!-- 49&#45;&gt;51 -->\n<g id=\"edge51\" class=\"edge\">\n<title>49&#45;&gt;51</title>\n<path fill=\"none\" stroke=\"black\" d=\"M1936.77,-296.88C1948.65,-285.23 1961.99,-272.14 1973.83,-260.53\"/>\n<polygon fill=\"black\" stroke=\"black\" points=\"1976.29,-263.02 1980.98,-253.52 1971.39,-258.02 1976.29,-263.02\"/>\n</g>\n<!-- 54 -->\n<g id=\"node55\" class=\"node\">\n<title>54</title>\n<polygon fill=\"#f8ddc9\" stroke=\"black\" points=\"2360.5,-365 2165.5,-365 2165.5,-297 2360.5,-297 2360.5,-365\"/>\n<text text-anchor=\"middle\" x=\"2263\" y=\"-349.8\" font-family=\"Helvetica,sans-Serif\" font-size=\"14.00\">number of customers &lt;= 71.5</text>\n<text text-anchor=\"middle\" x=\"2263\" y=\"-334.8\" font-family=\"Helvetica,sans-Serif\" font-size=\"14.00\">squared_error = 0.007</text>\n<text text-anchor=\"middle\" x=\"2263\" y=\"-319.8\" font-family=\"Helvetica,sans-Serif\" font-size=\"14.00\">samples = 4</text>\n<text text-anchor=\"middle\" x=\"2263\" y=\"-304.8\" font-family=\"Helvetica,sans-Serif\" font-size=\"14.00\">value = 0.85</text>\n</g>\n<!-- 53&#45;&gt;54 -->\n<g id=\"edge54\" class=\"edge\">\n<title>53&#45;&gt;54</title>\n<path fill=\"none\" stroke=\"black\" d=\"M2263,-400.88C2263,-392.78 2263,-383.98 2263,-375.47\"/>\n<polygon fill=\"black\" stroke=\"black\" points=\"2266.5,-375.3 2263,-365.3 2259.5,-375.3 2266.5,-375.3\"/>\n</g>\n<!-- 57 -->\n<g id=\"node58\" class=\"node\">\n<title>57</title>\n<polygon fill=\"#f4caac\" stroke=\"black\" points=\"2557,-365 2387,-365 2387,-297 2557,-297 2557,-365\"/>\n<text text-anchor=\"middle\" x=\"2472\" y=\"-349.8\" font-family=\"Helvetica,sans-Serif\" font-size=\"14.00\">Location_encoded &lt;= 0.5</text>\n<text text-anchor=\"middle\" x=\"2472\" y=\"-334.8\" font-family=\"Helvetica,sans-Serif\" font-size=\"14.00\">squared_error = 0.0</text>\n<text text-anchor=\"middle\" x=\"2472\" y=\"-319.8\" font-family=\"Helvetica,sans-Serif\" font-size=\"14.00\">samples = 4</text>\n<text text-anchor=\"middle\" x=\"2472\" y=\"-304.8\" font-family=\"Helvetica,sans-Serif\" font-size=\"14.00\">value = 1.2</text>\n</g>\n<!-- 53&#45;&gt;57 -->\n<g id=\"edge57\" class=\"edge\">\n<title>53&#45;&gt;57</title>\n<path fill=\"none\" stroke=\"black\" d=\"M2330.86,-400.88C2351.31,-390.9 2373.91,-379.87 2394.92,-369.62\"/>\n<polygon fill=\"black\" stroke=\"black\" points=\"2396.67,-372.66 2404.13,-365.12 2393.6,-366.37 2396.67,-372.66\"/>\n</g>\n<!-- 55 -->\n<g id=\"node56\" class=\"node\">\n<title>55</title>\n<polygon fill=\"#f6d5bd\" stroke=\"black\" points=\"2229,-253.5 2093,-253.5 2093,-200.5 2229,-200.5 2229,-253.5\"/>\n<text text-anchor=\"middle\" x=\"2161\" y=\"-238.3\" font-family=\"Helvetica,sans-Serif\" font-size=\"14.00\">squared_error = 0.0</text>\n<text text-anchor=\"middle\" x=\"2161\" y=\"-223.3\" font-family=\"Helvetica,sans-Serif\" font-size=\"14.00\">samples = 1</text>\n<text text-anchor=\"middle\" x=\"2161\" y=\"-208.3\" font-family=\"Helvetica,sans-Serif\" font-size=\"14.00\">value = 1.0</text>\n</g>\n<!-- 54&#45;&gt;55 -->\n<g id=\"edge55\" class=\"edge\">\n<title>54&#45;&gt;55</title>\n<path fill=\"none\" stroke=\"black\" d=\"M2229.88,-296.88C2218.34,-285.34 2205.39,-272.39 2193.86,-260.86\"/>\n<polygon fill=\"black\" stroke=\"black\" points=\"2196.07,-258.12 2186.52,-253.52 2191.12,-263.07 2196.07,-258.12\"/>\n</g>\n<!-- 56 -->\n<g id=\"node57\" class=\"node\">\n<title>56</title>\n<polygon fill=\"#f8e0ce\" stroke=\"black\" points=\"2387,-253.5 2247,-253.5 2247,-200.5 2387,-200.5 2387,-253.5\"/>\n<text text-anchor=\"middle\" x=\"2317\" y=\"-238.3\" font-family=\"Helvetica,sans-Serif\" font-size=\"14.00\">squared_error = &#45;0.0</text>\n<text text-anchor=\"middle\" x=\"2317\" y=\"-223.3\" font-family=\"Helvetica,sans-Serif\" font-size=\"14.00\">samples = 3</text>\n<text text-anchor=\"middle\" x=\"2317\" y=\"-208.3\" font-family=\"Helvetica,sans-Serif\" font-size=\"14.00\">value = 0.8</text>\n</g>\n<!-- 54&#45;&gt;56 -->\n<g id=\"edge56\" class=\"edge\">\n<title>54&#45;&gt;56</title>\n<path fill=\"none\" stroke=\"black\" d=\"M2280.53,-296.88C2286.35,-285.89 2292.85,-273.62 2298.73,-262.52\"/>\n<polygon fill=\"black\" stroke=\"black\" points=\"2301.9,-264 2303.49,-253.52 2295.72,-260.72 2301.9,-264\"/>\n</g>\n<!-- 58 -->\n<g id=\"node59\" class=\"node\">\n<title>58</title>\n<polygon fill=\"#f4caac\" stroke=\"black\" points=\"2541,-253.5 2405,-253.5 2405,-200.5 2541,-200.5 2541,-253.5\"/>\n<text text-anchor=\"middle\" x=\"2473\" y=\"-238.3\" font-family=\"Helvetica,sans-Serif\" font-size=\"14.00\">squared_error = 0.0</text>\n<text text-anchor=\"middle\" x=\"2473\" y=\"-223.3\" font-family=\"Helvetica,sans-Serif\" font-size=\"14.00\">samples = 1</text>\n<text text-anchor=\"middle\" x=\"2473\" y=\"-208.3\" font-family=\"Helvetica,sans-Serif\" font-size=\"14.00\">value = 1.2</text>\n</g>\n<!-- 57&#45;&gt;58 -->\n<g id=\"edge58\" class=\"edge\">\n<title>57&#45;&gt;58</title>\n<path fill=\"none\" stroke=\"black\" d=\"M2472.32,-296.88C2472.43,-286.33 2472.54,-274.6 2472.65,-263.85\"/>\n<polygon fill=\"black\" stroke=\"black\" points=\"2476.15,-263.55 2472.75,-253.52 2469.15,-263.49 2476.15,-263.55\"/>\n</g>\n<!-- 59 -->\n<g id=\"node60\" class=\"node\">\n<title>59</title>\n<polygon fill=\"#f4caac\" stroke=\"black\" points=\"2695,-253.5 2559,-253.5 2559,-200.5 2695,-200.5 2695,-253.5\"/>\n<text text-anchor=\"middle\" x=\"2627\" y=\"-238.3\" font-family=\"Helvetica,sans-Serif\" font-size=\"14.00\">squared_error = 0.0</text>\n<text text-anchor=\"middle\" x=\"2627\" y=\"-223.3\" font-family=\"Helvetica,sans-Serif\" font-size=\"14.00\">samples = 3</text>\n<text text-anchor=\"middle\" x=\"2627\" y=\"-208.3\" font-family=\"Helvetica,sans-Serif\" font-size=\"14.00\">value = 1.2</text>\n</g>\n<!-- 57&#45;&gt;59 -->\n<g id=\"edge59\" class=\"edge\">\n<title>57&#45;&gt;59</title>\n<path fill=\"none\" stroke=\"black\" d=\"M2522.32,-296.88C2540.71,-284.79 2561.43,-271.15 2579.55,-259.22\"/>\n<polygon fill=\"black\" stroke=\"black\" points=\"2581.79,-261.94 2588.22,-253.52 2577.94,-256.09 2581.79,-261.94\"/>\n</g>\n<!-- 61 -->\n<g id=\"node62\" class=\"node\">\n<title>61</title>\n<polygon fill=\"#eda673\" stroke=\"black\" points=\"2634,-573 2448,-573 2448,-505 2634,-505 2634,-573\"/>\n<text text-anchor=\"middle\" x=\"2541\" y=\"-557.8\" font-family=\"Helvetica,sans-Serif\" font-size=\"14.00\">Drive&#45;through Sales &lt;= 5.55</text>\n<text text-anchor=\"middle\" x=\"2541\" y=\"-542.8\" font-family=\"Helvetica,sans-Serif\" font-size=\"14.00\">squared_error = 0.007</text>\n<text text-anchor=\"middle\" x=\"2541\" y=\"-527.8\" font-family=\"Helvetica,sans-Serif\" font-size=\"14.00\">samples = 6</text>\n<text text-anchor=\"middle\" x=\"2541\" y=\"-512.8\" font-family=\"Helvetica,sans-Serif\" font-size=\"14.00\">value = 1.9</text>\n</g>\n<!-- 60&#45;&gt;61 -->\n<g id=\"edge61\" class=\"edge\">\n<title>60&#45;&gt;61</title>\n<path fill=\"none\" stroke=\"black\" d=\"M2541,-608.88C2541,-600.78 2541,-591.98 2541,-583.47\"/>\n<polygon fill=\"black\" stroke=\"black\" points=\"2544.5,-583.3 2541,-573.3 2537.5,-583.3 2544.5,-583.3\"/>\n</g>\n<!-- 66 -->\n<g id=\"node67\" class=\"node\">\n<title>66</title>\n<polygon fill=\"#f2c29f\" stroke=\"black\" points=\"2898,-573 2712,-573 2712,-505 2898,-505 2898,-573\"/>\n<text text-anchor=\"middle\" x=\"2805\" y=\"-557.8\" font-family=\"Helvetica,sans-Serif\" font-size=\"14.00\">Drive&#45;through Sales &lt;= 5.55</text>\n<text text-anchor=\"middle\" x=\"2805\" y=\"-542.8\" font-family=\"Helvetica,sans-Serif\" font-size=\"14.00\">squared_error = 0.006</text>\n<text text-anchor=\"middle\" x=\"2805\" y=\"-527.8\" font-family=\"Helvetica,sans-Serif\" font-size=\"14.00\">samples = 5</text>\n<text text-anchor=\"middle\" x=\"2805\" y=\"-512.8\" font-family=\"Helvetica,sans-Serif\" font-size=\"14.00\">value = 1.36</text>\n</g>\n<!-- 60&#45;&gt;66 -->\n<g id=\"edge66\" class=\"edge\">\n<title>60&#45;&gt;66</title>\n<path fill=\"none\" stroke=\"black\" d=\"M2626.71,-608.88C2653.25,-598.63 2682.63,-587.28 2709.77,-576.79\"/>\n<polygon fill=\"black\" stroke=\"black\" points=\"2711.2,-579.99 2719.27,-573.12 2708.68,-573.46 2711.2,-579.99\"/>\n</g>\n<!-- 62 -->\n<g id=\"node63\" class=\"node\">\n<title>62</title>\n<polygon fill=\"#eeab7b\" stroke=\"black\" points=\"2549,-461.5 2413,-461.5 2413,-408.5 2549,-408.5 2549,-461.5\"/>\n<text text-anchor=\"middle\" x=\"2481\" y=\"-446.3\" font-family=\"Helvetica,sans-Serif\" font-size=\"14.00\">squared_error = 0.0</text>\n<text text-anchor=\"middle\" x=\"2481\" y=\"-431.3\" font-family=\"Helvetica,sans-Serif\" font-size=\"14.00\">samples = 2</text>\n<text text-anchor=\"middle\" x=\"2481\" y=\"-416.3\" font-family=\"Helvetica,sans-Serif\" font-size=\"14.00\">value = 1.8</text>\n</g>\n<!-- 61&#45;&gt;62 -->\n<g id=\"edge62\" class=\"edge\">\n<title>61&#45;&gt;62</title>\n<path fill=\"none\" stroke=\"black\" d=\"M2521.52,-504.88C2514.99,-493.78 2507.69,-481.37 2501.11,-470.18\"/>\n<polygon fill=\"black\" stroke=\"black\" points=\"2504.1,-468.36 2496.01,-461.52 2498.07,-471.91 2504.1,-468.36\"/>\n</g>\n<!-- 63 -->\n<g id=\"node64\" class=\"node\">\n<title>63</title>\n<polygon fill=\"#eca36f\" stroke=\"black\" points=\"2718.5,-469 2567.5,-469 2567.5,-401 2718.5,-401 2718.5,-469\"/>\n<text text-anchor=\"middle\" x=\"2643\" y=\"-453.8\" font-family=\"Helvetica,sans-Serif\" font-size=\"14.00\">Counter Sales &lt;= 9.1</text>\n<text text-anchor=\"middle\" x=\"2643\" y=\"-438.8\" font-family=\"Helvetica,sans-Serif\" font-size=\"14.00\">squared_error = 0.002</text>\n<text text-anchor=\"middle\" x=\"2643\" y=\"-423.8\" font-family=\"Helvetica,sans-Serif\" font-size=\"14.00\">samples = 4</text>\n<text text-anchor=\"middle\" x=\"2643\" y=\"-408.8\" font-family=\"Helvetica,sans-Serif\" font-size=\"14.00\">value = 1.95</text>\n</g>\n<!-- 61&#45;&gt;63 -->\n<g id=\"edge63\" class=\"edge\">\n<title>61&#45;&gt;63</title>\n<path fill=\"none\" stroke=\"black\" d=\"M2574.12,-504.88C2583.2,-495.8 2593.15,-485.85 2602.6,-476.4\"/>\n<polygon fill=\"black\" stroke=\"black\" points=\"2605.1,-478.85 2609.7,-469.3 2600.15,-473.9 2605.1,-478.85\"/>\n</g>\n<!-- 64 -->\n<g id=\"node65\" class=\"node\">\n<title>64</title>\n<polygon fill=\"#eca06a\" stroke=\"black\" points=\"2711,-357.5 2575,-357.5 2575,-304.5 2711,-304.5 2711,-357.5\"/>\n<text text-anchor=\"middle\" x=\"2643\" y=\"-342.3\" font-family=\"Helvetica,sans-Serif\" font-size=\"14.00\">squared_error = 0.0</text>\n<text text-anchor=\"middle\" x=\"2643\" y=\"-327.3\" font-family=\"Helvetica,sans-Serif\" font-size=\"14.00\">samples = 2</text>\n<text text-anchor=\"middle\" x=\"2643\" y=\"-312.3\" font-family=\"Helvetica,sans-Serif\" font-size=\"14.00\">value = 2.0</text>\n</g>\n<!-- 63&#45;&gt;64 -->\n<g id=\"edge64\" class=\"edge\">\n<title>63&#45;&gt;64</title>\n<path fill=\"none\" stroke=\"black\" d=\"M2643,-400.88C2643,-390.33 2643,-378.6 2643,-367.85\"/>\n<polygon fill=\"black\" stroke=\"black\" points=\"2646.5,-367.52 2643,-357.52 2639.5,-367.52 2646.5,-367.52\"/>\n</g>\n<!-- 65 -->\n<g id=\"node66\" class=\"node\">\n<title>65</title>\n<polygon fill=\"#eda673\" stroke=\"black\" points=\"2869,-357.5 2729,-357.5 2729,-304.5 2869,-304.5 2869,-357.5\"/>\n<text text-anchor=\"middle\" x=\"2799\" y=\"-342.3\" font-family=\"Helvetica,sans-Serif\" font-size=\"14.00\">squared_error = &#45;0.0</text>\n<text text-anchor=\"middle\" x=\"2799\" y=\"-327.3\" font-family=\"Helvetica,sans-Serif\" font-size=\"14.00\">samples = 2</text>\n<text text-anchor=\"middle\" x=\"2799\" y=\"-312.3\" font-family=\"Helvetica,sans-Serif\" font-size=\"14.00\">value = 1.9</text>\n</g>\n<!-- 63&#45;&gt;65 -->\n<g id=\"edge65\" class=\"edge\">\n<title>63&#45;&gt;65</title>\n<path fill=\"none\" stroke=\"black\" d=\"M2693.65,-400.88C2712.15,-388.79 2733,-375.15 2751.25,-363.22\"/>\n<polygon fill=\"black\" stroke=\"black\" points=\"2753.52,-365.92 2759.97,-357.52 2749.68,-360.06 2753.52,-365.92\"/>\n</g>\n<!-- 67 -->\n<g id=\"node68\" class=\"node\">\n<title>67</title>\n<polygon fill=\"#f3c5a4\" stroke=\"black\" points=\"2873,-461.5 2737,-461.5 2737,-408.5 2873,-408.5 2873,-461.5\"/>\n<text text-anchor=\"middle\" x=\"2805\" y=\"-446.3\" font-family=\"Helvetica,sans-Serif\" font-size=\"14.00\">squared_error = 0.0</text>\n<text text-anchor=\"middle\" x=\"2805\" y=\"-431.3\" font-family=\"Helvetica,sans-Serif\" font-size=\"14.00\">samples = 3</text>\n<text text-anchor=\"middle\" x=\"2805\" y=\"-416.3\" font-family=\"Helvetica,sans-Serif\" font-size=\"14.00\">value = 1.3</text>\n</g>\n<!-- 66&#45;&gt;67 -->\n<g id=\"edge67\" class=\"edge\">\n<title>66&#45;&gt;67</title>\n<path fill=\"none\" stroke=\"black\" d=\"M2805,-504.88C2805,-494.33 2805,-482.6 2805,-471.85\"/>\n<polygon fill=\"black\" stroke=\"black\" points=\"2808.5,-471.52 2805,-461.52 2801.5,-471.52 2808.5,-471.52\"/>\n</g>\n<!-- 68 -->\n<g id=\"node69\" class=\"node\">\n<title>68</title>\n<polygon fill=\"#f1bd98\" stroke=\"black\" points=\"3042.5,-469 2891.5,-469 2891.5,-401 3042.5,-401 3042.5,-469\"/>\n<text text-anchor=\"middle\" x=\"2967\" y=\"-453.8\" font-family=\"Helvetica,sans-Serif\" font-size=\"14.00\">Counter Sales &lt;= 9.2</text>\n<text text-anchor=\"middle\" x=\"2967\" y=\"-438.8\" font-family=\"Helvetica,sans-Serif\" font-size=\"14.00\">squared_error = 0.003</text>\n<text text-anchor=\"middle\" x=\"2967\" y=\"-423.8\" font-family=\"Helvetica,sans-Serif\" font-size=\"14.00\">samples = 2</text>\n<text text-anchor=\"middle\" x=\"2967\" y=\"-408.8\" font-family=\"Helvetica,sans-Serif\" font-size=\"14.00\">value = 1.45</text>\n</g>\n<!-- 66&#45;&gt;68 -->\n<g id=\"edge68\" class=\"edge\">\n<title>66&#45;&gt;68</title>\n<path fill=\"none\" stroke=\"black\" d=\"M2857.6,-504.88C2872.95,-495.21 2889.87,-484.56 2905.71,-474.59\"/>\n<polygon fill=\"black\" stroke=\"black\" points=\"2907.79,-477.41 2914.39,-469.12 2904.06,-471.49 2907.79,-477.41\"/>\n</g>\n<!-- 69 -->\n<g id=\"node70\" class=\"node\">\n<title>69</title>\n<polygon fill=\"#f1bb94\" stroke=\"black\" points=\"3029,-357.5 2893,-357.5 2893,-304.5 3029,-304.5 3029,-357.5\"/>\n<text text-anchor=\"middle\" x=\"2961\" y=\"-342.3\" font-family=\"Helvetica,sans-Serif\" font-size=\"14.00\">squared_error = 0.0</text>\n<text text-anchor=\"middle\" x=\"2961\" y=\"-327.3\" font-family=\"Helvetica,sans-Serif\" font-size=\"14.00\">samples = 1</text>\n<text text-anchor=\"middle\" x=\"2961\" y=\"-312.3\" font-family=\"Helvetica,sans-Serif\" font-size=\"14.00\">value = 1.5</text>\n</g>\n<!-- 68&#45;&gt;69 -->\n<g id=\"edge69\" class=\"edge\">\n<title>68&#45;&gt;69</title>\n<path fill=\"none\" stroke=\"black\" d=\"M2965.05,-400.88C2964.42,-390.22 2963.73,-378.35 2963.09,-367.52\"/>\n<polygon fill=\"black\" stroke=\"black\" points=\"2966.58,-367.3 2962.5,-357.52 2959.59,-367.71 2966.58,-367.3\"/>\n</g>\n<!-- 70 -->\n<g id=\"node71\" class=\"node\">\n<title>70</title>\n<polygon fill=\"#f2c09c\" stroke=\"black\" points=\"3183,-357.5 3047,-357.5 3047,-304.5 3183,-304.5 3183,-357.5\"/>\n<text text-anchor=\"middle\" x=\"3115\" y=\"-342.3\" font-family=\"Helvetica,sans-Serif\" font-size=\"14.00\">squared_error = 0.0</text>\n<text text-anchor=\"middle\" x=\"3115\" y=\"-327.3\" font-family=\"Helvetica,sans-Serif\" font-size=\"14.00\">samples = 1</text>\n<text text-anchor=\"middle\" x=\"3115\" y=\"-312.3\" font-family=\"Helvetica,sans-Serif\" font-size=\"14.00\">value = 1.4</text>\n</g>\n<!-- 68&#45;&gt;70 -->\n<g id=\"edge70\" class=\"edge\">\n<title>68&#45;&gt;70</title>\n<path fill=\"none\" stroke=\"black\" d=\"M3015.05,-400.88C3032.6,-388.79 3052.39,-375.15 3069.69,-363.22\"/>\n<polygon fill=\"black\" stroke=\"black\" points=\"3071.72,-366.08 3077.97,-357.52 3067.75,-360.31 3071.72,-366.08\"/>\n</g>\n</g>\n</svg>\n",
            "text/plain": [
              "<graphviz.sources.Source at 0x78ce2ca2d630>"
            ]
          },
          "metadata": {},
          "execution_count": 93
        }
      ]
    },
    {
      "cell_type": "markdown",
      "source": [],
      "metadata": {
        "id": "R3NWOpwwiR5V"
      }
    },
    {
      "cell_type": "code",
      "source": [],
      "metadata": {
        "id": "58U9D4egiRnE"
      },
      "execution_count": 93,
      "outputs": []
    },
    {
      "cell_type": "markdown",
      "source": [
        "## RANDOM FOREST"
      ],
      "metadata": {
        "id": "Ht-MkoyikupV"
      }
    },
    {
      "cell_type": "code",
      "source": [
        "import pandas as pd\n",
        "from sklearn.ensemble import RandomForestRegressor\n",
        "from sklearn.model_selection import train_test_split\n",
        "from sklearn.metrics import mean_squared_error, r2_score\n"
      ],
      "metadata": {
        "id": "XHuSNB4DiOzB"
      },
      "execution_count": 94,
      "outputs": []
    },
    {
      "cell_type": "code",
      "source": [
        "# Initialize the Random Forest model\n",
        "rf_model = RandomForestRegressor(n_estimators=70, random_state=42)\n",
        "# Train the model using the training data\n",
        "rf_model.fit(X_train, y_train)"
      ],
      "metadata": {
        "colab": {
          "base_uri": "https://localhost:8080/",
          "height": 75
        },
        "id": "GEXrpfgKk6e8",
        "outputId": "73dbc83d-627c-4f5d-af4f-057ce328e1e6"
      },
      "execution_count": 95,
      "outputs": [
        {
          "output_type": "execute_result",
          "data": {
            "text/plain": [
              "RandomForestRegressor(n_estimators=70, random_state=42)"
            ],
            "text/html": [
              "<style>#sk-container-id-5 {color: black;background-color: white;}#sk-container-id-5 pre{padding: 0;}#sk-container-id-5 div.sk-toggleable {background-color: white;}#sk-container-id-5 label.sk-toggleable__label {cursor: pointer;display: block;width: 100%;margin-bottom: 0;padding: 0.3em;box-sizing: border-box;text-align: center;}#sk-container-id-5 label.sk-toggleable__label-arrow:before {content: \"▸\";float: left;margin-right: 0.25em;color: #696969;}#sk-container-id-5 label.sk-toggleable__label-arrow:hover:before {color: black;}#sk-container-id-5 div.sk-estimator:hover label.sk-toggleable__label-arrow:before {color: black;}#sk-container-id-5 div.sk-toggleable__content {max-height: 0;max-width: 0;overflow: hidden;text-align: left;background-color: #f0f8ff;}#sk-container-id-5 div.sk-toggleable__content pre {margin: 0.2em;color: black;border-radius: 0.25em;background-color: #f0f8ff;}#sk-container-id-5 input.sk-toggleable__control:checked~div.sk-toggleable__content {max-height: 200px;max-width: 100%;overflow: auto;}#sk-container-id-5 input.sk-toggleable__control:checked~label.sk-toggleable__label-arrow:before {content: \"▾\";}#sk-container-id-5 div.sk-estimator input.sk-toggleable__control:checked~label.sk-toggleable__label {background-color: #d4ebff;}#sk-container-id-5 div.sk-label input.sk-toggleable__control:checked~label.sk-toggleable__label {background-color: #d4ebff;}#sk-container-id-5 input.sk-hidden--visually {border: 0;clip: rect(1px 1px 1px 1px);clip: rect(1px, 1px, 1px, 1px);height: 1px;margin: -1px;overflow: hidden;padding: 0;position: absolute;width: 1px;}#sk-container-id-5 div.sk-estimator {font-family: monospace;background-color: #f0f8ff;border: 1px dotted black;border-radius: 0.25em;box-sizing: border-box;margin-bottom: 0.5em;}#sk-container-id-5 div.sk-estimator:hover {background-color: #d4ebff;}#sk-container-id-5 div.sk-parallel-item::after {content: \"\";width: 100%;border-bottom: 1px solid gray;flex-grow: 1;}#sk-container-id-5 div.sk-label:hover label.sk-toggleable__label {background-color: #d4ebff;}#sk-container-id-5 div.sk-serial::before {content: \"\";position: absolute;border-left: 1px solid gray;box-sizing: border-box;top: 0;bottom: 0;left: 50%;z-index: 0;}#sk-container-id-5 div.sk-serial {display: flex;flex-direction: column;align-items: center;background-color: white;padding-right: 0.2em;padding-left: 0.2em;position: relative;}#sk-container-id-5 div.sk-item {position: relative;z-index: 1;}#sk-container-id-5 div.sk-parallel {display: flex;align-items: stretch;justify-content: center;background-color: white;position: relative;}#sk-container-id-5 div.sk-item::before, #sk-container-id-5 div.sk-parallel-item::before {content: \"\";position: absolute;border-left: 1px solid gray;box-sizing: border-box;top: 0;bottom: 0;left: 50%;z-index: -1;}#sk-container-id-5 div.sk-parallel-item {display: flex;flex-direction: column;z-index: 1;position: relative;background-color: white;}#sk-container-id-5 div.sk-parallel-item:first-child::after {align-self: flex-end;width: 50%;}#sk-container-id-5 div.sk-parallel-item:last-child::after {align-self: flex-start;width: 50%;}#sk-container-id-5 div.sk-parallel-item:only-child::after {width: 0;}#sk-container-id-5 div.sk-dashed-wrapped {border: 1px dashed gray;margin: 0 0.4em 0.5em 0.4em;box-sizing: border-box;padding-bottom: 0.4em;background-color: white;}#sk-container-id-5 div.sk-label label {font-family: monospace;font-weight: bold;display: inline-block;line-height: 1.2em;}#sk-container-id-5 div.sk-label-container {text-align: center;}#sk-container-id-5 div.sk-container {/* jupyter's `normalize.less` sets `[hidden] { display: none; }` but bootstrap.min.css set `[hidden] { display: none !important; }` so we also need the `!important` here to be able to override the default hidden behavior on the sphinx rendered scikit-learn.org. See: https://github.com/scikit-learn/scikit-learn/issues/21755 */display: inline-block !important;position: relative;}#sk-container-id-5 div.sk-text-repr-fallback {display: none;}</style><div id=\"sk-container-id-5\" class=\"sk-top-container\"><div class=\"sk-text-repr-fallback\"><pre>RandomForestRegressor(n_estimators=70, random_state=42)</pre><b>In a Jupyter environment, please rerun this cell to show the HTML representation or trust the notebook. <br />On GitHub, the HTML representation is unable to render, please try loading this page with nbviewer.org.</b></div><div class=\"sk-container\" hidden><div class=\"sk-item\"><div class=\"sk-estimator sk-toggleable\"><input class=\"sk-toggleable__control sk-hidden--visually\" id=\"sk-estimator-id-5\" type=\"checkbox\" checked><label for=\"sk-estimator-id-5\" class=\"sk-toggleable__label sk-toggleable__label-arrow\">RandomForestRegressor</label><div class=\"sk-toggleable__content\"><pre>RandomForestRegressor(n_estimators=70, random_state=42)</pre></div></div></div></div></div>"
            ]
          },
          "metadata": {},
          "execution_count": 95
        }
      ]
    },
    {
      "cell_type": "code",
      "source": [
        "# Make predictions using the trained model\n",
        "y_pred = rf_model.predict(X_test)\n",
        "\n",
        "# Calculate mean squared error and coefficient of determination (R^2)\n",
        "mse = mean_squared_error(y_test, y_pred)\n",
        "r_squared = r2_score(y_test, y_pred)\n",
        "\n",
        "print('Mean Squared Error:', mse)\n",
        "print('Coefficient of Determination (R^2):', r_squared)\n"
      ],
      "metadata": {
        "colab": {
          "base_uri": "https://localhost:8080/",
          "height": 0
        },
        "id": "rfc6bMTSk6bo",
        "outputId": "25eeabbf-e00a-4933-a771-ac84083248f7"
      },
      "execution_count": 96,
      "outputs": [
        {
          "output_type": "stream",
          "name": "stdout",
          "text": [
            "Mean Squared Error: 0.013552551020408195\n",
            "Coefficient of Determination (R^2): 0.9612341217951711\n"
          ]
        }
      ]
    },
    {
      "cell_type": "markdown",
      "source": [
        "## RETRAIN THE MODEL"
      ],
      "metadata": {
        "id": "-_HZPe9T4NdG"
      }
    },
    {
      "cell_type": "code",
      "source": [
        "# Initialize the Random Forest model\n",
        "rf_model2 = RandomForestRegressor(n_estimators=70, max_depth=5, min_samples_leaf=5, random_state=42)\n",
        "\n",
        "# Train the model using the training data\n",
        "rf_model2.fit(X_train, y_train)"
      ],
      "metadata": {
        "colab": {
          "base_uri": "https://localhost:8080/",
          "height": 92
        },
        "id": "m4Tm9rt04Kiu",
        "outputId": "1fd044f5-b2d3-48d1-f6d2-7a9ff29dd91e"
      },
      "execution_count": 97,
      "outputs": [
        {
          "output_type": "execute_result",
          "data": {
            "text/plain": [
              "RandomForestRegressor(max_depth=5, min_samples_leaf=5, n_estimators=70,\n",
              "                      random_state=42)"
            ],
            "text/html": [
              "<style>#sk-container-id-6 {color: black;background-color: white;}#sk-container-id-6 pre{padding: 0;}#sk-container-id-6 div.sk-toggleable {background-color: white;}#sk-container-id-6 label.sk-toggleable__label {cursor: pointer;display: block;width: 100%;margin-bottom: 0;padding: 0.3em;box-sizing: border-box;text-align: center;}#sk-container-id-6 label.sk-toggleable__label-arrow:before {content: \"▸\";float: left;margin-right: 0.25em;color: #696969;}#sk-container-id-6 label.sk-toggleable__label-arrow:hover:before {color: black;}#sk-container-id-6 div.sk-estimator:hover label.sk-toggleable__label-arrow:before {color: black;}#sk-container-id-6 div.sk-toggleable__content {max-height: 0;max-width: 0;overflow: hidden;text-align: left;background-color: #f0f8ff;}#sk-container-id-6 div.sk-toggleable__content pre {margin: 0.2em;color: black;border-radius: 0.25em;background-color: #f0f8ff;}#sk-container-id-6 input.sk-toggleable__control:checked~div.sk-toggleable__content {max-height: 200px;max-width: 100%;overflow: auto;}#sk-container-id-6 input.sk-toggleable__control:checked~label.sk-toggleable__label-arrow:before {content: \"▾\";}#sk-container-id-6 div.sk-estimator input.sk-toggleable__control:checked~label.sk-toggleable__label {background-color: #d4ebff;}#sk-container-id-6 div.sk-label input.sk-toggleable__control:checked~label.sk-toggleable__label {background-color: #d4ebff;}#sk-container-id-6 input.sk-hidden--visually {border: 0;clip: rect(1px 1px 1px 1px);clip: rect(1px, 1px, 1px, 1px);height: 1px;margin: -1px;overflow: hidden;padding: 0;position: absolute;width: 1px;}#sk-container-id-6 div.sk-estimator {font-family: monospace;background-color: #f0f8ff;border: 1px dotted black;border-radius: 0.25em;box-sizing: border-box;margin-bottom: 0.5em;}#sk-container-id-6 div.sk-estimator:hover {background-color: #d4ebff;}#sk-container-id-6 div.sk-parallel-item::after {content: \"\";width: 100%;border-bottom: 1px solid gray;flex-grow: 1;}#sk-container-id-6 div.sk-label:hover label.sk-toggleable__label {background-color: #d4ebff;}#sk-container-id-6 div.sk-serial::before {content: \"\";position: absolute;border-left: 1px solid gray;box-sizing: border-box;top: 0;bottom: 0;left: 50%;z-index: 0;}#sk-container-id-6 div.sk-serial {display: flex;flex-direction: column;align-items: center;background-color: white;padding-right: 0.2em;padding-left: 0.2em;position: relative;}#sk-container-id-6 div.sk-item {position: relative;z-index: 1;}#sk-container-id-6 div.sk-parallel {display: flex;align-items: stretch;justify-content: center;background-color: white;position: relative;}#sk-container-id-6 div.sk-item::before, #sk-container-id-6 div.sk-parallel-item::before {content: \"\";position: absolute;border-left: 1px solid gray;box-sizing: border-box;top: 0;bottom: 0;left: 50%;z-index: -1;}#sk-container-id-6 div.sk-parallel-item {display: flex;flex-direction: column;z-index: 1;position: relative;background-color: white;}#sk-container-id-6 div.sk-parallel-item:first-child::after {align-self: flex-end;width: 50%;}#sk-container-id-6 div.sk-parallel-item:last-child::after {align-self: flex-start;width: 50%;}#sk-container-id-6 div.sk-parallel-item:only-child::after {width: 0;}#sk-container-id-6 div.sk-dashed-wrapped {border: 1px dashed gray;margin: 0 0.4em 0.5em 0.4em;box-sizing: border-box;padding-bottom: 0.4em;background-color: white;}#sk-container-id-6 div.sk-label label {font-family: monospace;font-weight: bold;display: inline-block;line-height: 1.2em;}#sk-container-id-6 div.sk-label-container {text-align: center;}#sk-container-id-6 div.sk-container {/* jupyter's `normalize.less` sets `[hidden] { display: none; }` but bootstrap.min.css set `[hidden] { display: none !important; }` so we also need the `!important` here to be able to override the default hidden behavior on the sphinx rendered scikit-learn.org. See: https://github.com/scikit-learn/scikit-learn/issues/21755 */display: inline-block !important;position: relative;}#sk-container-id-6 div.sk-text-repr-fallback {display: none;}</style><div id=\"sk-container-id-6\" class=\"sk-top-container\"><div class=\"sk-text-repr-fallback\"><pre>RandomForestRegressor(max_depth=5, min_samples_leaf=5, n_estimators=70,\n",
              "                      random_state=42)</pre><b>In a Jupyter environment, please rerun this cell to show the HTML representation or trust the notebook. <br />On GitHub, the HTML representation is unable to render, please try loading this page with nbviewer.org.</b></div><div class=\"sk-container\" hidden><div class=\"sk-item\"><div class=\"sk-estimator sk-toggleable\"><input class=\"sk-toggleable__control sk-hidden--visually\" id=\"sk-estimator-id-6\" type=\"checkbox\" checked><label for=\"sk-estimator-id-6\" class=\"sk-toggleable__label sk-toggleable__label-arrow\">RandomForestRegressor</label><div class=\"sk-toggleable__content\"><pre>RandomForestRegressor(max_depth=5, min_samples_leaf=5, n_estimators=70,\n",
              "                      random_state=42)</pre></div></div></div></div></div>"
            ]
          },
          "metadata": {},
          "execution_count": 97
        }
      ]
    },
    {
      "cell_type": "code",
      "source": [
        "# Make predictions using the trained model\n",
        "y_pred1 = rf_model2.predict(X_test)\n",
        "\n",
        "# Calculate mean squared error and coefficient of determination (R^2)\n",
        "mse = mean_squared_error(y_test, y_pred1)\n",
        "r_squared = r2_score(y_test, y_pred)\n",
        "\n",
        "print('Mean Squared Error:', mse)\n",
        "print('Coefficient of Determination (R^2):', r_squared)\n"
      ],
      "metadata": {
        "colab": {
          "base_uri": "https://localhost:8080/",
          "height": 0
        },
        "id": "GjyrDHzh4XC0",
        "outputId": "f2c0b9e1-fda7-4157-ccf1-4f910c508d2f"
      },
      "execution_count": 98,
      "outputs": [
        {
          "output_type": "stream",
          "name": "stdout",
          "text": [
            "Mean Squared Error: 0.050671066310512915\n",
            "Coefficient of Determination (R^2): 0.9612341217951711\n"
          ]
        }
      ]
    },
    {
      "cell_type": "markdown",
      "source": [
        "## visualise"
      ],
      "metadata": {
        "id": "PBCPPqrXmeWx"
      }
    },
    {
      "cell_type": "code",
      "source": [
        "\n",
        "# Step 5: Visualizing the feature importances\n",
        "feature_importances = rf_model.feature_importances_\n",
        "# Creating a bar plot to visualize the feature importances\n",
        "plt.bar(X.columns, feature_importances)\n",
        "plt.xlabel('Features')\n",
        "plt.ylabel('Importance')\n",
        "plt.title('Feature Importance')\n",
        "plt.xticks(rotation=90)  # Rotate x-axis labels by 90 degrees\n",
        "plt.show()\n"
      ],
      "metadata": {
        "colab": {
          "base_uri": "https://localhost:8080/",
          "height": 622
        },
        "id": "PMCwHkRbhNw2",
        "outputId": "be85dd9b-2272-4ba5-90a5-419a7b658d97"
      },
      "execution_count": 99,
      "outputs": [
        {
          "output_type": "display_data",
          "data": {
            "text/plain": [
              "<Figure size 640x480 with 1 Axes>"
            ],
            "image/png": "[encoded data removed]"
          },
          "metadata": {}
        }
      ]
    },
    {
      "cell_type": "code",
      "source": [
        "df.head()"
      ],
      "metadata": {
        "colab": {
          "base_uri": "https://localhost:8080/",
          "height": 206
        },
        "id": "Y9v3rh5JsG1l",
        "outputId": "618de9b5-a16e-45ed-fbbb-9eafb4221f57"
      },
      "execution_count": 100,
      "outputs": [
        {
          "output_type": "execute_result",
          "data": {
            "text/plain": [
              "   Net Profit  Counter Sales  Drive-through Sales  number of customers  \\\n",
              "0         2.0            8.4                  7.7                  101   \n",
              "1         1.3            3.3                  4.5                   59   \n",
              "2         1.2            5.8                  8.4                  103   \n",
              "3         2.4           10.0                  7.8                  106   \n",
              "4         0.7            4.7                  2.4                   80   \n",
              "\n",
              "   Business Type_encoded  Location_encoded  \n",
              "0                      1                 1  \n",
              "1                      1                 1  \n",
              "2                      2                 0  \n",
              "3                      0                 0  \n",
              "4                      1                 0  "
            ],
            "text/html": [
              "\n",
              "  <div id=\"df-7a2c019c-81bf-4fd7-b22a-eb3957224518\" class=\"colab-df-container\">\n",
              "    <div>\n",
              "<style scoped>\n",
              "    .dataframe tbody tr th:only-of-type {\n",
              "        vertical-align: middle;\n",
              "    }\n",
              "\n",
              "    .dataframe tbody tr th {\n",
              "        vertical-align: top;\n",
              "    }\n",
              "\n",
              "    .dataframe thead th {\n",
              "        text-align: right;\n",
              "    }\n",
              "</style>\n",
              "<table border=\"1\" class=\"dataframe\">\n",
              "  <thead>\n",
              "    <tr style=\"text-align: right;\">\n",
              "      <th></th>\n",
              "      <th>Net Profit</th>\n",
              "      <th>Counter Sales</th>\n",
              "      <th>Drive-through Sales</th>\n",
              "      <th>number of customers</th>\n",
              "      <th>Business Type_encoded</th>\n",
              "      <th>Location_encoded</th>\n",
              "    </tr>\n",
              "  </thead>\n",
              "  <tbody>\n",
              "    <tr>\n",
              "      <th>0</th>\n",
              "      <td>2.0</td>\n",
              "      <td>8.4</td>\n",
              "      <td>7.7</td>\n",
              "      <td>101</td>\n",
              "      <td>1</td>\n",
              "      <td>1</td>\n",
              "    </tr>\n",
              "    <tr>\n",
              "      <th>1</th>\n",
              "      <td>1.3</td>\n",
              "      <td>3.3</td>\n",
              "      <td>4.5</td>\n",
              "      <td>59</td>\n",
              "      <td>1</td>\n",
              "      <td>1</td>\n",
              "    </tr>\n",
              "    <tr>\n",
              "      <th>2</th>\n",
              "      <td>1.2</td>\n",
              "      <td>5.8</td>\n",
              "      <td>8.4</td>\n",
              "      <td>103</td>\n",
              "      <td>2</td>\n",
              "      <td>0</td>\n",
              "    </tr>\n",
              "    <tr>\n",
              "      <th>3</th>\n",
              "      <td>2.4</td>\n",
              "      <td>10.0</td>\n",
              "      <td>7.8</td>\n",
              "      <td>106</td>\n",
              "      <td>0</td>\n",
              "      <td>0</td>\n",
              "    </tr>\n",
              "    <tr>\n",
              "      <th>4</th>\n",
              "      <td>0.7</td>\n",
              "      <td>4.7</td>\n",
              "      <td>2.4</td>\n",
              "      <td>80</td>\n",
              "      <td>1</td>\n",
              "      <td>0</td>\n",
              "    </tr>\n",
              "  </tbody>\n",
              "</table>\n",
              "</div>\n",
              "    <div class=\"colab-df-buttons\">\n",
              "\n",
              "  <div class=\"colab-df-container\">\n",
              "    <button class=\"colab-df-convert\" onclick=\"convertToInteractive('df-7a2c019c-81bf-4fd7-b22a-eb3957224518')\"\n",
              "            title=\"Convert this dataframe to an interactive table.\"\n",
              "            style=\"display:none;\">\n",
              "\n",
              "  <svg xmlns=\"http://www.w3.org/2000/svg\" height=\"24px\" viewBox=\"0 -960 960 960\">\n",
              "    <path d=\"M120-120v-720h720v720H120Zm60-500h600v-160H180v160Zm220 220h160v-160H400v160Zm0 220h160v-160H400v160ZM180-400h160v-160H180v160Zm440 0h160v-160H620v160ZM180-180h160v-160H180v160Zm440 0h160v-160H620v160Z\"/>\n",
              "  </svg>\n",
              "    </button>\n",
              "\n",
              "  <style>\n",
              "    .colab-df-container {\n",
              "      display:flex;\n",
              "      gap: 12px;\n",
              "    }\n",
              "\n",
              "    .colab-df-convert {\n",
              "      background-color: #E8F0FE;\n",
              "      border: none;\n",
              "      border-radius: 50%;\n",
              "      cursor: pointer;\n",
              "      display: none;\n",
              "      fill: #1967D2;\n",
              "      height: 32px;\n",
              "      padding: 0 0 0 0;\n",
              "      width: 32px;\n",
              "    }\n",
              "\n",
              "    .colab-df-convert:hover {\n",
              "      background-color: #E2EBFA;\n",
              "      box-shadow: 0px 1px 2px rgba(60, 64, 67, 0.3), 0px 1px 3px 1px rgba(60, 64, 67, 0.15);\n",
              "      fill: #174EA6;\n",
              "    }\n",
              "\n",
              "    .colab-df-buttons div {\n",
              "      margin-bottom: 4px;\n",
              "    }\n",
              "\n",
              "    [theme=dark] .colab-df-convert {\n",
              "      background-color: #3B4455;\n",
              "      fill: #D2E3FC;\n",
              "    }\n",
              "\n",
              "    [theme=dark] .colab-df-convert:hover {\n",
              "      background-color: #434B5C;\n",
              "      box-shadow: 0px 1px 3px 1px rgba(0, 0, 0, 0.15);\n",
              "      filter: drop-shadow(0px 1px 2px rgba(0, 0, 0, 0.3));\n",
              "      fill: #FFFFFF;\n",
              "    }\n",
              "  </style>\n",
              "\n",
              "    <script>\n",
              "      const buttonEl =\n",
              "        document.querySelector('#df-7a2c019c-81bf-4fd7-b22a-eb3957224518 button.colab-df-convert');\n",
              "      buttonEl.style.display =\n",
              "        google.colab.kernel.accessAllowed ? 'block' : 'none';\n",
              "\n",
              "      async function convertToInteractive(key) {\n",
              "        const element = document.querySelector('#df-7a2c019c-81bf-4fd7-b22a-eb3957224518');\n",
              "        const dataTable =\n",
              "          await google.colab.kernel.invokeFunction('convertToInteractive',\n",
              "                                                    [key], {});\n",
              "        if (!dataTable) return;\n",
              "\n",
              "        const docLinkHtml = 'Like what you see? Visit the ' +\n",
              "          '<a target=\"_blank\" href=https://colab.research.google.com/notebooks/data_table.ipynb>data table notebook</a>'\n",
              "          + ' to learn more about interactive tables.';\n",
              "        element.innerHTML = '';\n",
              "        dataTable['output_type'] = 'display_data';\n",
              "        await google.colab.output.renderOutput(dataTable, element);\n",
              "        const docLink = document.createElement('div');\n",
              "        docLink.innerHTML = docLinkHtml;\n",
              "        element.appendChild(docLink);\n",
              "      }\n",
              "    </script>\n",
              "  </div>\n",
              "\n",
              "\n",
              "<div id=\"df-f16b3891-ded0-42ce-ae80-eaff86f07433\">\n",
              "  <button class=\"colab-df-quickchart\" onclick=\"quickchart('df-f16b3891-ded0-42ce-ae80-eaff86f07433')\"\n",
              "            title=\"Suggest charts\"\n",
              "            style=\"display:none;\">\n",
              "\n",
              "<svg xmlns=\"http://www.w3.org/2000/svg\" height=\"24px\"viewBox=\"0 0 24 24\"\n",
              "     width=\"24px\">\n",
              "    <g>\n",
              "        <path d=\"M19 3H5c-1.1 0-2 .9-2 2v14c0 1.1.9 2 2 2h14c1.1 0 2-.9 2-2V5c0-1.1-.9-2-2-2zM9 17H7v-7h2v7zm4 0h-2V7h2v10zm4 0h-2v-4h2v4z\"/>\n",
              "    </g>\n",
              "</svg>\n",
              "  </button>\n",
              "\n",
              "<style>\n",
              "  .colab-df-quickchart {\n",
              "      --bg-color: #E8F0FE;\n",
              "      --fill-color: #1967D2;\n",
              "      --hover-bg-color: #E2EBFA;\n",
              "      --hover-fill-color: #174EA6;\n",
              "      --disabled-fill-color: #AAA;\n",
              "      --disabled-bg-color: #DDD;\n",
              "  }\n",
              "\n",
              "  [theme=dark] .colab-df-quickchart {\n",
              "      --bg-color: #3B4455;\n",
              "      --fill-color: #D2E3FC;\n",
              "      --hover-bg-color: #434B5C;\n",
              "      --hover-fill-color: #FFFFFF;\n",
              "      --disabled-bg-color: #3B4455;\n",
              "      --disabled-fill-color: #666;\n",
              "  }\n",
              "\n",
              "  .colab-df-quickchart {\n",
              "    background-color: var(--bg-color);\n",
              "    border: none;\n",
              "    border-radius: 50%;\n",
              "    cursor: pointer;\n",
              "    display: none;\n",
              "    fill: var(--fill-color);\n",
              "    height: 32px;\n",
              "    padding: 0;\n",
              "    width: 32px;\n",
              "  }\n",
              "\n",
              "  .colab-df-quickchart:hover {\n",
              "    background-color: var(--hover-bg-color);\n",
              "    box-shadow: 0 1px 2px rgba(60, 64, 67, 0.3), 0 1px 3px 1px rgba(60, 64, 67, 0.15);\n",
              "    fill: var(--button-hover-fill-color);\n",
              "  }\n",
              "\n",
              "  .colab-df-quickchart-complete:disabled,\n",
              "  .colab-df-quickchart-complete:disabled:hover {\n",
              "    background-color: var(--disabled-bg-color);\n",
              "    fill: var(--disabled-fill-color);\n",
              "    box-shadow: none;\n",
              "  }\n",
              "\n",
              "  .colab-df-spinner {\n",
              "    border: 2px solid var(--fill-color);\n",
              "    border-color: transparent;\n",
              "    border-bottom-color: var(--fill-color);\n",
              "    animation:\n",
              "      spin 1s steps(1) infinite;\n",
              "  }\n",
              "\n",
              "  @keyframes spin {\n",
              "    0% {\n",
              "      border-color: transparent;\n",
              "      border-bottom-color: var(--fill-color);\n",
              "      border-left-color: var(--fill-color);\n",
              "    }\n",
              "    20% {\n",
              "      border-color: transparent;\n",
              "      border-left-color: var(--fill-color);\n",
              "      border-top-color: var(--fill-color);\n",
              "    }\n",
              "    30% {\n",
              "      border-color: transparent;\n",
              "      border-left-color: var(--fill-color);\n",
              "      border-top-color: var(--fill-color);\n",
              "      border-right-color: var(--fill-color);\n",
              "    }\n",
              "    40% {\n",
              "      border-color: transparent;\n",
              "      border-right-color: var(--fill-color);\n",
              "      border-top-color: var(--fill-color);\n",
              "    }\n",
              "    60% {\n",
              "      border-color: transparent;\n",
              "      border-right-color: var(--fill-color);\n",
              "    }\n",
              "    80% {\n",
              "      border-color: transparent;\n",
              "      border-right-color: var(--fill-color);\n",
              "      border-bottom-color: var(--fill-color);\n",
              "    }\n",
              "    90% {\n",
              "      border-color: transparent;\n",
              "      border-bottom-color: var(--fill-color);\n",
              "    }\n",
              "  }\n",
              "</style>\n",
              "\n",
              "  <script>\n",
              "    async function quickchart(key) {\n",
              "      const quickchartButtonEl =\n",
              "        document.querySelector('#' + key + ' button');\n",
              "      quickchartButtonEl.disabled = true;  // To prevent multiple clicks.\n",
              "      quickchartButtonEl.classList.add('colab-df-spinner');\n",
              "      try {\n",
              "        const charts = await google.colab.kernel.invokeFunction(\n",
              "            'suggestCharts', [key], {});\n",
              "      } catch (error) {\n",
              "        console.error('Error during call to suggestCharts:', error);\n",
              "      }\n",
              "      quickchartButtonEl.classList.remove('colab-df-spinner');\n",
              "      quickchartButtonEl.classList.add('colab-df-quickchart-complete');\n",
              "    }\n",
              "    (() => {\n",
              "      let quickchartButtonEl =\n",
              "        document.querySelector('#df-f16b3891-ded0-42ce-ae80-eaff86f07433 button');\n",
              "      quickchartButtonEl.style.display =\n",
              "        google.colab.kernel.accessAllowed ? 'block' : 'none';\n",
              "    })();\n",
              "  </script>\n",
              "</div>\n",
              "    </div>\n",
              "  </div>\n"
            ]
          },
          "metadata": {},
          "execution_count": 100
        }
      ]
    },
    {
      "cell_type": "code",
      "source": [],
      "metadata": {
        "id": "vQT_mb87r_TQ"
      },
      "execution_count": 100,
      "outputs": []
    },
    {
      "cell_type": "markdown",
      "source": [
        "## What is the forecast of the net profit, if the counter sales are 500,000 $, drive-through\n",
        "#sales are 700,000$, and the franchise is a pizza store located in Richmond, using both\n",
        "#models (Decision Tree and Random Forest). Comment on the forecasted value."
      ],
      "metadata": {
        "id": "Mixg9w20s7lm"
      }
    },
    {
      "cell_type": "code",
      "source": [
        "# Input test data for Decision Tree\n",
        "x_test_dt = np.array([500000, 700000, 0, 0, 1], dtype=object)\n",
        "x_test_dt = x_test_dt.reshape(1, -1)\n",
        "\n",
        "# Make prediction using Decision Tree model\n",
        "y_pred_dt = model.predict(x_test_dt)\n"
      ],
      "metadata": {
        "colab": {
          "base_uri": "https://localhost:8080/",
          "height": 0
        },
        "id": "eo2-1ev4k6VE",
        "outputId": "5ce7937b-01d9-4f56-fe4f-247cbafdbea2"
      },
      "execution_count": 101,
      "outputs": [
        {
          "output_type": "stream",
          "name": "stderr",
          "text": [
            "/usr/local/lib/python3.10/dist-packages/sklearn/base.py:439: UserWarning: X does not have valid feature names, but DecisionTreeRegressor was fitted with feature names\n",
            "  warnings.warn(\n"
          ]
        }
      ]
    },
    {
      "cell_type": "code",
      "source": [
        "y_pred_dt"
      ],
      "metadata": {
        "colab": {
          "base_uri": "https://localhost:8080/",
          "height": 0
        },
        "id": "IhgmgeGfk6SQ",
        "outputId": "0d19cf3a-e4e1-474d-b652-dfe8bcfaabef"
      },
      "execution_count": 102,
      "outputs": [
        {
          "output_type": "execute_result",
          "data": {
            "text/plain": [
              "array([2.2])"
            ]
          },
          "metadata": {},
          "execution_count": 102
        }
      ]
    },
    {
      "cell_type": "code",
      "source": [
        "# Input test data for RANDOM FOREST\n",
        "x_test_dt = np.array([500000, 700000, 0, 0, 1], dtype=object)\n",
        "x_test_dt = x_test_dt.reshape(1, -1)\n",
        "\n",
        "# Make prediction using Decision Tree model\n",
        "y_pred_RF = rf_model.predict(x_test_dt)\n"
      ],
      "metadata": {
        "colab": {
          "base_uri": "https://localhost:8080/",
          "height": 0
        },
        "id": "8SwwTeSKk6N9",
        "outputId": "28e4ecf5-e361-4e89-f880-40d43d8abc6c"
      },
      "execution_count": 103,
      "outputs": [
        {
          "output_type": "stream",
          "name": "stderr",
          "text": [
            "/usr/local/lib/python3.10/dist-packages/sklearn/base.py:439: UserWarning: X does not have valid feature names, but RandomForestRegressor was fitted with feature names\n",
            "  warnings.warn(\n"
          ]
        }
      ]
    },
    {
      "cell_type": "code",
      "source": [
        "y_pred_RF"
      ],
      "metadata": {
        "colab": {
          "base_uri": "https://localhost:8080/",
          "height": 0
        },
        "id": "HfYIaVJ-k6Kl",
        "outputId": "58915f06-d963-4505-d28b-85922619ee62"
      },
      "execution_count": 104,
      "outputs": [
        {
          "output_type": "execute_result",
          "data": {
            "text/plain": [
              "array([2.35428571])"
            ]
          },
          "metadata": {},
          "execution_count": 104
        }
      ]
    },
    {
      "cell_type": "markdown",
      "source": [
        "## saving the clean dataset , the reference file"
      ],
      "metadata": {
        "id": "pfb7m0dXhTjY"
      }
    },
    {
      "cell_type": "code",
      "source": [
        "df.to_csv('REFERENCE_EXCEL.csv', index=False)\n"
      ],
      "metadata": {
        "id": "kJOstmHzk6Hb"
      },
      "execution_count": 105,
      "outputs": []
    },
    {
      "cell_type": "code",
      "source": [],
      "metadata": {
        "id": "KH5HLpdtk6Dv"
      },
      "execution_count": 105,
      "outputs": []
    },
    {
      "cell_type": "code",
      "source": [],
      "metadata": {
        "id": "spns8RJ-k51h"
      },
      "execution_count": 105,
      "outputs": []
    }
  ]
}