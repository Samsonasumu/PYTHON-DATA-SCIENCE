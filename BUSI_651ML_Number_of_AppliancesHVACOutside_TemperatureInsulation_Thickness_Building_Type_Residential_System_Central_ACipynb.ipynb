{
  "nbformat": 4,
  "nbformat_minor": 0,
  "metadata": {
    "colab": {
      "provenance": []
    },
    "kernelspec": {
      "name": "python3",
      "display_name": "Python 3"
    },
    "language_info": {
      "name": "python"
    }
  },
  "cells": [
    {
      "cell_type": "code",
      "execution_count": null,
      "metadata": {
        "id": "wxij1LmM0e34"
      },
      "outputs": [],
      "source": [
        "import pandas as pd\n",
        "import numpy as np\n",
        "import seaborn as sns\n",
        "import matplotlib.pyplot as plt\n",
        "%matplotlib inline"
      ]
    },
    {
      "cell_type": "code",
      "source": [
        "df= pd.read_csv(\"/content/Dataset.csv\")"
      ],
      "metadata": {
        "id": "pWQev1Tv0sVy"
      },
      "execution_count": null,
      "outputs": []
    },
    {
      "cell_type": "code",
      "source": [
        "df.head(1)"
      ],
      "metadata": {
        "colab": {
          "base_uri": "https://localhost:8080/",
          "height": 150
        },
        "id": "caxRWVGt069e",
        "outputId": "f3197d53-22c0-49b5-d7e6-aa1f74dae6c3"
      },
      "execution_count": null,
      "outputs": [
        {
          "output_type": "execute_result",
          "data": {
            "text/plain": [
              "   Room Area (sq. ft.)  Number of Appliances  Outside Temperature (C)  \\\n",
              "0                  270                    15                       30   \n",
              "\n",
              "   Insulation Thickness (inches) Building Type  HVAC System  \\\n",
              "0                            2.0   Residential   Central AC   \n",
              "\n",
              "   Average Temperature in last 24 hours (C)  Energy Consumption (kWh)  \n",
              "0                                        28                       380  "
            ],
            "text/html": [
              "\n",
              "  <div id=\"df-64a51860-bead-450c-afd3-0c8582c5e957\" class=\"colab-df-container\">\n",
              "    <div>\n",
              "<style scoped>\n",
              "    .dataframe tbody tr th:only-of-type {\n",
              "        vertical-align: middle;\n",
              "    }\n",
              "\n",
              "    .dataframe tbody tr th {\n",
              "        vertical-align: top;\n",
              "    }\n",
              "\n",
              "    .dataframe thead th {\n",
              "        text-align: right;\n",
              "    }\n",
              "</style>\n",
              "<table border=\"1\" class=\"dataframe\">\n",
              "  <thead>\n",
              "    <tr style=\"text-align: right;\">\n",
              "      <th></th>\n",
              "      <th>Room Area (sq. ft.)</th>\n",
              "      <th>Number of Appliances</th>\n",
              "      <th>Outside Temperature (C)</th>\n",
              "      <th>Insulation Thickness (inches)</th>\n",
              "      <th>Building Type</th>\n",
              "      <th>HVAC System</th>\n",
              "      <th>Average Temperature in last 24 hours (C)</th>\n",
              "      <th>Energy Consumption (kWh)</th>\n",
              "    </tr>\n",
              "  </thead>\n",
              "  <tbody>\n",
              "    <tr>\n",
              "      <th>0</th>\n",
              "      <td>270</td>\n",
              "      <td>15</td>\n",
              "      <td>30</td>\n",
              "      <td>2.0</td>\n",
              "      <td>Residential</td>\n",
              "      <td>Central AC</td>\n",
              "      <td>28</td>\n",
              "      <td>380</td>\n",
              "    </tr>\n",
              "  </tbody>\n",
              "</table>\n",
              "</div>\n",
              "    <div class=\"colab-df-buttons\">\n",
              "\n",
              "  <div class=\"colab-df-container\">\n",
              "    <button class=\"colab-df-convert\" onclick=\"convertToInteractive('df-64a51860-bead-450c-afd3-0c8582c5e957')\"\n",
              "            title=\"Convert this dataframe to an interactive table.\"\n",
              "            style=\"display:none;\">\n",
              "\n",
              "  <svg xmlns=\"http://www.w3.org/2000/svg\" height=\"24px\" viewBox=\"0 -960 960 960\">\n",
              "    <path d=\"M120-120v-720h720v720H120Zm60-500h600v-160H180v160Zm220 220h160v-160H400v160Zm0 220h160v-160H400v160ZM180-400h160v-160H180v160Zm440 0h160v-160H620v160ZM180-180h160v-160H180v160Zm440 0h160v-160H620v160Z\"/>\n",
              "  </svg>\n",
              "    </button>\n",
              "\n",
              "  <style>\n",
              "    .colab-df-container {\n",
              "      display:flex;\n",
              "      gap: 12px;\n",
              "    }\n",
              "\n",
              "    .colab-df-convert {\n",
              "      background-color: #E8F0FE;\n",
              "      border: none;\n",
              "      border-radius: 50%;\n",
              "      cursor: pointer;\n",
              "      display: none;\n",
              "      fill: #1967D2;\n",
              "      height: 32px;\n",
              "      padding: 0 0 0 0;\n",
              "      width: 32px;\n",
              "    }\n",
              "\n",
              "    .colab-df-convert:hover {\n",
              "      background-color: #E2EBFA;\n",
              "      box-shadow: 0px 1px 2px rgba(60, 64, 67, 0.3), 0px 1px 3px 1px rgba(60, 64, 67, 0.15);\n",
              "      fill: #174EA6;\n",
              "    }\n",
              "\n",
              "    .colab-df-buttons div {\n",
              "      margin-bottom: 4px;\n",
              "    }\n",
              "\n",
              "    [theme=dark] .colab-df-convert {\n",
              "      background-color: #3B4455;\n",
              "      fill: #D2E3FC;\n",
              "    }\n",
              "\n",
              "    [theme=dark] .colab-df-convert:hover {\n",
              "      background-color: #434B5C;\n",
              "      box-shadow: 0px 1px 3px 1px rgba(0, 0, 0, 0.15);\n",
              "      filter: drop-shadow(0px 1px 2px rgba(0, 0, 0, 0.3));\n",
              "      fill: #FFFFFF;\n",
              "    }\n",
              "  </style>\n",
              "\n",
              "    <script>\n",
              "      const buttonEl =\n",
              "        document.querySelector('#df-64a51860-bead-450c-afd3-0c8582c5e957 button.colab-df-convert');\n",
              "      buttonEl.style.display =\n",
              "        google.colab.kernel.accessAllowed ? 'block' : 'none';\n",
              "\n",
              "      async function convertToInteractive(key) {\n",
              "        const element = document.querySelector('#df-64a51860-bead-450c-afd3-0c8582c5e957');\n",
              "        const dataTable =\n",
              "          await google.colab.kernel.invokeFunction('convertToInteractive',\n",
              "                                                    [key], {});\n",
              "        if (!dataTable) return;\n",
              "\n",
              "        const docLinkHtml = 'Like what you see? Visit the ' +\n",
              "          '<a target=\"_blank\" href=https://colab.research.google.com/notebooks/data_table.ipynb>data table notebook</a>'\n",
              "          + ' to learn more about interactive tables.';\n",
              "        element.innerHTML = '';\n",
              "        dataTable['output_type'] = 'display_data';\n",
              "        await google.colab.output.renderOutput(dataTable, element);\n",
              "        const docLink = document.createElement('div');\n",
              "        docLink.innerHTML = docLinkHtml;\n",
              "        element.appendChild(docLink);\n",
              "      }\n",
              "    </script>\n",
              "  </div>\n",
              "\n",
              "    </div>\n",
              "  </div>\n"
            ]
          },
          "metadata": {},
          "execution_count": 42
        }
      ]
    },
    {
      "cell_type": "code",
      "source": [
        "\n",
        "unique_values = df['Building Type'].unique()\n",
        "unique_sysy = df['HVAC System'].unique()\n",
        "\n",
        "\n",
        "print(unique_values)\n",
        "print(unique_sysy)\n"
      ],
      "metadata": {
        "colab": {
          "base_uri": "https://localhost:8080/"
        },
        "id": "RjL47BL04obr",
        "outputId": "354405be-217a-48b9-97a7-42b033670033"
      },
      "execution_count": null,
      "outputs": [
        {
          "output_type": "stream",
          "name": "stdout",
          "text": [
            "[' Residential' ' Commercial']\n",
            "[' Central AC' ' Split AC' ' Window AC']\n"
          ]
        }
      ]
    },
    {
      "cell_type": "code",
      "source": [
        "df.columns"
      ],
      "metadata": {
        "colab": {
          "base_uri": "https://localhost:8080/"
        },
        "id": "VbIU5IBt35cv",
        "outputId": "ac52c265-7827-4036-982c-3e1e9e1569f1"
      },
      "execution_count": null,
      "outputs": [
        {
          "output_type": "execute_result",
          "data": {
            "text/plain": [
              "Index(['Room Area (sq. ft.)', 'Number of Appliances',\n",
              "       'Outside Temperature (C)', 'Insulation Thickness (inches)',\n",
              "       'Building Type', 'HVAC System',\n",
              "       'Average Temperature in last 24 hours (C)', 'Energy Consumption (kWh)'],\n",
              "      dtype='object')"
            ]
          },
          "metadata": {},
          "execution_count": 44
        }
      ]
    },
    {
      "cell_type": "code",
      "source": [
        "plt.figure(figsize=(12, 6))\n",
        "heatmap = sns.heatmap(df.corr(), vmin=-1, vmax=1, annot=True)\n",
        "heatmap.set_title('Correlation Heatmap of the variables', fontdict={'fontsize':12}, pad=12);"
      ],
      "metadata": {
        "colab": {
          "base_uri": "https://localhost:8080/",
          "height": 717
        },
        "id": "EDCxKh9T0_8l",
        "outputId": "9f3a40db-0709-4c2a-e13a-033b79da894c"
      },
      "execution_count": null,
      "outputs": [
        {
          "output_type": "stream",
          "name": "stderr",
          "text": [
            "<ipython-input-45-6d580c2fa330>:2: FutureWarning: The default value of numeric_only in DataFrame.corr is deprecated. In a future version, it will default to False. Select only valid columns or specify the value of numeric_only to silence this warning.\n",
            "  heatmap = sns.heatmap(df.corr(), vmin=-1, vmax=1, annot=True)\n"
          ]
        },
        {
          "output_type": "display_data",
          "data": {
            "text/plain": [
              "<Figure size 1200x600 with 2 Axes>"
            ],
            "image/png": "[encoded data removed]"
          },
          "metadata": {}
        }
      ]
    },
    {
      "cell_type": "code",
      "source": [
        "df.isnull().sum()"
      ],
      "metadata": {
        "colab": {
          "base_uri": "https://localhost:8080/"
        },
        "id": "G_dyz3ez7bRn",
        "outputId": "75018d37-21e2-4ec7-b66e-759fc90dd0d5"
      },
      "execution_count": null,
      "outputs": [
        {
          "output_type": "execute_result",
          "data": {
            "text/plain": [
              "Room Area (sq. ft.)                         0\n",
              "Number of Appliances                        0\n",
              "Outside Temperature (C)                     0\n",
              "Insulation Thickness (inches)               0\n",
              "Building Type                               0\n",
              "HVAC System                                 0\n",
              "Average Temperature in last 24 hours (C)    0\n",
              "Energy Consumption (kWh)                    0\n",
              "dtype: int64"
            ]
          },
          "metadata": {},
          "execution_count": 46
        }
      ]
    },
    {
      "cell_type": "code",
      "source": [],
      "metadata": {
        "id": "guSdwlfJaq6e"
      },
      "execution_count": null,
      "outputs": []
    },
    {
      "cell_type": "code",
      "source": [
        "df.columns"
      ],
      "metadata": {
        "colab": {
          "base_uri": "https://localhost:8080/"
        },
        "id": "h8oEJCjD6sYA",
        "outputId": "9eccb8b0-a3ac-4423-eb0c-d502b55a297f"
      },
      "execution_count": null,
      "outputs": [
        {
          "output_type": "execute_result",
          "data": {
            "text/plain": [
              "Index(['Room Area (sq. ft.)', 'Number of Appliances',\n",
              "       'Outside Temperature (C)', 'Insulation Thickness (inches)',\n",
              "       'Building Type', 'HVAC System',\n",
              "       'Average Temperature in last 24 hours (C)', 'Energy Consumption (kWh)'],\n",
              "      dtype='object')"
            ]
          },
          "metadata": {},
          "execution_count": 47
        }
      ]
    },
    {
      "cell_type": "code",
      "source": [
        "#One Hot Encoding\n",
        "# Variables to apply one hot encoding\n",
        "list = [ 'Building Type', 'HVAC System']\n",
        "#df_clean = pd.get_dummies(df, columns =list, drop_first = True)\n",
        "df_clean = pd.get_dummies(df, columns =list, drop_first =  False)\n"
      ],
      "metadata": {
        "id": "cdZv8DMQ6MQ-"
      },
      "execution_count": null,
      "outputs": []
    },
    {
      "cell_type": "code",
      "source": [
        "df_clean.head(1)"
      ],
      "metadata": {
        "colab": {
          "base_uri": "https://localhost:8080/",
          "height": 153
        },
        "id": "9RRzgi6o63xB",
        "outputId": "70c8e87b-8156-4efe-b599-344b2dbe091d"
      },
      "execution_count": null,
      "outputs": [
        {
          "output_type": "execute_result",
          "data": {
            "text/plain": [
              "   Room Area (sq. ft.)  Number of Appliances  Outside Temperature (C)  \\\n",
              "0                  270                    15                       30   \n",
              "\n",
              "   Insulation Thickness (inches)  Average Temperature in last 24 hours (C)  \\\n",
              "0                            2.0                                        28   \n",
              "\n",
              "   Energy Consumption (kWh)  Building Type_ Commercial  \\\n",
              "0                       380                          0   \n",
              "\n",
              "   Building Type_ Residential  HVAC System_ Central AC  HVAC System_ Split AC  \\\n",
              "0                           1                        1                      0   \n",
              "\n",
              "   HVAC System_ Window AC  \n",
              "0                       0  "
            ],
            "text/html": [
              "\n",
              "  <div id=\"df-19e749c4-c8e7-4148-8941-fc50f98642ab\" class=\"colab-df-container\">\n",
              "    <div>\n",
              "<style scoped>\n",
              "    .dataframe tbody tr th:only-of-type {\n",
              "        vertical-align: middle;\n",
              "    }\n",
              "\n",
              "    .dataframe tbody tr th {\n",
              "        vertical-align: top;\n",
              "    }\n",
              "\n",
              "    .dataframe thead th {\n",
              "        text-align: right;\n",
              "    }\n",
              "</style>\n",
              "<table border=\"1\" class=\"dataframe\">\n",
              "  <thead>\n",
              "    <tr style=\"text-align: right;\">\n",
              "      <th></th>\n",
              "      <th>Room Area (sq. ft.)</th>\n",
              "      <th>Number of Appliances</th>\n",
              "      <th>Outside Temperature (C)</th>\n",
              "      <th>Insulation Thickness (inches)</th>\n",
              "      <th>Average Temperature in last 24 hours (C)</th>\n",
              "      <th>Energy Consumption (kWh)</th>\n",
              "      <th>Building Type_ Commercial</th>\n",
              "      <th>Building Type_ Residential</th>\n",
              "      <th>HVAC System_ Central AC</th>\n",
              "      <th>HVAC System_ Split AC</th>\n",
              "      <th>HVAC System_ Window AC</th>\n",
              "    </tr>\n",
              "  </thead>\n",
              "  <tbody>\n",
              "    <tr>\n",
              "      <th>0</th>\n",
              "      <td>270</td>\n",
              "      <td>15</td>\n",
              "      <td>30</td>\n",
              "      <td>2.0</td>\n",
              "      <td>28</td>\n",
              "      <td>380</td>\n",
              "      <td>0</td>\n",
              "      <td>1</td>\n",
              "      <td>1</td>\n",
              "      <td>0</td>\n",
              "      <td>0</td>\n",
              "    </tr>\n",
              "  </tbody>\n",
              "</table>\n",
              "</div>\n",
              "    <div class=\"colab-df-buttons\">\n",
              "\n",
              "  <div class=\"colab-df-container\">\n",
              "    <button class=\"colab-df-convert\" onclick=\"convertToInteractive('df-19e749c4-c8e7-4148-8941-fc50f98642ab')\"\n",
              "            title=\"Convert this dataframe to an interactive table.\"\n",
              "            style=\"display:none;\">\n",
              "\n",
              "  <svg xmlns=\"http://www.w3.org/2000/svg\" height=\"24px\" viewBox=\"0 -960 960 960\">\n",
              "    <path d=\"M120-120v-720h720v720H120Zm60-500h600v-160H180v160Zm220 220h160v-160H400v160Zm0 220h160v-160H400v160ZM180-400h160v-160H180v160Zm440 0h160v-160H620v160ZM180-180h160v-160H180v160Zm440 0h160v-160H620v160Z\"/>\n",
              "  </svg>\n",
              "    </button>\n",
              "\n",
              "  <style>\n",
              "    .colab-df-container {\n",
              "      display:flex;\n",
              "      gap: 12px;\n",
              "    }\n",
              "\n",
              "    .colab-df-convert {\n",
              "      background-color: #E8F0FE;\n",
              "      border: none;\n",
              "      border-radius: 50%;\n",
              "      cursor: pointer;\n",
              "      display: none;\n",
              "      fill: #1967D2;\n",
              "      height: 32px;\n",
              "      padding: 0 0 0 0;\n",
              "      width: 32px;\n",
              "    }\n",
              "\n",
              "    .colab-df-convert:hover {\n",
              "      background-color: #E2EBFA;\n",
              "      box-shadow: 0px 1px 2px rgba(60, 64, 67, 0.3), 0px 1px 3px 1px rgba(60, 64, 67, 0.15);\n",
              "      fill: #174EA6;\n",
              "    }\n",
              "\n",
              "    .colab-df-buttons div {\n",
              "      margin-bottom: 4px;\n",
              "    }\n",
              "\n",
              "    [theme=dark] .colab-df-convert {\n",
              "      background-color: #3B4455;\n",
              "      fill: #D2E3FC;\n",
              "    }\n",
              "\n",
              "    [theme=dark] .colab-df-convert:hover {\n",
              "      background-color: #434B5C;\n",
              "      box-shadow: 0px 1px 3px 1px rgba(0, 0, 0, 0.15);\n",
              "      filter: drop-shadow(0px 1px 2px rgba(0, 0, 0, 0.3));\n",
              "      fill: #FFFFFF;\n",
              "    }\n",
              "  </style>\n",
              "\n",
              "    <script>\n",
              "      const buttonEl =\n",
              "        document.querySelector('#df-19e749c4-c8e7-4148-8941-fc50f98642ab button.colab-df-convert');\n",
              "      buttonEl.style.display =\n",
              "        google.colab.kernel.accessAllowed ? 'block' : 'none';\n",
              "\n",
              "      async function convertToInteractive(key) {\n",
              "        const element = document.querySelector('#df-19e749c4-c8e7-4148-8941-fc50f98642ab');\n",
              "        const dataTable =\n",
              "          await google.colab.kernel.invokeFunction('convertToInteractive',\n",
              "                                                    [key], {});\n",
              "        if (!dataTable) return;\n",
              "\n",
              "        const docLinkHtml = 'Like what you see? Visit the ' +\n",
              "          '<a target=\"_blank\" href=https://colab.research.google.com/notebooks/data_table.ipynb>data table notebook</a>'\n",
              "          + ' to learn more about interactive tables.';\n",
              "        element.innerHTML = '';\n",
              "        dataTable['output_type'] = 'display_data';\n",
              "        await google.colab.output.renderOutput(dataTable, element);\n",
              "        const docLink = document.createElement('div');\n",
              "        docLink.innerHTML = docLinkHtml;\n",
              "        element.appendChild(docLink);\n",
              "      }\n",
              "    </script>\n",
              "  </div>\n",
              "\n",
              "    </div>\n",
              "  </div>\n"
            ]
          },
          "metadata": {},
          "execution_count": 49
        }
      ]
    },
    {
      "cell_type": "markdown",
      "source": [
        "# multiple linear regresiion\n"
      ],
      "metadata": {
        "id": "5DUdMKrX8lJx"
      }
    },
    {
      "cell_type": "code",
      "source": [
        "df_clean.shape"
      ],
      "metadata": {
        "colab": {
          "base_uri": "https://localhost:8080/"
        },
        "id": "rIM7cr6yvVZB",
        "outputId": "c86d6afe-0d72-4b45-b621-9fed78a35e08"
      },
      "execution_count": null,
      "outputs": [
        {
          "output_type": "execute_result",
          "data": {
            "text/plain": [
              "(45, 11)"
            ]
          },
          "metadata": {},
          "execution_count": 50
        }
      ]
    },
    {
      "cell_type": "code",
      "source": [
        "x_ = df_clean.drop('Energy Consumption (kWh)', axis=1)\n",
        "y_ = df_clean['Energy Consumption (kWh)']"
      ],
      "metadata": {
        "id": "xrFqo_itub_s"
      },
      "execution_count": null,
      "outputs": []
    },
    {
      "cell_type": "code",
      "source": [
        "df_clean.columns"
      ],
      "metadata": {
        "colab": {
          "base_uri": "https://localhost:8080/"
        },
        "id": "1QTV6IWxwMhm",
        "outputId": "7a4082b5-f579-48b5-f411-b36e4ecb82c0"
      },
      "execution_count": null,
      "outputs": [
        {
          "output_type": "execute_result",
          "data": {
            "text/plain": [
              "Index(['Room Area (sq. ft.)', 'Number of Appliances',\n",
              "       'Outside Temperature (C)', 'Insulation Thickness (inches)',\n",
              "       'Average Temperature in last 24 hours (C)', 'Energy Consumption (kWh)',\n",
              "       'Building Type_ Commercial', 'Building Type_ Residential',\n",
              "       'HVAC System_ Central AC', 'HVAC System_ Split AC',\n",
              "       'HVAC System_ Window AC'],\n",
              "      dtype='object')"
            ]
          },
          "metadata": {},
          "execution_count": 52
        }
      ]
    },
    {
      "cell_type": "code",
      "source": [
        "x_.columns"
      ],
      "metadata": {
        "colab": {
          "base_uri": "https://localhost:8080/"
        },
        "id": "2ae1tVp8xaai",
        "outputId": "d6993c82-b5dd-44ed-a582-c12c8ed616b3"
      },
      "execution_count": null,
      "outputs": [
        {
          "output_type": "execute_result",
          "data": {
            "text/plain": [
              "Index(['Room Area (sq. ft.)', 'Number of Appliances',\n",
              "       'Outside Temperature (C)', 'Insulation Thickness (inches)',\n",
              "       'Average Temperature in last 24 hours (C)', 'Building Type_ Commercial',\n",
              "       'Building Type_ Residential', 'HVAC System_ Central AC',\n",
              "       'HVAC System_ Split AC', 'HVAC System_ Window AC'],\n",
              "      dtype='object')"
            ]
          },
          "metadata": {},
          "execution_count": 53
        }
      ]
    },
    {
      "cell_type": "code",
      "source": [
        "\n",
        "from sklearn.linear_model import LinearRegression\n",
        "\n",
        "# Train the multiple linear regression model\n",
        "model = LinearRegression()\n",
        "model.fit(x_, y_)"
      ],
      "metadata": {
        "colab": {
          "base_uri": "https://localhost:8080/",
          "height": 75
        },
        "id": "hwaY2bSrubqf",
        "outputId": "d9d4ad34-8ac2-47b2-d69b-075e198dd700"
      },
      "execution_count": null,
      "outputs": [
        {
          "output_type": "execute_result",
          "data": {
            "text/plain": [
              "LinearRegression()"
            ],
            "text/html": [
              "<style>#sk-container-id-1 {color: black;background-color: white;}#sk-container-id-1 pre{padding: 0;}#sk-container-id-1 div.sk-toggleable {background-color: white;}#sk-container-id-1 label.sk-toggleable__label {cursor: pointer;display: block;width: 100%;margin-bottom: 0;padding: 0.3em;box-sizing: border-box;text-align: center;}#sk-container-id-1 label.sk-toggleable__label-arrow:before {content: \"▸\";float: left;margin-right: 0.25em;color: #696969;}#sk-container-id-1 label.sk-toggleable__label-arrow:hover:before {color: black;}#sk-container-id-1 div.sk-estimator:hover label.sk-toggleable__label-arrow:before {color: black;}#sk-container-id-1 div.sk-toggleable__content {max-height: 0;max-width: 0;overflow: hidden;text-align: left;background-color: #f0f8ff;}#sk-container-id-1 div.sk-toggleable__content pre {margin: 0.2em;color: black;border-radius: 0.25em;background-color: #f0f8ff;}#sk-container-id-1 input.sk-toggleable__control:checked~div.sk-toggleable__content {max-height: 200px;max-width: 100%;overflow: auto;}#sk-container-id-1 input.sk-toggleable__control:checked~label.sk-toggleable__label-arrow:before {content: \"▾\";}#sk-container-id-1 div.sk-estimator input.sk-toggleable__control:checked~label.sk-toggleable__label {background-color: #d4ebff;}#sk-container-id-1 div.sk-label input.sk-toggleable__control:checked~label.sk-toggleable__label {background-color: #d4ebff;}#sk-container-id-1 input.sk-hidden--visually {border: 0;clip: rect(1px 1px 1px 1px);clip: rect(1px, 1px, 1px, 1px);height: 1px;margin: -1px;overflow: hidden;padding: 0;position: absolute;width: 1px;}#sk-container-id-1 div.sk-estimator {font-family: monospace;background-color: #f0f8ff;border: 1px dotted black;border-radius: 0.25em;box-sizing: border-box;margin-bottom: 0.5em;}#sk-container-id-1 div.sk-estimator:hover {background-color: #d4ebff;}#sk-container-id-1 div.sk-parallel-item::after {content: \"\";width: 100%;border-bottom: 1px solid gray;flex-grow: 1;}#sk-container-id-1 div.sk-label:hover label.sk-toggleable__label {background-color: #d4ebff;}#sk-container-id-1 div.sk-serial::before {content: \"\";position: absolute;border-left: 1px solid gray;box-sizing: border-box;top: 0;bottom: 0;left: 50%;z-index: 0;}#sk-container-id-1 div.sk-serial {display: flex;flex-direction: column;align-items: center;background-color: white;padding-right: 0.2em;padding-left: 0.2em;position: relative;}#sk-container-id-1 div.sk-item {position: relative;z-index: 1;}#sk-container-id-1 div.sk-parallel {display: flex;align-items: stretch;justify-content: center;background-color: white;position: relative;}#sk-container-id-1 div.sk-item::before, #sk-container-id-1 div.sk-parallel-item::before {content: \"\";position: absolute;border-left: 1px solid gray;box-sizing: border-box;top: 0;bottom: 0;left: 50%;z-index: -1;}#sk-container-id-1 div.sk-parallel-item {display: flex;flex-direction: column;z-index: 1;position: relative;background-color: white;}#sk-container-id-1 div.sk-parallel-item:first-child::after {align-self: flex-end;width: 50%;}#sk-container-id-1 div.sk-parallel-item:last-child::after {align-self: flex-start;width: 50%;}#sk-container-id-1 div.sk-parallel-item:only-child::after {width: 0;}#sk-container-id-1 div.sk-dashed-wrapped {border: 1px dashed gray;margin: 0 0.4em 0.5em 0.4em;box-sizing: border-box;padding-bottom: 0.4em;background-color: white;}#sk-container-id-1 div.sk-label label {font-family: monospace;font-weight: bold;display: inline-block;line-height: 1.2em;}#sk-container-id-1 div.sk-label-container {text-align: center;}#sk-container-id-1 div.sk-container {/* jupyter's `normalize.less` sets `[hidden] { display: none; }` but bootstrap.min.css set `[hidden] { display: none !important; }` so we also need the `!important` here to be able to override the default hidden behavior on the sphinx rendered scikit-learn.org. See: https://github.com/scikit-learn/scikit-learn/issues/21755 */display: inline-block !important;position: relative;}#sk-container-id-1 div.sk-text-repr-fallback {display: none;}</style><div id=\"sk-container-id-1\" class=\"sk-top-container\"><div class=\"sk-text-repr-fallback\"><pre>LinearRegression()</pre><b>In a Jupyter environment, please rerun this cell to show the HTML representation or trust the notebook. <br />On GitHub, the HTML representation is unable to render, please try loading this page with nbviewer.org.</b></div><div class=\"sk-container\" hidden><div class=\"sk-item\"><div class=\"sk-estimator sk-toggleable\"><input class=\"sk-toggleable__control sk-hidden--visually\" id=\"sk-estimator-id-1\" type=\"checkbox\" checked><label for=\"sk-estimator-id-1\" class=\"sk-toggleable__label sk-toggleable__label-arrow\">LinearRegression</label><div class=\"sk-toggleable__content\"><pre>LinearRegression()</pre></div></div></div></div></div>"
            ]
          },
          "metadata": {},
          "execution_count": 54
        }
      ]
    },
    {
      "cell_type": "markdown",
      "source": [
        "## point one"
      ],
      "metadata": {
        "id": "RIa23Wc7GF7s"
      }
    },
    {
      "cell_type": "code",
      "source": [
        "## point 1: Room Area (sq. ft.): 279, Number of Appliances: 16, Outside Temperature (°C): 20,\n",
        "##Insulation Thickness (inches): 1.7, Building Type: Residential, HVAC System: Central AC,\n",
        "##Average Temperature in last 24 hours (°C): 19, Energy Consumption (kWh):\n"
      ],
      "metadata": {
        "id": "-AAmrFosED3f"
      },
      "execution_count": null,
      "outputs": []
    },
    {
      "cell_type": "code",
      "source": [
        " point1 = [279, 16, 20, 1.7, 19, 0,  1, 1, 0, 0, ]\n",
        " pred_point1 = model.predict([point1])\n"
      ],
      "metadata": {
        "colab": {
          "base_uri": "https://localhost:8080/"
        },
        "id": "AVIGZ8a_yS5Y",
        "outputId": "868950a3-5359-47f6-a7af-242e2e1655e5"
      },
      "execution_count": null,
      "outputs": [
        {
          "output_type": "stream",
          "name": "stderr",
          "text": [
            "/usr/local/lib/python3.10/dist-packages/sklearn/base.py:439: UserWarning: X does not have valid feature names, but LinearRegression was fitted with feature names\n",
            "  warnings.warn(\n"
          ]
        }
      ]
    },
    {
      "cell_type": "code",
      "source": [
        " print('Predicted Energy Consumption (point1):', pred_point1)"
      ],
      "metadata": {
        "colab": {
          "base_uri": "https://localhost:8080/"
        },
        "id": "xdNe77wCF5Gs",
        "outputId": "1ed149a8-a1f8-46c0-9278-00b5ecf55709"
      },
      "execution_count": null,
      "outputs": [
        {
          "output_type": "stream",
          "name": "stdout",
          "text": [
            "Predicted Energy Consumption (point1): [423.63209416]\n"
          ]
        }
      ]
    },
    {
      "cell_type": "markdown",
      "source": [
        "## point two"
      ],
      "metadata": {
        "id": "xWmdTiL5GKrc"
      }
    },
    {
      "cell_type": "code",
      "source": [
        "#point 2: Room Area (sq. ft.): 277, Number of Appliances: 22, Outside Temperature (°C): 15,\n",
        "#Insulation Thickness (inches): 1.5, Building Type: Commercial, HVAC System: Split AC,\n",
        "#Average Temperature in last 24 hours (°C): 14, Energy Consumption (kWh): 425\n"
      ],
      "metadata": {
        "id": "lBu-K69kGxr8"
      },
      "execution_count": null,
      "outputs": []
    },
    {
      "cell_type": "code",
      "source": [
        "point2 = [277, 22, 15, 1.5, 14, 1, 0, 0, 1,  0]\n",
        "pred_point2 = model.predict([point2])\n"
      ],
      "metadata": {
        "colab": {
          "base_uri": "https://localhost:8080/"
        },
        "id": "6xTgsjBoF_qd",
        "outputId": "89862f87-e2d9-441c-f341-f78363d5cee5"
      },
      "execution_count": null,
      "outputs": [
        {
          "output_type": "stream",
          "name": "stderr",
          "text": [
            "/usr/local/lib/python3.10/dist-packages/sklearn/base.py:439: UserWarning: X does not have valid feature names, but LinearRegression was fitted with feature names\n",
            "  warnings.warn(\n"
          ]
        }
      ]
    },
    {
      "cell_type": "code",
      "source": [
        " print('Predicted Energy Consumption (point2):', pred_point2)"
      ],
      "metadata": {
        "colab": {
          "base_uri": "https://localhost:8080/"
        },
        "id": "xYy2_mSbF_mv",
        "outputId": "aa646607-3751-4bca-ca44-4b7737e94cba"
      },
      "execution_count": null,
      "outputs": [
        {
          "output_type": "stream",
          "name": "stdout",
          "text": [
            "Predicted Energy Consumption (point2): [440.24067264]\n"
          ]
        }
      ]
    },
    {
      "cell_type": "markdown",
      "source": [
        "## point 3"
      ],
      "metadata": {
        "id": "lU1OEWsrITqZ"
      }
    },
    {
      "cell_type": "code",
      "source": [
        "#point 3: Room Area (sq. ft.): 276, Number of Appliances: 14, Outside Temperature (°C): 25,\n",
        "#Insulation Thickness (inches): 2.2, Building Type: Residential, HVAC System: Window AC,\n",
        "#Average Temperature in last 24 hours (°C): 26, Energy Consumption (kWh): 350"
      ],
      "metadata": {
        "id": "CKHeRnUcIbFI"
      },
      "execution_count": null,
      "outputs": []
    },
    {
      "cell_type": "code",
      "source": [
        "point3 = [276, 14, 25, 2.2, 26, 0, 1, 0, 0, 1]\n",
        "pred_point3 = model.predict([point3])\n"
      ],
      "metadata": {
        "colab": {
          "base_uri": "https://localhost:8080/"
        },
        "id": "SboPo8s4F_Xt",
        "outputId": "3eff928c-97e4-4e23-dcfc-09562c064db8"
      },
      "execution_count": null,
      "outputs": [
        {
          "output_type": "stream",
          "name": "stderr",
          "text": [
            "/usr/local/lib/python3.10/dist-packages/sklearn/base.py:439: UserWarning: X does not have valid feature names, but LinearRegression was fitted with feature names\n",
            "  warnings.warn(\n"
          ]
        }
      ]
    },
    {
      "cell_type": "code",
      "source": [
        " print('Predicted Energy Consumption (point2):', pred_point3)"
      ],
      "metadata": {
        "colab": {
          "base_uri": "https://localhost:8080/"
        },
        "id": "9ttBJTjUJ6Bx",
        "outputId": "577e1c12-de1b-4419-d8be-7cb2597fdd9c"
      },
      "execution_count": null,
      "outputs": [
        {
          "output_type": "stream",
          "name": "stdout",
          "text": [
            "Predicted Energy Consumption (point2): [362.01955645]\n"
          ]
        }
      ]
    },
    {
      "cell_type": "markdown",
      "source": [
        "## MSE"
      ],
      "metadata": {
        "id": "Y-Gg8StjNTfa"
      }
    },
    {
      "cell_type": "code",
      "source": [
        "ytrue = [385, 425, 350]\n",
        "ypred = [423.63209416, 440.24067264, 362.01955645]\n",
        "\n",
        "df = pd.DataFrame({'ytrue': ytrue, 'ypred': ypred})\n",
        "print(df)\n"
      ],
      "metadata": {
        "colab": {
          "base_uri": "https://localhost:8080/"
        },
        "id": "RXO1cYBeMFoj",
        "outputId": "e2192e31-1c4a-417c-99f0-94c0f3cd7a78"
      },
      "execution_count": null,
      "outputs": [
        {
          "output_type": "stream",
          "name": "stdout",
          "text": [
            "   ytrue       ypred\n",
            "0    385  423.632094\n",
            "1    425  440.240673\n",
            "2    350  362.019556\n"
          ]
        }
      ]
    },
    {
      "cell_type": "code",
      "source": [
        "from sklearn.metrics import mean_squared_error\n",
        "ytrue = [385, 425, 350]\n",
        "ypred = [423.63209416, 440.24067264, 362.01955645]\n",
        "mse = mean_squared_error(ytrue, ypred)\n",
        "print(\"Mean Squared Error (MSE):\", mse)"
      ],
      "metadata": {
        "colab": {
          "base_uri": "https://localhost:8080/"
        },
        "id": "e4f7XmgHNxZE",
        "outputId": "56a24cf2-41e8-4483-b8f7-feb2dec6b5ec"
      },
      "execution_count": null,
      "outputs": [
        {
          "output_type": "stream",
          "name": "stdout",
          "text": [
            "Mean Squared Error (MSE): 623.0621796538293\n"
          ]
        }
      ]
    },
    {
      "cell_type": "code",
      "source": [],
      "metadata": {
        "id": "D4nO24d3NxWH"
      },
      "execution_count": null,
      "outputs": []
    },
    {
      "cell_type": "code",
      "source": [],
      "metadata": {
        "id": "qMW4_demNxLS"
      },
      "execution_count": null,
      "outputs": []
    },
    {
      "cell_type": "code",
      "source": [
        "from sklearn.neighbors import KNeighborsClassifier\n",
        "import pandas as pd\n",
        "\n",
        "# Create a DataFrame with the given data\n",
        "data = {\n",
        "    'Index': [1, 2, 3, 4, 5, 6, 7, 8, 9, 10, 11, 12, 13, 14, 15, 16, 17, 18, 19, 20],\n",
        "    'X1': [8.27, 1.58, 5.92, 9.44, 2.11, 4.71, 3.82, 6.98, 3.15, 8.9, 7.65, 9.83, 1.94, 7.13, 5.77, 4.36, 5.09, 3.42, 2.76, 9.6],\n",
        "    'X2': [5.59, 5.87, 5.87, 5.83, 5.57, 5.94, 5.84, 5.91, 5.42, 5.94, 5.77, 5.29, 5.36, 5.28, 5.47, 5.31, 5.65, 5.24, 5.71, 5.52],\n",
        "    'Y': ['+', '-', '-', '+', '-', '+', '+', '-', '-','-', '+', '-', '+', '-', '-', '+', '-', '+', '+', '-']\n",
        "}\n",
        "df = pd.DataFrame(data)\n",
        "\n",
        "# Split the data into X (features) and y (labels)\n",
        "X = df[['X1', 'X2']]\n",
        "y = df['Y']\n",
        "\n",
        "# Train the KNN classifier with K=1\n",
        "knn1 = KNeighborsClassifier(n_neighbors=1)\n",
        "knn1.fit(X, y)\n",
        "\n",
        "# Train the KNN classifier with K=3\n",
        "knn3 = KNeighborsClassifier(n_neighbors=3)\n",
        "knn3.fit(X, y)\n",
        "\n",
        "# Predict the labels for the given points\n",
        "point1 = [[7.81, 5.33]]\n",
        "point2 = [[9.43, 5.29]]\n",
        "\n",
        "label1_k1 = knn1.predict(point1)\n",
        "label1_k3 = knn3.predict(point1)\n",
        "\n",
        "label2_k1 = knn1.predict(point2)\n",
        "label2_k3 = knn3.predict(point2)\n",
        "\n",
        "# Find the indices of the closest neighbors\n",
        "distances, indices = knn1.kneighbors(point1)\n",
        "index1_k1 = indices[0][0]\n",
        "\n",
        "distances, indices = knn3.kneighbors(point1)\n",
        "index1_k3 = indices[0][-1]\n",
        "\n",
        "distances, indices = knn1.kneighbors(point2)\n",
        "index2_k1 = indices[0][0]\n",
        "\n",
        "distances, indices = knn3.kneighbors(point2)\n",
        "index2_k3 = indices[0][-1]\n",
        "\n",
        "\n"
      ],
      "metadata": {
        "id": "GpD6bwQ1Xry-",
        "colab": {
          "base_uri": "https://localhost:8080/"
        },
        "outputId": "71711cab-1832-4844-f8e0-16ac7010c4ab"
      },
      "execution_count": null,
      "outputs": [
        {
          "output_type": "stream",
          "name": "stderr",
          "text": [
            "/usr/local/lib/python3.10/dist-packages/sklearn/base.py:439: UserWarning: X does not have valid feature names, but KNeighborsClassifier was fitted with feature names\n",
            "  warnings.warn(\n",
            "/usr/local/lib/python3.10/dist-packages/sklearn/base.py:439: UserWarning: X does not have valid feature names, but KNeighborsClassifier was fitted with feature names\n",
            "  warnings.warn(\n",
            "/usr/local/lib/python3.10/dist-packages/sklearn/base.py:439: UserWarning: X does not have valid feature names, but KNeighborsClassifier was fitted with feature names\n",
            "  warnings.warn(\n",
            "/usr/local/lib/python3.10/dist-packages/sklearn/base.py:439: UserWarning: X does not have valid feature names, but KNeighborsClassifier was fitted with feature names\n",
            "  warnings.warn(\n",
            "/usr/local/lib/python3.10/dist-packages/sklearn/base.py:439: UserWarning: X does not have valid feature names, but KNeighborsClassifier was fitted with feature names\n",
            "  warnings.warn(\n",
            "/usr/local/lib/python3.10/dist-packages/sklearn/base.py:439: UserWarning: X does not have valid feature names, but KNeighborsClassifier was fitted with feature names\n",
            "  warnings.warn(\n",
            "/usr/local/lib/python3.10/dist-packages/sklearn/base.py:439: UserWarning: X does not have valid feature names, but KNeighborsClassifier was fitted with feature names\n",
            "  warnings.warn(\n",
            "/usr/local/lib/python3.10/dist-packages/sklearn/base.py:439: UserWarning: X does not have valid feature names, but KNeighborsClassifier was fitted with feature names\n",
            "  warnings.warn(\n"
          ]
        }
      ]
    },
    {
      "cell_type": "code",
      "source": [
        "# Print the results\n",
        "print(f'Predicted labels for point 1 (K=1): {label1_k1}')\n",
        "print(f'Predicted labels for point 1 (K=3): {label1_k3}')\n",
        "print(f'Predicted labels for point 2 (K=1): {label2_k1}')\n",
        "print(f'Predicted labels for point 2 (K=3): {label2_k3}')\n",
        "\n"
      ],
      "metadata": {
        "colab": {
          "base_uri": "https://localhost:8080/"
        },
        "id": "XVY39jLJVyMH",
        "outputId": "74a922dd-c2b5-43a3-fd49-1952060aa682"
      },
      "execution_count": null,
      "outputs": [
        {
          "output_type": "stream",
          "name": "stdout",
          "text": [
            "Predicted labels for point 1 (K=1): ['+']\n",
            "Predicted labels for point 1 (K=3): ['+']\n",
            "Predicted labels for point 2 (K=1): ['-']\n",
            "Predicted labels for point 2 (K=3): ['-']\n"
          ]
        }
      ]
    },
    {
      "cell_type": "code",
      "source": [
        "print(f'Index of the closest neighbors for point 1 (K=1): {index1_k1}')\n",
        "print(f'Index of the closest neighbors for point 1 (K=3): {index1_k3}')\n",
        "print(f'Index of the closest neighbors for point 2 (K=1): {index2_k1}')\n",
        "print(f'Index of the closest neighbors for point 2 (K=3): {index2_k3}')"
      ],
      "metadata": {
        "id": "Zd9jWKk8Xru6",
        "colab": {
          "base_uri": "https://localhost:8080/"
        },
        "outputId": "4de542dc-62c9-4f6f-adb9-bff8acded6be"
      },
      "execution_count": null,
      "outputs": [
        {
          "output_type": "stream",
          "name": "stdout",
          "text": [
            "Index of the closest neighbors for point 1 (K=1): 10\n",
            "Index of the closest neighbors for point 1 (K=3): 13\n",
            "Index of the closest neighbors for point 2 (K=1): 19\n",
            "Index of the closest neighbors for point 2 (K=3): 3\n"
          ]
        }
      ]
    },
    {
      "cell_type": "code",
      "source": [],
      "metadata": {
        "id": "o144FJoUVoW4"
      },
      "execution_count": null,
      "outputs": []
    }
  ]
}